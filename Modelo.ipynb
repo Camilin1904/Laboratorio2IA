{
 "cells": [
  {
   "cell_type": "markdown",
   "metadata": {},
   "source": [
    "Modelos de Regresion"
   ]
  },
  {
   "cell_type": "markdown",
   "metadata": {},
   "source": [
    "1. Regresion Lineal"
   ]
  },
  {
   "cell_type": "code",
   "execution_count": 43,
   "metadata": {},
   "outputs": [],
   "source": [
    "import pandas as pd\n",
    "from sklearn.model_selection import train_test_split\n",
    "from sklearn.linear_model import LinearRegression\n",
    "from sklearn.metrics import r2_score, mean_squared_error, accuracy_score, f1_score, recall_score, confusion_matrix, classification_report\n",
    "from sklearn.preprocessing import StandardScaler\n",
    "from sklearn.decomposition import PCA\n",
    "import matplotlib.pyplot as plt\n",
    "from sklearn.cluster import KMeans\n",
    "import numpy as np\n",
    "from sklearn.decomposition import KernelPCA\n",
    "from sklearn.linear_model import LogisticRegression\n",
    "import matplotlib.pyplot as plt\n",
    "import seaborn as sns\n",
    "import datetime as dt\n",
    "import xgboost as xgb\n",
    "from sklearn.svm import SVC, SVR\n",
    "from sklearn.model_selection import GridSearchCV\n",
    "\n",
    "db_ipsa = pd.read_csv('Clean_BD_IPSA_1940.csv')\n",
    "drop_ipsa = db_ipsa.drop(columns=[\"TCH\",\"Unnamed: 0\", \"Id\", \"NOME\",\"TAL\", \"sacarosa\"])\n",
    "tch_ipsa = db_ipsa[\"TCH\"]\n",
    "sac_ipsa = db_ipsa[\"sacarosa\"]\n",
    "catSac_ipsa =  db_ipsa[\"catSac\"]\n",
    "\n",
    "db_amarillos = pd.read_csv('Clean_HISTORICO_SUERTES_AMARILLOS.csv')\n",
    "drop_amarillos = db_amarillos.drop(columns=[\"Unnamed: 0\", \"Período\", \"TCHM\", \"TAHM\", \"TAH\", \"Ano Ult.Corte\", \"Ano Siembra\", \"TCH\", \"KATRHM\", \"%ATR\", \"%Sac.Caña\", \"Rdto\", \"%Sac.Muestreadora\"])\n",
    "tch_amarillos = db_amarillos[\"TCH\"]\n",
    "sac_amarillos = db_amarillos[\"%Sac.Caña\"]\n",
    "catSac_amarillos = db_amarillos[\"catSac\"]\n",
    "\n",
    "db_azules = pd.read_csv('Clean_HISTORICO_SUERTES_AZULES.csv')\n",
    "drop_azules = db_azules.drop(columns=[\"Unnamed: 0\", \"Período\", \"TCHM\", \"TAHM\", \"TAH\", \"Ano Ult.Corte\", \"Ano Siembra\", \"TCH\", \"KATRHM\", \"%ATR\", \"%Sac.Caña\", \"Rdto\", \"%Sac.Muestreadora\"])\n",
    "tch_azules = db_azules[\"TCH\"]\n",
    "sac_azules = db_azules[\"%Sac.Caña\"]\n",
    "catSac_azules = db_azules[\"catSac\"]"
   ]
  },
  {
   "cell_type": "markdown",
   "metadata": {},
   "source": [
    "# Regresion"
   ]
  },
  {
   "cell_type": "code",
   "execution_count": 2,
   "metadata": {},
   "outputs": [
    {
     "data": {
      "text/html": [
       "<div>\n",
       "<style scoped>\n",
       "    .dataframe tbody tr th:only-of-type {\n",
       "        vertical-align: middle;\n",
       "    }\n",
       "\n",
       "    .dataframe tbody tr th {\n",
       "        vertical-align: top;\n",
       "    }\n",
       "\n",
       "    .dataframe thead th {\n",
       "        text-align: right;\n",
       "    }\n",
       "</style>\n",
       "<table border=\"1\" class=\"dataframe\">\n",
       "  <thead>\n",
       "    <tr style=\"text-align: right;\">\n",
       "      <th></th>\n",
       "      <th>Unnamed: 0</th>\n",
       "      <th>Id</th>\n",
       "      <th>NOME</th>\n",
       "      <th>FAZ</th>\n",
       "      <th>TAL</th>\n",
       "      <th>dosismad</th>\n",
       "      <th>semsmad</th>\n",
       "      <th>edad</th>\n",
       "      <th>cortes</th>\n",
       "      <th>me</th>\n",
       "      <th>vejez</th>\n",
       "      <th>sacarosa</th>\n",
       "      <th>mes</th>\n",
       "      <th>periodo</th>\n",
       "      <th>TCH</th>\n",
       "      <th>lluvias</th>\n",
       "      <th>grupo_tenencia</th>\n",
       "      <th>pct_diatrea</th>\n",
       "      <th>catSac</th>\n",
       "    </tr>\n",
       "  </thead>\n",
       "  <tbody>\n",
       "    <tr>\n",
       "      <th>0</th>\n",
       "      <td>0</td>\n",
       "      <td>11</td>\n",
       "      <td>AMAIME SILCA</td>\n",
       "      <td>81291</td>\n",
       "      <td>40</td>\n",
       "      <td>0.8</td>\n",
       "      <td>8.3</td>\n",
       "      <td>12.3</td>\n",
       "      <td>4</td>\n",
       "      <td>12.7</td>\n",
       "      <td>2.4</td>\n",
       "      <td>14.0</td>\n",
       "      <td>12</td>\n",
       "      <td>202012</td>\n",
       "      <td>112</td>\n",
       "      <td>137</td>\n",
       "      <td>3</td>\n",
       "      <td>6.2</td>\n",
       "      <td>2</td>\n",
       "    </tr>\n",
       "    <tr>\n",
       "      <th>1</th>\n",
       "      <td>1</td>\n",
       "      <td>12</td>\n",
       "      <td>AMAIME SILCA</td>\n",
       "      <td>81291</td>\n",
       "      <td>41</td>\n",
       "      <td>0.8</td>\n",
       "      <td>6.3</td>\n",
       "      <td>11.2</td>\n",
       "      <td>2</td>\n",
       "      <td>7.8</td>\n",
       "      <td>2.3</td>\n",
       "      <td>13.0</td>\n",
       "      <td>3</td>\n",
       "      <td>201903</td>\n",
       "      <td>157</td>\n",
       "      <td>0</td>\n",
       "      <td>3</td>\n",
       "      <td>3.5</td>\n",
       "      <td>1</td>\n",
       "    </tr>\n",
       "    <tr>\n",
       "      <th>2</th>\n",
       "      <td>2</td>\n",
       "      <td>13</td>\n",
       "      <td>AMAIME SILCA</td>\n",
       "      <td>81291</td>\n",
       "      <td>41</td>\n",
       "      <td>0.6</td>\n",
       "      <td>7.9</td>\n",
       "      <td>12.2</td>\n",
       "      <td>3</td>\n",
       "      <td>8.8</td>\n",
       "      <td>1.8</td>\n",
       "      <td>13.3</td>\n",
       "      <td>3</td>\n",
       "      <td>202003</td>\n",
       "      <td>167</td>\n",
       "      <td>68</td>\n",
       "      <td>3</td>\n",
       "      <td>4.3</td>\n",
       "      <td>2</td>\n",
       "    </tr>\n",
       "    <tr>\n",
       "      <th>3</th>\n",
       "      <td>3</td>\n",
       "      <td>15</td>\n",
       "      <td>AMAIME SILCA</td>\n",
       "      <td>81291</td>\n",
       "      <td>43</td>\n",
       "      <td>0.8</td>\n",
       "      <td>6.6</td>\n",
       "      <td>13.1</td>\n",
       "      <td>1</td>\n",
       "      <td>6.1</td>\n",
       "      <td>2.5</td>\n",
       "      <td>13.4</td>\n",
       "      <td>3</td>\n",
       "      <td>201903</td>\n",
       "      <td>156</td>\n",
       "      <td>0</td>\n",
       "      <td>3</td>\n",
       "      <td>3.5</td>\n",
       "      <td>2</td>\n",
       "    </tr>\n",
       "    <tr>\n",
       "      <th>4</th>\n",
       "      <td>4</td>\n",
       "      <td>16</td>\n",
       "      <td>AMAIME SILCA</td>\n",
       "      <td>81291</td>\n",
       "      <td>43</td>\n",
       "      <td>0.6</td>\n",
       "      <td>8.1</td>\n",
       "      <td>12.2</td>\n",
       "      <td>2</td>\n",
       "      <td>7.9</td>\n",
       "      <td>2.1</td>\n",
       "      <td>14.0</td>\n",
       "      <td>3</td>\n",
       "      <td>202003</td>\n",
       "      <td>151</td>\n",
       "      <td>68</td>\n",
       "      <td>3</td>\n",
       "      <td>4.3</td>\n",
       "      <td>2</td>\n",
       "    </tr>\n",
       "  </tbody>\n",
       "</table>\n",
       "</div>"
      ],
      "text/plain": [
       "   Unnamed: 0  Id          NOME    FAZ TAL  dosismad  semsmad  edad  cortes  \\\n",
       "0           0  11  AMAIME SILCA  81291  40       0.8      8.3  12.3       4   \n",
       "1           1  12  AMAIME SILCA  81291  41       0.8      6.3  11.2       2   \n",
       "2           2  13  AMAIME SILCA  81291  41       0.6      7.9  12.2       3   \n",
       "3           3  15  AMAIME SILCA  81291  43       0.8      6.6  13.1       1   \n",
       "4           4  16  AMAIME SILCA  81291  43       0.6      8.1  12.2       2   \n",
       "\n",
       "     me  vejez  sacarosa  mes  periodo  TCH  lluvias  grupo_tenencia  \\\n",
       "0  12.7    2.4      14.0   12   202012  112      137               3   \n",
       "1   7.8    2.3      13.0    3   201903  157        0               3   \n",
       "2   8.8    1.8      13.3    3   202003  167       68               3   \n",
       "3   6.1    2.5      13.4    3   201903  156        0               3   \n",
       "4   7.9    2.1      14.0    3   202003  151       68               3   \n",
       "\n",
       "   pct_diatrea  catSac  \n",
       "0          6.2       2  \n",
       "1          3.5       1  \n",
       "2          4.3       2  \n",
       "3          3.5       2  \n",
       "4          4.3       2  "
      ]
     },
     "execution_count": 2,
     "metadata": {},
     "output_type": "execute_result"
    }
   ],
   "source": [
    "db_ipsa.head()"
   ]
  },
  {
   "cell_type": "code",
   "execution_count": 3,
   "metadata": {},
   "outputs": [
    {
     "data": {
      "text/html": [
       "<div>\n",
       "<style scoped>\n",
       "    .dataframe tbody tr th:only-of-type {\n",
       "        vertical-align: middle;\n",
       "    }\n",
       "\n",
       "    .dataframe tbody tr th {\n",
       "        vertical-align: top;\n",
       "    }\n",
       "\n",
       "    .dataframe thead th {\n",
       "        text-align: right;\n",
       "    }\n",
       "</style>\n",
       "<table border=\"1\" class=\"dataframe\">\n",
       "  <thead>\n",
       "    <tr style=\"text-align: right;\">\n",
       "      <th></th>\n",
       "      <th>Unnamed: 0</th>\n",
       "      <th>Período</th>\n",
       "      <th>Hacienda</th>\n",
       "      <th>Zona</th>\n",
       "      <th>Tenencia</th>\n",
       "      <th>Suerte</th>\n",
       "      <th>Suelo</th>\n",
       "      <th>Area Neta</th>\n",
       "      <th>Dist Km</th>\n",
       "      <th>Variedad</th>\n",
       "      <th>...</th>\n",
       "      <th>Precipitacion 0_3</th>\n",
       "      <th>Precipitacion Ciclo</th>\n",
       "      <th>Evaporacion 0-3</th>\n",
       "      <th>Evaporacion Ciclo</th>\n",
       "      <th>DS_indicator</th>\n",
       "      <th>catSac</th>\n",
       "      <th>Mes Siembra</th>\n",
       "      <th>Ano Siembra</th>\n",
       "      <th>Mes Ult.Corte</th>\n",
       "      <th>Ano Ult.Corte</th>\n",
       "    </tr>\n",
       "  </thead>\n",
       "  <tbody>\n",
       "    <tr>\n",
       "      <th>0</th>\n",
       "      <td>13972</td>\n",
       "      <td>202202</td>\n",
       "      <td>80101</td>\n",
       "      <td>0</td>\n",
       "      <td>11.0</td>\n",
       "      <td>0</td>\n",
       "      <td>0</td>\n",
       "      <td>0.240154</td>\n",
       "      <td>0.025522</td>\n",
       "      <td>0</td>\n",
       "      <td>...</td>\n",
       "      <td>510.8</td>\n",
       "      <td>1523.1</td>\n",
       "      <td>420.8</td>\n",
       "      <td>1744.2</td>\n",
       "      <td>True</td>\n",
       "      <td>0</td>\n",
       "      <td>11</td>\n",
       "      <td>2017</td>\n",
       "      <td>11</td>\n",
       "      <td>2022</td>\n",
       "    </tr>\n",
       "    <tr>\n",
       "      <th>1</th>\n",
       "      <td>13973</td>\n",
       "      <td>202202</td>\n",
       "      <td>80101</td>\n",
       "      <td>0</td>\n",
       "      <td>11.0</td>\n",
       "      <td>1</td>\n",
       "      <td>0</td>\n",
       "      <td>0.099385</td>\n",
       "      <td>0.025522</td>\n",
       "      <td>1</td>\n",
       "      <td>...</td>\n",
       "      <td>510.8</td>\n",
       "      <td>1523.1</td>\n",
       "      <td>420.8</td>\n",
       "      <td>1744.2</td>\n",
       "      <td>True</td>\n",
       "      <td>0</td>\n",
       "      <td>2</td>\n",
       "      <td>2021</td>\n",
       "      <td>2</td>\n",
       "      <td>2022</td>\n",
       "    </tr>\n",
       "    <tr>\n",
       "      <th>2</th>\n",
       "      <td>13974</td>\n",
       "      <td>202202</td>\n",
       "      <td>80102</td>\n",
       "      <td>0</td>\n",
       "      <td>11.0</td>\n",
       "      <td>2</td>\n",
       "      <td>1</td>\n",
       "      <td>0.202308</td>\n",
       "      <td>0.020882</td>\n",
       "      <td>0</td>\n",
       "      <td>...</td>\n",
       "      <td>468.1</td>\n",
       "      <td>1422.3</td>\n",
       "      <td>421.7</td>\n",
       "      <td>1716.2</td>\n",
       "      <td>True</td>\n",
       "      <td>0</td>\n",
       "      <td>4</td>\n",
       "      <td>2019</td>\n",
       "      <td>4</td>\n",
       "      <td>2022</td>\n",
       "    </tr>\n",
       "    <tr>\n",
       "      <th>3</th>\n",
       "      <td>13975</td>\n",
       "      <td>202202</td>\n",
       "      <td>80102</td>\n",
       "      <td>0</td>\n",
       "      <td>11.0</td>\n",
       "      <td>3</td>\n",
       "      <td>2</td>\n",
       "      <td>0.017692</td>\n",
       "      <td>0.020882</td>\n",
       "      <td>2</td>\n",
       "      <td>...</td>\n",
       "      <td>505.4</td>\n",
       "      <td>1530.9</td>\n",
       "      <td>423.4</td>\n",
       "      <td>1765.5</td>\n",
       "      <td>True</td>\n",
       "      <td>0</td>\n",
       "      <td>7</td>\n",
       "      <td>2016</td>\n",
       "      <td>7</td>\n",
       "      <td>2022</td>\n",
       "    </tr>\n",
       "    <tr>\n",
       "      <th>4</th>\n",
       "      <td>13976</td>\n",
       "      <td>202202</td>\n",
       "      <td>80102</td>\n",
       "      <td>0</td>\n",
       "      <td>11.0</td>\n",
       "      <td>4</td>\n",
       "      <td>3</td>\n",
       "      <td>0.316923</td>\n",
       "      <td>0.020882</td>\n",
       "      <td>2</td>\n",
       "      <td>...</td>\n",
       "      <td>459.5</td>\n",
       "      <td>1430.4</td>\n",
       "      <td>420.0</td>\n",
       "      <td>1719.1</td>\n",
       "      <td>True</td>\n",
       "      <td>0</td>\n",
       "      <td>10</td>\n",
       "      <td>2018</td>\n",
       "      <td>10</td>\n",
       "      <td>2022</td>\n",
       "    </tr>\n",
       "  </tbody>\n",
       "</table>\n",
       "<p>5 rows × 75 columns</p>\n",
       "</div>"
      ],
      "text/plain": [
       "   Unnamed: 0  Período  Hacienda  Zona  Tenencia  Suerte  Suelo  Area Neta  \\\n",
       "0       13972   202202     80101     0      11.0       0      0   0.240154   \n",
       "1       13973   202202     80101     0      11.0       1      0   0.099385   \n",
       "2       13974   202202     80102     0      11.0       2      1   0.202308   \n",
       "3       13975   202202     80102     0      11.0       3      2   0.017692   \n",
       "4       13976   202202     80102     0      11.0       4      3   0.316923   \n",
       "\n",
       "    Dist Km  Variedad  ...  Precipitacion 0_3  Precipitacion Ciclo  \\\n",
       "0  0.025522         0  ...              510.8               1523.1   \n",
       "1  0.025522         1  ...              510.8               1523.1   \n",
       "2  0.020882         0  ...              468.1               1422.3   \n",
       "3  0.020882         2  ...              505.4               1530.9   \n",
       "4  0.020882         2  ...              459.5               1430.4   \n",
       "\n",
       "   Evaporacion 0-3  Evaporacion Ciclo  DS_indicator  catSac  Mes Siembra  \\\n",
       "0            420.8             1744.2          True       0           11   \n",
       "1            420.8             1744.2          True       0            2   \n",
       "2            421.7             1716.2          True       0            4   \n",
       "3            423.4             1765.5          True       0            7   \n",
       "4            420.0             1719.1          True       0           10   \n",
       "\n",
       "   Ano Siembra  Mes Ult.Corte  Ano Ult.Corte  \n",
       "0         2017             11           2022  \n",
       "1         2021              2           2022  \n",
       "2         2019              4           2022  \n",
       "3         2016              7           2022  \n",
       "4         2018             10           2022  \n",
       "\n",
       "[5 rows x 75 columns]"
      ]
     },
     "execution_count": 3,
     "metadata": {},
     "output_type": "execute_result"
    }
   ],
   "source": [
    "db_amarillos.head()"
   ]
  },
  {
   "cell_type": "code",
   "execution_count": 4,
   "metadata": {},
   "outputs": [
    {
     "data": {
      "text/html": [
       "<div>\n",
       "<style scoped>\n",
       "    .dataframe tbody tr th:only-of-type {\n",
       "        vertical-align: middle;\n",
       "    }\n",
       "\n",
       "    .dataframe tbody tr th {\n",
       "        vertical-align: top;\n",
       "    }\n",
       "\n",
       "    .dataframe thead th {\n",
       "        text-align: right;\n",
       "    }\n",
       "</style>\n",
       "<table border=\"1\" class=\"dataframe\">\n",
       "  <thead>\n",
       "    <tr style=\"text-align: right;\">\n",
       "      <th></th>\n",
       "      <th>Unnamed: 0</th>\n",
       "      <th>Período</th>\n",
       "      <th>Hacienda</th>\n",
       "      <th>Zona</th>\n",
       "      <th>Tenencia</th>\n",
       "      <th>Suerte</th>\n",
       "      <th>Suelo</th>\n",
       "      <th>Area Neta</th>\n",
       "      <th>Dist Km</th>\n",
       "      <th>Variedad</th>\n",
       "      <th>...</th>\n",
       "      <th>Lluvias seis a nueve</th>\n",
       "      <th>Luvias 9 -FC</th>\n",
       "      <th>%Infest.Diatrea</th>\n",
       "      <th>Fosfato Jugo</th>\n",
       "      <th>DS_indicator</th>\n",
       "      <th>catSac</th>\n",
       "      <th>Mes Siembra</th>\n",
       "      <th>Ano Siembra</th>\n",
       "      <th>Mes Ult.Corte</th>\n",
       "      <th>Ano Ult.Corte</th>\n",
       "    </tr>\n",
       "  </thead>\n",
       "  <tbody>\n",
       "    <tr>\n",
       "      <th>0</th>\n",
       "      <td>0</td>\n",
       "      <td>201701</td>\n",
       "      <td>80493</td>\n",
       "      <td>0</td>\n",
       "      <td>51.0</td>\n",
       "      <td>0</td>\n",
       "      <td>0</td>\n",
       "      <td>0.092308</td>\n",
       "      <td>0.027742</td>\n",
       "      <td>0</td>\n",
       "      <td>...</td>\n",
       "      <td>102.0</td>\n",
       "      <td>482.0</td>\n",
       "      <td>0.0</td>\n",
       "      <td>0.001238</td>\n",
       "      <td>False</td>\n",
       "      <td>0</td>\n",
       "      <td>8</td>\n",
       "      <td>2010</td>\n",
       "      <td>1</td>\n",
       "      <td>2017</td>\n",
       "    </tr>\n",
       "    <tr>\n",
       "      <th>1</th>\n",
       "      <td>1</td>\n",
       "      <td>201701</td>\n",
       "      <td>81284</td>\n",
       "      <td>1</td>\n",
       "      <td>81.0</td>\n",
       "      <td>1</td>\n",
       "      <td>1</td>\n",
       "      <td>0.022308</td>\n",
       "      <td>0.164582</td>\n",
       "      <td>0</td>\n",
       "      <td>...</td>\n",
       "      <td>0.0</td>\n",
       "      <td>0.0</td>\n",
       "      <td>0.0</td>\n",
       "      <td>0.002658</td>\n",
       "      <td>False</td>\n",
       "      <td>0</td>\n",
       "      <td>1</td>\n",
       "      <td>2011</td>\n",
       "      <td>1</td>\n",
       "      <td>2017</td>\n",
       "    </tr>\n",
       "    <tr>\n",
       "      <th>2</th>\n",
       "      <td>2</td>\n",
       "      <td>201701</td>\n",
       "      <td>80203</td>\n",
       "      <td>1</td>\n",
       "      <td>31.0</td>\n",
       "      <td>2</td>\n",
       "      <td>2</td>\n",
       "      <td>0.126769</td>\n",
       "      <td>0.148387</td>\n",
       "      <td>1</td>\n",
       "      <td>...</td>\n",
       "      <td>113.0</td>\n",
       "      <td>457.0</td>\n",
       "      <td>0.0</td>\n",
       "      <td>0.001572</td>\n",
       "      <td>True</td>\n",
       "      <td>0</td>\n",
       "      <td>10</td>\n",
       "      <td>2011</td>\n",
       "      <td>1</td>\n",
       "      <td>2017</td>\n",
       "    </tr>\n",
       "    <tr>\n",
       "      <th>3</th>\n",
       "      <td>3</td>\n",
       "      <td>201701</td>\n",
       "      <td>81380</td>\n",
       "      <td>1</td>\n",
       "      <td>82.0</td>\n",
       "      <td>3</td>\n",
       "      <td>3</td>\n",
       "      <td>0.016154</td>\n",
       "      <td>0.429032</td>\n",
       "      <td>2</td>\n",
       "      <td>...</td>\n",
       "      <td>0.0</td>\n",
       "      <td>0.0</td>\n",
       "      <td>0.0</td>\n",
       "      <td>0.001934</td>\n",
       "      <td>False</td>\n",
       "      <td>0</td>\n",
       "      <td>3</td>\n",
       "      <td>2014</td>\n",
       "      <td>1</td>\n",
       "      <td>2017</td>\n",
       "    </tr>\n",
       "    <tr>\n",
       "      <th>4</th>\n",
       "      <td>4</td>\n",
       "      <td>201701</td>\n",
       "      <td>80298</td>\n",
       "      <td>2</td>\n",
       "      <td>31.0</td>\n",
       "      <td>4</td>\n",
       "      <td>4</td>\n",
       "      <td>0.069692</td>\n",
       "      <td>0.109677</td>\n",
       "      <td>3</td>\n",
       "      <td>...</td>\n",
       "      <td>188.0</td>\n",
       "      <td>284.0</td>\n",
       "      <td>0.0</td>\n",
       "      <td>0.001698</td>\n",
       "      <td>True</td>\n",
       "      <td>0</td>\n",
       "      <td>1</td>\n",
       "      <td>2013</td>\n",
       "      <td>1</td>\n",
       "      <td>2017</td>\n",
       "    </tr>\n",
       "  </tbody>\n",
       "</table>\n",
       "<p>5 rows × 59 columns</p>\n",
       "</div>"
      ],
      "text/plain": [
       "   Unnamed: 0  Período  Hacienda  Zona  Tenencia  Suerte  Suelo  Area Neta  \\\n",
       "0           0   201701     80493     0      51.0       0      0   0.092308   \n",
       "1           1   201701     81284     1      81.0       1      1   0.022308   \n",
       "2           2   201701     80203     1      31.0       2      2   0.126769   \n",
       "3           3   201701     81380     1      82.0       3      3   0.016154   \n",
       "4           4   201701     80298     2      31.0       4      4   0.069692   \n",
       "\n",
       "    Dist Km  Variedad  ...  Lluvias seis a nueve  Luvias 9 -FC  \\\n",
       "0  0.027742         0  ...                 102.0         482.0   \n",
       "1  0.164582         0  ...                   0.0           0.0   \n",
       "2  0.148387         1  ...                 113.0         457.0   \n",
       "3  0.429032         2  ...                   0.0           0.0   \n",
       "4  0.109677         3  ...                 188.0         284.0   \n",
       "\n",
       "   %Infest.Diatrea  Fosfato Jugo  DS_indicator  catSac  Mes Siembra  \\\n",
       "0              0.0      0.001238         False       0            8   \n",
       "1              0.0      0.002658         False       0            1   \n",
       "2              0.0      0.001572          True       0           10   \n",
       "3              0.0      0.001934         False       0            3   \n",
       "4              0.0      0.001698          True       0            1   \n",
       "\n",
       "   Ano Siembra  Mes Ult.Corte  Ano Ult.Corte  \n",
       "0         2010              1           2017  \n",
       "1         2011              1           2017  \n",
       "2         2011              1           2017  \n",
       "3         2014              1           2017  \n",
       "4         2013              1           2017  \n",
       "\n",
       "[5 rows x 59 columns]"
      ]
     },
     "execution_count": 4,
     "metadata": {},
     "output_type": "execute_result"
    }
   ],
   "source": [
    "db_azules.head()"
   ]
  },
  {
   "cell_type": "markdown",
   "metadata": {},
   "source": [
    "## Regresion Lineal"
   ]
  },
  {
   "cell_type": "markdown",
   "metadata": {},
   "source": [
    "### IPSA"
   ]
  },
  {
   "cell_type": "code",
   "execution_count": 9,
   "metadata": {},
   "outputs": [],
   "source": [
    "X_train, X_test, y_sacarosa_train, y_sacarosa_test = train_test_split(drop_ipsa, sac_ipsa, test_size=0.3, random_state=42)\n",
    "_, _, y_TCH_train, y_TCH_test = train_test_split(drop_ipsa, tch_ipsa, test_size=0.3, random_state=42)\n",
    "\n",
    "model_sacarosa = LinearRegression()\n",
    "model_sacarosa.fit(X_train, y_sacarosa_train)\n",
    "\n",
    "model_TCH = LinearRegression()\n",
    "model_TCH.fit(X_train, y_TCH_train)\n",
    "\n",
    "y_sacarosa_pred = model_sacarosa.predict(X_test)\n",
    "y_TCH_pred = model_TCH.predict(X_test)"
   ]
  },
  {
   "cell_type": "code",
   "execution_count": 10,
   "metadata": {},
   "outputs": [
    {
     "name": "stdout",
     "output_type": "stream",
     "text": [
      "Modelo para estimar el porcentaje de sacarosa:\n",
      "RMSE: 0.35747475877591134\n",
      "R^2: 0.7886483613495762\n",
      "\n",
      "Modelo para estimar el TCH:\n",
      "RMSE: 22.52950894113398\n",
      "R^2: 0.10093730853706484\n"
     ]
    },
    {
     "name": "stderr",
     "output_type": "stream",
     "text": [
      "/home/camilin/Documents/Icesi/Inteligencia Artificial/Laboratorio2IA/.venv/lib/python3.10/site-packages/sklearn/metrics/_regression.py:492: FutureWarning: 'squared' is deprecated in version 1.4 and will be removed in 1.6. To calculate the root mean squared error, use the function'root_mean_squared_error'.\n",
      "  warnings.warn(\n",
      "/home/camilin/Documents/Icesi/Inteligencia Artificial/Laboratorio2IA/.venv/lib/python3.10/site-packages/sklearn/metrics/_regression.py:492: FutureWarning: 'squared' is deprecated in version 1.4 and will be removed in 1.6. To calculate the root mean squared error, use the function'root_mean_squared_error'.\n",
      "  warnings.warn(\n"
     ]
    }
   ],
   "source": [
    "# Evaluar el rendimiento de los modelos\n",
    "sacarosa_rmse = mean_squared_error(y_sacarosa_test, y_sacarosa_pred, squared=False)\n",
    "sacarosa_r2 = r2_score(y_sacarosa_test, y_sacarosa_pred)\n",
    "\n",
    "TCH_rmse = mean_squared_error(y_TCH_test, y_TCH_pred, squared=False)\n",
    "TCH_r2 = r2_score(y_TCH_test, y_TCH_pred)\n",
    "\n",
    "# Resultados\n",
    "print(\"Modelo para estimar el porcentaje de sacarosa:\")\n",
    "print(f\"RMSE: {sacarosa_rmse}\")\n",
    "print(f\"R^2: {sacarosa_r2}\")\n",
    "\n",
    "print(\"\\nModelo para estimar el TCH:\")\n",
    "print(f\"RMSE: {TCH_rmse}\")\n",
    "print(f\"R^2: {TCH_r2}\")"
   ]
  },
  {
   "cell_type": "markdown",
   "metadata": {},
   "source": [
    "### Amarillos"
   ]
  },
  {
   "cell_type": "code",
   "execution_count": 11,
   "metadata": {},
   "outputs": [],
   "source": [
    "X_train, X_test, y_sacarosa_train, y_sacarosa_test = train_test_split(drop_amarillos, sac_amarillos, test_size=0.3, random_state=42)\n",
    "_, _, y_TCH_train, y_TCH_test = train_test_split(drop_amarillos, tch_amarillos, test_size=0.3, random_state=42)\n",
    "\n",
    "model_sacarosa = LinearRegression()\n",
    "model_sacarosa.fit(X_train, y_sacarosa_train)\n",
    "\n",
    "model_TCH = LinearRegression()\n",
    "model_TCH.fit(X_train, y_TCH_train)\n",
    "\n",
    "y_sacarosa_pred = model_sacarosa.predict(X_test)\n",
    "y_TCH_pred = model_TCH.predict(X_test)"
   ]
  },
  {
   "cell_type": "code",
   "execution_count": 12,
   "metadata": {},
   "outputs": [
    {
     "name": "stdout",
     "output_type": "stream",
     "text": [
      "Modelo para estimar el porcentaje de sacarosa:\n",
      "RMSE: 0.025018863017493082\n",
      "R^2: 0.8677953886431677\n",
      "\n",
      "Modelo para estimar el TCH:\n",
      "RMSE: 0.06580781783390942\n",
      "R^2: 0.6065466824748332\n"
     ]
    },
    {
     "name": "stderr",
     "output_type": "stream",
     "text": [
      "/home/camilin/Documents/Icesi/Inteligencia Artificial/Laboratorio2IA/.venv/lib/python3.10/site-packages/sklearn/metrics/_regression.py:492: FutureWarning: 'squared' is deprecated in version 1.4 and will be removed in 1.6. To calculate the root mean squared error, use the function'root_mean_squared_error'.\n",
      "  warnings.warn(\n",
      "/home/camilin/Documents/Icesi/Inteligencia Artificial/Laboratorio2IA/.venv/lib/python3.10/site-packages/sklearn/metrics/_regression.py:492: FutureWarning: 'squared' is deprecated in version 1.4 and will be removed in 1.6. To calculate the root mean squared error, use the function'root_mean_squared_error'.\n",
      "  warnings.warn(\n"
     ]
    }
   ],
   "source": [
    "# Evaluar el rendimiento de los modelos\n",
    "sacarosa_rmse = mean_squared_error(y_sacarosa_test, y_sacarosa_pred, squared=False)\n",
    "sacarosa_r2 = r2_score(y_sacarosa_test, y_sacarosa_pred)\n",
    "\n",
    "TCH_rmse = mean_squared_error(y_TCH_test, y_TCH_pred, squared=False)\n",
    "TCH_r2 = r2_score(y_TCH_test, y_TCH_pred)\n",
    "\n",
    "# Resultados\n",
    "print(\"Modelo para estimar el porcentaje de sacarosa:\")\n",
    "print(f\"RMSE: {sacarosa_rmse}\")\n",
    "print(f\"R^2: {sacarosa_r2}\")\n",
    "\n",
    "print(\"\\nModelo para estimar el TCH:\")\n",
    "print(f\"RMSE: {TCH_rmse}\")\n",
    "print(f\"R^2: {TCH_r2}\")"
   ]
  },
  {
   "cell_type": "markdown",
   "metadata": {},
   "source": [
    "Base de datos HISTORICO (Azul)"
   ]
  },
  {
   "cell_type": "code",
   "execution_count": 13,
   "metadata": {},
   "outputs": [],
   "source": [
    "X_train, X_test, y_sacarosa_train, y_sacarosa_test = train_test_split(drop_azules, sac_azules, test_size=0.3, random_state=42)\n",
    "_, _, y_TCH_train, y_TCH_test = train_test_split(drop_azules, tch_azules, test_size=0.3, random_state=42)\n",
    "\n",
    "model_sacarosa = LinearRegression()\n",
    "model_sacarosa.fit(X_train, y_sacarosa_train)\n",
    "\n",
    "model_TCH = LinearRegression()\n",
    "model_TCH.fit(X_train, y_TCH_train)\n",
    "\n",
    "y_sacarosa_pred = model_sacarosa.predict(X_test)\n",
    "y_TCH_pred = model_TCH.predict(X_test)"
   ]
  },
  {
   "cell_type": "code",
   "execution_count": 14,
   "metadata": {},
   "outputs": [
    {
     "name": "stdout",
     "output_type": "stream",
     "text": [
      "Modelo para estimar el porcentaje de sacarosa:\n",
      "RMSE: 0.03088154291025701\n",
      "R^2: 0.7547146054526862\n",
      "\n",
      "Modelo para estimar el TCH:\n",
      "RMSE: 0.06855292715115255\n",
      "R^2: 0.5983140604251017\n"
     ]
    },
    {
     "name": "stderr",
     "output_type": "stream",
     "text": [
      "/home/camilin/Documents/Icesi/Inteligencia Artificial/Laboratorio2IA/.venv/lib/python3.10/site-packages/sklearn/metrics/_regression.py:492: FutureWarning: 'squared' is deprecated in version 1.4 and will be removed in 1.6. To calculate the root mean squared error, use the function'root_mean_squared_error'.\n",
      "  warnings.warn(\n",
      "/home/camilin/Documents/Icesi/Inteligencia Artificial/Laboratorio2IA/.venv/lib/python3.10/site-packages/sklearn/metrics/_regression.py:492: FutureWarning: 'squared' is deprecated in version 1.4 and will be removed in 1.6. To calculate the root mean squared error, use the function'root_mean_squared_error'.\n",
      "  warnings.warn(\n"
     ]
    }
   ],
   "source": [
    "# Evaluar el rendimiento de los modelos\n",
    "sacarosa_rmse = mean_squared_error(y_sacarosa_test, y_sacarosa_pred, squared=False)\n",
    "sacarosa_r2 = r2_score(y_sacarosa_test, y_sacarosa_pred)\n",
    "\n",
    "TCH_rmse = mean_squared_error(y_TCH_test, y_TCH_pred, squared=False)\n",
    "TCH_r2 = r2_score(y_TCH_test, y_TCH_pred)\n",
    "\n",
    "# Resultados\n",
    "print(\"Modelo para estimar el porcentaje de sacarosa:\")\n",
    "print(f\"RMSE: {sacarosa_rmse}\")\n",
    "print(f\"R^2: {sacarosa_r2}\")\n",
    "\n",
    "print(\"\\nModelo para estimar el TCH:\")\n",
    "print(f\"RMSE: {TCH_rmse}\")\n",
    "print(f\"R^2: {TCH_r2}\")"
   ]
  },
  {
   "cell_type": "markdown",
   "metadata": {},
   "source": [
    "2. Xgboost"
   ]
  },
  {
   "cell_type": "code",
   "execution_count": 15,
   "metadata": {},
   "outputs": [],
   "source": [
    "X_train, X_test, y_sacarosa_train, y_sacarosa_test = train_test_split(drop_ipsa, sac_ipsa, test_size=0.3, random_state=42)\n",
    "_, _, y_TCH_train, y_TCH_test = train_test_split(drop_ipsa, tch_ipsa, test_size=0.3, random_state=42)\n",
    "\n",
    "xgbModelSac = xgb.XGBRegressor(objective=\"reg:squarederror\", gamma = 0.1, max_depth = 10, n_estimators = 500)\n",
    "xgbModelSac.fit(X = X_train, y = y_sacarosa_train)\n",
    "\n",
    "xgbModelTCH = xgb.XGBRegressor(objective=\"reg:squarederror\",  gamma = 0.1, max_depth = 10, n_estimators = 500)\n",
    "xgbModelTCH.fit(X_train, y_TCH_train)\n",
    "\n",
    "y_sacarosa_pred = xgbModelSac.predict(X_test)\n",
    "y_TCH_pred = xgbModelTCH.predict(X_test)"
   ]
  },
  {
   "cell_type": "code",
   "execution_count": 16,
   "metadata": {},
   "outputs": [
    {
     "name": "stdout",
     "output_type": "stream",
     "text": [
      "Modelo para estimar el porcentaje de sacarosa:\n",
      "RMSE: 0.371911775392448\n",
      "R^2: 0.7712322956916684\n",
      "\n",
      "Modelo para estimar el TCH:\n",
      "RMSE: 21.283648190650943\n",
      "R^2: 0.1976226568222046\n"
     ]
    },
    {
     "name": "stderr",
     "output_type": "stream",
     "text": [
      "/home/camilin/Documents/Icesi/Inteligencia Artificial/Laboratorio2IA/.venv/lib/python3.10/site-packages/sklearn/metrics/_regression.py:492: FutureWarning: 'squared' is deprecated in version 1.4 and will be removed in 1.6. To calculate the root mean squared error, use the function'root_mean_squared_error'.\n",
      "  warnings.warn(\n",
      "/home/camilin/Documents/Icesi/Inteligencia Artificial/Laboratorio2IA/.venv/lib/python3.10/site-packages/sklearn/metrics/_regression.py:492: FutureWarning: 'squared' is deprecated in version 1.4 and will be removed in 1.6. To calculate the root mean squared error, use the function'root_mean_squared_error'.\n",
      "  warnings.warn(\n"
     ]
    }
   ],
   "source": [
    "sacarosa_rmse = mean_squared_error(y_sacarosa_test, y_sacarosa_pred, squared=False)\n",
    "sacarosa_r2 = r2_score(y_sacarosa_test, y_sacarosa_pred)\n",
    "\n",
    "TCH_rmse = mean_squared_error(y_TCH_test, y_TCH_pred, squared=False)\n",
    "TCH_r2 = r2_score(y_TCH_test, y_TCH_pred)\n",
    "\n",
    "# Resultados\n",
    "print(\"Modelo para estimar el porcentaje de sacarosa:\")\n",
    "print(f\"RMSE: {sacarosa_rmse}\")\n",
    "print(f\"R^2: {sacarosa_r2}\")\n",
    "\n",
    "print(\"\\nModelo para estimar el TCH:\")\n",
    "print(f\"RMSE: {TCH_rmse}\")\n",
    "print(f\"R^2: {TCH_r2}\")"
   ]
  },
  {
   "cell_type": "code",
   "execution_count": 17,
   "metadata": {},
   "outputs": [],
   "source": [
    "X_train, X_test, y_sacarosa_train, y_sacarosa_test = train_test_split(drop_amarillos, sac_amarillos, test_size=0.3, random_state=42)\n",
    "_, _, y_TCH_train, y_TCH_test = train_test_split(drop_amarillos, tch_amarillos, test_size=0.3, random_state=42)\n",
    "\n",
    "xgbModelSac = xgb.XGBRegressor(objective=\"reg:squarederror\", gamma = 0.1, max_depth = 10, n_estimators = 500)\n",
    "xgbModelSac.fit(X = X_train, y = y_sacarosa_train)\n",
    "\n",
    "xgbModelTCH = xgb.XGBRegressor(objective=\"reg:squarederror\",  gamma = 0.1, max_depth = 10, n_estimators = 500)\n",
    "xgbModelTCH.fit(X_train, y_TCH_train)\n",
    "\n",
    "y_sacarosa_pred = xgbModelSac.predict(X_test)\n",
    "y_TCH_pred = xgbModelTCH.predict(X_test)"
   ]
  },
  {
   "cell_type": "code",
   "execution_count": 263,
   "metadata": {},
   "outputs": [
    {
     "name": "stdout",
     "output_type": "stream",
     "text": [
      "Modelo para estimar el porcentaje de sacarosa:\n",
      "RMSE: 0.02220427049586818\n",
      "R^2: 0.8681118398891551\n",
      "\n",
      "Modelo para estimar el TCH:\n",
      "RMSE: 0.04991744610933071\n",
      "R^2: 0.6925070529842082\n"
     ]
    },
    {
     "name": "stderr",
     "output_type": "stream",
     "text": [
      "/home/camilin/Documents/Icesi/Inteligencia Artificial/Laboratorio2IA/.venv/lib/python3.10/site-packages/sklearn/metrics/_regression.py:492: FutureWarning: 'squared' is deprecated in version 1.4 and will be removed in 1.6. To calculate the root mean squared error, use the function'root_mean_squared_error'.\n",
      "  warnings.warn(\n",
      "/home/camilin/Documents/Icesi/Inteligencia Artificial/Laboratorio2IA/.venv/lib/python3.10/site-packages/sklearn/metrics/_regression.py:492: FutureWarning: 'squared' is deprecated in version 1.4 and will be removed in 1.6. To calculate the root mean squared error, use the function'root_mean_squared_error'.\n",
      "  warnings.warn(\n"
     ]
    }
   ],
   "source": [
    "sacarosa_rmse = mean_squared_error(y_sacarosa_test, y_sacarosa_pred, squared=False)\n",
    "sacarosa_r2 = r2_score(y_sacarosa_test, y_sacarosa_pred)\n",
    "\n",
    "TCH_rmse = mean_squared_error(y_TCH_test, y_TCH_pred, squared=False)\n",
    "TCH_r2 = r2_score(y_TCH_test, y_TCH_pred)\n",
    "\n",
    "# Resultados\n",
    "print(\"Modelo para estimar el porcentaje de sacarosa:\")\n",
    "print(f\"RMSE: {sacarosa_rmse}\")\n",
    "print(f\"R^2: {sacarosa_r2}\")\n",
    "\n",
    "print(\"\\nModelo para estimar el TCH:\")\n",
    "print(f\"RMSE: {TCH_rmse}\")\n",
    "print(f\"R^2: {TCH_r2}\")"
   ]
  },
  {
   "cell_type": "code",
   "execution_count": 264,
   "metadata": {},
   "outputs": [],
   "source": [
    "X_train, X_test, y_sacarosa_train, y_sacarosa_test = train_test_split(drop_azules, sac_azules, test_size=0.3, random_state=42)\n",
    "_, _, y_TCH_train, y_TCH_test = train_test_split(drop_azules, tch_azules, test_size=0.3, random_state=42)\n",
    "\n",
    "xgbModelSac = xgb.XGBRegressor(objective=\"reg:squarederror\", gamma = 0.1, max_depth = 10, n_estimators = 500)\n",
    "xgbModelSac.fit(X = X_train, y = y_sacarosa_train)\n",
    "\n",
    "xgbModelTCH = xgb.XGBRegressor(objective=\"reg:squarederror\",  gamma = 0.1, max_depth = 10, n_estimators = 500)\n",
    "xgbModelTCH.fit(X_train, y_TCH_train)\n",
    "\n",
    "y_sacarosa_pred = xgbModelSac.predict(X_test)\n",
    "y_TCH_pred = xgbModelTCH.predict(X_test)"
   ]
  },
  {
   "cell_type": "code",
   "execution_count": 265,
   "metadata": {},
   "outputs": [
    {
     "name": "stdout",
     "output_type": "stream",
     "text": [
      "Modelo para estimar el porcentaje de sacarosa:\n",
      "RMSE: 0.01960596344164606\n",
      "R^2: 0.878612534914946\n",
      "\n",
      "Modelo para estimar el TCH:\n",
      "RMSE: 0.03399244499352093\n",
      "R^2: 0.873423164664734\n"
     ]
    },
    {
     "name": "stderr",
     "output_type": "stream",
     "text": [
      "/home/camilin/Documents/Icesi/Inteligencia Artificial/Laboratorio2IA/.venv/lib/python3.10/site-packages/sklearn/metrics/_regression.py:492: FutureWarning: 'squared' is deprecated in version 1.4 and will be removed in 1.6. To calculate the root mean squared error, use the function'root_mean_squared_error'.\n",
      "  warnings.warn(\n",
      "/home/camilin/Documents/Icesi/Inteligencia Artificial/Laboratorio2IA/.venv/lib/python3.10/site-packages/sklearn/metrics/_regression.py:492: FutureWarning: 'squared' is deprecated in version 1.4 and will be removed in 1.6. To calculate the root mean squared error, use the function'root_mean_squared_error'.\n",
      "  warnings.warn(\n"
     ]
    }
   ],
   "source": [
    "sacarosa_rmse = mean_squared_error(y_sacarosa_test, y_sacarosa_pred, squared=False)\n",
    "sacarosa_r2 = r2_score(y_sacarosa_test, y_sacarosa_pred)\n",
    "\n",
    "TCH_rmse = mean_squared_error(y_TCH_test, y_TCH_pred, squared=False)\n",
    "TCH_r2 = r2_score(y_TCH_test, y_TCH_pred)\n",
    "\n",
    "# Resultados\n",
    "print(\"Modelo para estimar el porcentaje de sacarosa:\")\n",
    "print(f\"RMSE: {sacarosa_rmse}\")\n",
    "print(f\"R^2: {sacarosa_r2}\")\n",
    "\n",
    "print(\"\\nModelo para estimar el TCH:\")\n",
    "print(f\"RMSE: {TCH_rmse}\")\n",
    "print(f\"R^2: {TCH_r2}\")"
   ]
  },
  {
   "cell_type": "markdown",
   "metadata": {},
   "source": [
    "3. SVM"
   ]
  },
  {
   "cell_type": "markdown",
   "metadata": {},
   "source": [
    "### IPSA"
   ]
  },
  {
   "cell_type": "code",
   "execution_count": 37,
   "metadata": {},
   "outputs": [
    {
     "name": "stdout",
     "output_type": "stream",
     "text": [
      "Sacarosa:  0.12401875585514754\n"
     ]
    }
   ],
   "source": [
    "# Normalize the features\n",
    "scaler = StandardScaler()\n",
    "X_scaled = scaler.fit_transform(drop_ipsa)\n",
    "\n",
    "# Split data into training and testing sets\n",
    "X_train, X_test, y_train, y_test = train_test_split(X_scaled, tch_ipsa, test_size=0.3, random_state=42)\n",
    "\n",
    "\n",
    "# Train the SVM model on the classified `%Sac.Caña`\n",
    "svm_model_sacarosa = SVR(kernel='rbf', gamma='scale', C=1)\n",
    "svm_model_sacarosa.fit(X_train, y_train)\n",
    "\n",
    "# Predictions and evaluation\n",
    "y_pred_sacarosa = svm_model_sacarosa.predict(X_test)\n",
    "\n",
    "accuracy_sacarosa = r2_score(y_test, y_pred_sacarosa)\n",
    "\n",
    "#report = classification_report(y_test, y_pred)\n",
    "\n",
    "print(\"Sacarosa: \",accuracy_sacarosa)"
   ]
  },
  {
   "cell_type": "code",
   "execution_count": 38,
   "metadata": {},
   "outputs": [
    {
     "name": "stdout",
     "output_type": "stream",
     "text": [
      "Sacarosa:  0.7537879655633267\n"
     ]
    }
   ],
   "source": [
    "# Normalize the features\n",
    "scaler = StandardScaler()\n",
    "X_scaled = scaler.fit_transform(drop_ipsa)\n",
    "\n",
    "# Split data into training and testing sets\n",
    "X_train, X_test, y_train, y_test = train_test_split(X_scaled, sac_ipsa, test_size=0.3, random_state=42)\n",
    "\n",
    "\n",
    "# Train the SVM model on the classified `%Sac.Caña`\n",
    "svm_model_sacarosa = SVR(kernel='rbf', gamma='scale', C=1)\n",
    "svm_model_sacarosa.fit(X_train, y_train)\n",
    "\n",
    "# Predictions and evaluation\n",
    "y_pred_sacarosa = svm_model_sacarosa.predict(X_test)\n",
    "\n",
    "accuracy_sacarosa = r2_score(y_test, y_pred_sacarosa)\n",
    "\n",
    "#report = classification_report(y_test, y_pred)\n",
    "\n",
    "print(\"Sacarosa: \",accuracy_sacarosa)"
   ]
  },
  {
   "cell_type": "markdown",
   "metadata": {},
   "source": [
    "### Amarillos"
   ]
  },
  {
   "cell_type": "code",
   "execution_count": 39,
   "metadata": {},
   "outputs": [
    {
     "name": "stdout",
     "output_type": "stream",
     "text": [
      "Sacarosa:  0.4922017083709599\n"
     ]
    }
   ],
   "source": [
    "# Normalize the features\n",
    "scaler = StandardScaler()\n",
    "X_scaled = scaler.fit_transform(drop_amarillos)\n",
    "\n",
    "# Split data into training and testing sets\n",
    "X_train, X_test, y_train, y_test = train_test_split(X_scaled, tch_amarillos, test_size=0.3, random_state=42)\n",
    "\n",
    "\n",
    "# Train the SVM model on the classified `%Sac.Caña`\n",
    "svm_model_sacarosa = SVR(kernel='rbf', gamma='scale', C=1)\n",
    "svm_model_sacarosa.fit(X_train, y_train)\n",
    "\n",
    "# Predictions and evaluation\n",
    "y_pred_sacarosa = svm_model_sacarosa.predict(X_test)\n",
    "\n",
    "accuracy_sacarosa = r2_score(y_test, y_pred_sacarosa)\n",
    "\n",
    "#report = classification_report(y_test, y_pred)\n",
    "\n",
    "print(\"Sacarosa: \",accuracy_sacarosa)"
   ]
  },
  {
   "cell_type": "code",
   "execution_count": 40,
   "metadata": {},
   "outputs": [
    {
     "name": "stdout",
     "output_type": "stream",
     "text": [
      "Sacarosa:  0.5837636240672641\n"
     ]
    }
   ],
   "source": [
    "# Normalize the features\n",
    "scaler = StandardScaler()\n",
    "X_scaled = scaler.fit_transform(drop_amarillos)\n",
    "\n",
    "# Split data into training and testing sets\n",
    "X_train, X_test, y_train, y_test = train_test_split(X_scaled, sac_amarillos, test_size=0.3, random_state=42)\n",
    "\n",
    "\n",
    "# Train the SVM model on the classified `%Sac.Caña`\n",
    "svm_model_sacarosa = SVR(kernel='rbf', gamma='scale', C=1)\n",
    "svm_model_sacarosa.fit(X_train, y_train)\n",
    "\n",
    "# Predictions and evaluation\n",
    "y_pred_sacarosa = svm_model_sacarosa.predict(X_test)\n",
    "\n",
    "accuracy_sacarosa = r2_score(y_test, y_pred_sacarosa)\n",
    "\n",
    "#report = classification_report(y_test, y_pred)\n",
    "\n",
    "print(\"Sacarosa: \",accuracy_sacarosa)"
   ]
  },
  {
   "cell_type": "markdown",
   "metadata": {},
   "source": [
    "### Azules"
   ]
  },
  {
   "cell_type": "code",
   "execution_count": 41,
   "metadata": {},
   "outputs": [
    {
     "name": "stdout",
     "output_type": "stream",
     "text": [
      "Sacarosa:  0.6068733878436419\n"
     ]
    }
   ],
   "source": [
    "# Normalize the features\n",
    "scaler = StandardScaler()\n",
    "X_scaled = scaler.fit_transform(drop_azules)\n",
    "\n",
    "# Split data into training and testing sets\n",
    "X_train, X_test, y_train, y_test = train_test_split(X_scaled, tch_azules, test_size=0.3, random_state=42)\n",
    "\n",
    "\n",
    "# Train the SVM model on the classified `%Sac.Caña`\n",
    "svm_model_sacarosa = SVR(kernel='rbf', gamma='scale', C=1)\n",
    "svm_model_sacarosa.fit(X_train, y_train)\n",
    "\n",
    "# Predictions and evaluation\n",
    "y_pred_sacarosa = svm_model_sacarosa.predict(X_test)\n",
    "\n",
    "accuracy_sacarosa = r2_score(y_test, y_pred_sacarosa)\n",
    "\n",
    "#report = classification_report(y_test, y_pred)\n",
    "\n",
    "print(\"Sacarosa: \",accuracy_sacarosa)"
   ]
  },
  {
   "cell_type": "code",
   "execution_count": 42,
   "metadata": {},
   "outputs": [
    {
     "name": "stdout",
     "output_type": "stream",
     "text": [
      "Sacarosa:  0.6495703033564595\n"
     ]
    }
   ],
   "source": [
    "# Normalize the features\n",
    "scaler = StandardScaler()\n",
    "X_scaled = scaler.fit_transform(drop_azules)\n",
    "\n",
    "# Split data into training and testing sets\n",
    "X_train, X_test, y_train, y_test = train_test_split(X_scaled, sac_azules, test_size=0.3, random_state=42)\n",
    "\n",
    "\n",
    "# Train the SVM model on the classified `%Sac.Caña`\n",
    "svm_model_sacarosa = SVR(kernel='rbf', gamma='scale', C=1)\n",
    "svm_model_sacarosa.fit(X_train, y_train)\n",
    "\n",
    "# Predictions and evaluation\n",
    "y_pred_sacarosa = svm_model_sacarosa.predict(X_test)\n",
    "\n",
    "accuracy_sacarosa = r2_score(y_test, y_pred_sacarosa)\n",
    "\n",
    "#report = classification_report(y_test, y_pred)\n",
    "\n",
    "print(\"Sacarosa: \",accuracy_sacarosa)"
   ]
  },
  {
   "cell_type": "markdown",
   "metadata": {},
   "source": [
    "Carmo, Lo de Logistica ya no completaria los 3 de regresion? en el codigo se esta usando la libreria de Regresion, o sera cambiarla?"
   ]
  },
  {
   "cell_type": "markdown",
   "metadata": {},
   "source": [
    "2. Clasificación"
   ]
  },
  {
   "cell_type": "markdown",
   "metadata": {},
   "source": [
    "1. Regresion Logistica"
   ]
  },
  {
   "cell_type": "markdown",
   "metadata": {},
   "source": [
    "Base de datos IPSA"
   ]
  },
  {
   "cell_type": "code",
   "execution_count": 18,
   "metadata": {},
   "outputs": [
    {
     "name": "stderr",
     "output_type": "stream",
     "text": [
      "/home/camilin/Documents/Icesi/Inteligencia Artificial/Laboratorio2IA/.venv/lib/python3.10/site-packages/sklearn/linear_model/_logistic.py:469: ConvergenceWarning: lbfgs failed to converge (status=1):\n",
      "STOP: TOTAL NO. of ITERATIONS REACHED LIMIT.\n",
      "\n",
      "Increase the number of iterations (max_iter) or scale the data as shown in:\n",
      "    https://scikit-learn.org/stable/modules/preprocessing.html\n",
      "Please also refer to the documentation for alternative solver options:\n",
      "    https://scikit-learn.org/stable/modules/linear_model.html#logistic-regression\n",
      "  n_iter_i = _check_optimize_result(\n"
     ]
    }
   ],
   "source": [
    "X_train, X_test, y_train, y_test = train_test_split(drop_ipsa, catSac_ipsa, test_size=0.3, random_state=42)\n",
    "\n",
    "model_logistic = LogisticRegression(max_iter=10000)\n",
    "model_logistic.fit(X_train, y_train)\n",
    "\n",
    "# Realizar predicciones\n",
    "y_pred = model_logistic.predict(X_test)"
   ]
  },
  {
   "cell_type": "code",
   "execution_count": 19,
   "metadata": {},
   "outputs": [
    {
     "name": "stdout",
     "output_type": "stream",
     "text": [
      "Exactitud del modelo: 0.9463955637707948\n",
      "\n",
      "Matriz de Confusión:\n",
      " [[167   0   0]\n",
      " [  1 144  14]\n",
      " [  0  14 201]]\n",
      "\n",
      "Reporte de Clasificación:\n",
      "               precision    recall  f1-score   support\n",
      "\n",
      "           0       0.99      1.00      1.00       167\n",
      "           1       0.91      0.91      0.91       159\n",
      "           2       0.93      0.93      0.93       215\n",
      "\n",
      "    accuracy                           0.95       541\n",
      "   macro avg       0.95      0.95      0.95       541\n",
      "weighted avg       0.95      0.95      0.95       541\n",
      "\n"
     ]
    }
   ],
   "source": [
    "# Evaluar el rendimiento del modelo\n",
    "accuracy = accuracy_score(y_test, y_pred)\n",
    "conf_matrix = confusion_matrix(y_test, y_pred)\n",
    "class_report = classification_report(y_test, y_pred)\n",
    "\n",
    "print(\"Exactitud del modelo:\", accuracy)\n",
    "print(\"\\nMatriz de Confusión:\\n\", conf_matrix)\n",
    "print(\"\\nReporte de Clasificación:\\n\", class_report)"
   ]
  },
  {
   "cell_type": "markdown",
   "metadata": {},
   "source": [
    "Base de datos HISTORICO (Amarillo)"
   ]
  },
  {
   "cell_type": "code",
   "execution_count": 22,
   "metadata": {},
   "outputs": [
    {
     "name": "stderr",
     "output_type": "stream",
     "text": [
      "/home/camilin/Documents/Icesi/Inteligencia Artificial/Laboratorio2IA/.venv/lib/python3.10/site-packages/sklearn/linear_model/_logistic.py:469: ConvergenceWarning: lbfgs failed to converge (status=1):\n",
      "STOP: TOTAL NO. of f AND g EVALUATIONS EXCEEDS LIMIT.\n",
      "\n",
      "Increase the number of iterations (max_iter) or scale the data as shown in:\n",
      "    https://scikit-learn.org/stable/modules/preprocessing.html\n",
      "Please also refer to the documentation for alternative solver options:\n",
      "    https://scikit-learn.org/stable/modules/linear_model.html#logistic-regression\n",
      "  n_iter_i = _check_optimize_result(\n"
     ]
    }
   ],
   "source": [
    "X_train, X_test, y_train, y_test = train_test_split(drop_amarillos, catSac_amarillos, test_size=0.3, random_state=42)\n",
    "\n",
    "model_logistic = LogisticRegression(max_iter=100000)\n",
    "model_logistic.fit(X_train, y_train)\n",
    "\n",
    "# Realizar predicciones\n",
    "y_pred = model_logistic.predict(X_test)"
   ]
  },
  {
   "cell_type": "code",
   "execution_count": 23,
   "metadata": {},
   "outputs": [
    {
     "name": "stdout",
     "output_type": "stream",
     "text": [
      "Exactitud del modelo: 0.6745426829268293\n",
      "\n",
      "Matriz de Confusión:\n",
      " [[804   3  28]\n",
      " [173   1  19]\n",
      " [202   2  80]]\n",
      "\n",
      "Reporte de Clasificación:\n",
      "               precision    recall  f1-score   support\n",
      "\n",
      "           0       0.68      0.96      0.80       835\n",
      "           1       0.17      0.01      0.01       193\n",
      "           2       0.63      0.28      0.39       284\n",
      "\n",
      "    accuracy                           0.67      1312\n",
      "   macro avg       0.49      0.42      0.40      1312\n",
      "weighted avg       0.59      0.67      0.59      1312\n",
      "\n"
     ]
    }
   ],
   "source": [
    "# Evaluar el rendimiento del modelo\n",
    "accuracy = accuracy_score(y_test, y_pred)\n",
    "conf_matrix = confusion_matrix(y_test, y_pred)\n",
    "class_report = classification_report(y_test, y_pred)\n",
    "\n",
    "print(\"Exactitud del modelo:\", accuracy)\n",
    "print(\"\\nMatriz de Confusión:\\n\", conf_matrix)\n",
    "print(\"\\nReporte de Clasificación:\\n\", class_report)"
   ]
  },
  {
   "cell_type": "markdown",
   "metadata": {},
   "source": [
    "Base de datos HISTORICO (Azul)"
   ]
  },
  {
   "cell_type": "code",
   "execution_count": 24,
   "metadata": {},
   "outputs": [
    {
     "name": "stderr",
     "output_type": "stream",
     "text": [
      "/home/camilin/Documents/Icesi/Inteligencia Artificial/Laboratorio2IA/.venv/lib/python3.10/site-packages/sklearn/linear_model/_logistic.py:469: ConvergenceWarning: lbfgs failed to converge (status=1):\n",
      "STOP: TOTAL NO. of ITERATIONS REACHED LIMIT.\n",
      "\n",
      "Increase the number of iterations (max_iter) or scale the data as shown in:\n",
      "    https://scikit-learn.org/stable/modules/preprocessing.html\n",
      "Please also refer to the documentation for alternative solver options:\n",
      "    https://scikit-learn.org/stable/modules/linear_model.html#logistic-regression\n",
      "  n_iter_i = _check_optimize_result(\n"
     ]
    }
   ],
   "source": [
    "X_train, X_test, y_train, y_test = train_test_split(drop_azules, catSac_azules, test_size=0.3, random_state=42)\n",
    "\n",
    "model_logistic = LogisticRegression(max_iter=10000)\n",
    "model_logistic.fit(X_train, y_train)\n",
    "\n",
    "# Realizar predicciones\n",
    "y_pred = model_logistic.predict(X_test)"
   ]
  },
  {
   "cell_type": "code",
   "execution_count": 25,
   "metadata": {},
   "outputs": [
    {
     "name": "stdout",
     "output_type": "stream",
     "text": [
      "Exactitud del modelo: 0.7544541626174279\n",
      "\n",
      "Matriz de Confusión:\n",
      " [[3349    2   42]\n",
      " [ 782   12  311]\n",
      " [ 356   23 1297]]\n",
      "\n",
      "Reporte de Clasificación:\n",
      "               precision    recall  f1-score   support\n",
      "\n",
      "           0       0.75      0.99      0.85      3393\n",
      "           1       0.32      0.01      0.02      1105\n",
      "           2       0.79      0.77      0.78      1676\n",
      "\n",
      "    accuracy                           0.75      6174\n",
      "   macro avg       0.62      0.59      0.55      6174\n",
      "weighted avg       0.68      0.75      0.68      6174\n",
      "\n"
     ]
    }
   ],
   "source": [
    "# Evaluar el rendimiento del modelo\n",
    "accuracy = accuracy_score(y_test, y_pred)\n",
    "conf_matrix = confusion_matrix(y_test, y_pred)\n",
    "class_report = classification_report(y_test, y_pred)\n",
    "\n",
    "print(\"Exactitud del modelo:\", accuracy)\n",
    "print(\"\\nMatriz de Confusión:\\n\", conf_matrix)\n",
    "print(\"\\nReporte de Clasificación:\\n\", class_report)"
   ]
  },
  {
   "cell_type": "markdown",
   "metadata": {},
   "source": [
    "Modelos de Clasificacion"
   ]
  },
  {
   "cell_type": "markdown",
   "metadata": {},
   "source": [
    "1. Xgboost"
   ]
  },
  {
   "cell_type": "code",
   "execution_count": 26,
   "metadata": {},
   "outputs": [
    {
     "name": "stdout",
     "output_type": "stream",
     "text": [
      "Precisión en el conjunto de prueba: 1.0\n"
     ]
    }
   ],
   "source": [
    "# Dividir en conjuntos de entrenamiento y prueba\n",
    "X_train, X_test, y_train, y_test = train_test_split(drop_ipsa, catSac_ipsa, test_size=0.2, random_state=42)\n",
    "\n",
    "# Configuración del clasificador XGBoost\n",
    "xgb_model = xgb.XGBClassifier(objective='multi:softmax', num_class=3, gamma = 0.1, max_depth = 10, n_estimators = 500)\n",
    "xgb_model.fit(X_train, y_train)\n",
    "\n",
    "y_pred = xgb_model.predict(X_test)\n",
    "\n",
    "# Calcular precisión\n",
    "accuracy = accuracy_score(y_test, y_pred)\n",
    "print(\"Precisión en el conjunto de prueba:\", accuracy)"
   ]
  },
  {
   "cell_type": "code",
   "execution_count": null,
   "metadata": {},
   "outputs": [
    {
     "name": "stdout",
     "output_type": "stream",
     "text": [
      "Varianza explicada por cada componente principal:\n",
      "Componente 1: 0.1691\n",
      "Componente 2: 0.1493\n",
      "Componente 3: 0.1083\n",
      "Componente 4: 0.0874\n",
      "Componente 5: 0.0847\n",
      "Componente 6: 0.0835\n",
      "Componente 7: 0.0747\n",
      "Componente 8: 0.0730\n",
      "Componente 9: 0.0587\n",
      "Componente 10: 0.0452\n",
      "Componente 11: 0.0384\n",
      "Componente 12: 0.0276\n"
     ]
    },
    {
     "data": {
      "image/png": "[encoded data removed]",
      "text/plain": [
       "<Figure size 800x500 with 1 Axes>"
      ]
     },
     "metadata": {},
     "output_type": "display_data"
    }
   ],
   "source": [
    "#Calcular la varianza explicada acumulada\n",
    "\n",
    "data_2=drop_ipsa\n",
    "X = StandardScaler().fit_transform(data_2)\n",
    "pca = PCA() # Reduce to 2 dimensions for visualization  # Reduce to 2 dimensions for visualization\n",
    "pca.fit(X)\n",
    "\n",
    "explained_variance_ratio = pca.explained_variance_ratio_\n",
    "cumulative_variance = np.cumsum(explained_variance_ratio)\n",
    "\n",
    "#Imprimir la varianza explicada por cada componente principal\n",
    "print(\"Varianza explicada por cada componente principal:\")\n",
    "for i, var_exp in enumerate(explained_variance_ratio):\n",
    "  if var_exp > 0.001:\n",
    "    print(f\"Componente {i + 1}: {var_exp:.4f}\")\n",
    "\n",
    "#Graficar la varianza acumulada\n",
    "plt.figure(figsize=(8, 5))\n",
    "plt.plot(range(1, len(cumulative_variance) + 1), cumulative_variance, marker='o', linestyle='--')\n",
    "plt.title('Varianza explicada acumulada por número de componentes principales')\n",
    "plt.xlabel('Número de componentes principales')\n",
    "plt.ylabel('Varianza explicada acumulada')\n",
    "plt.grid(True)\n",
    "plt.show()"
   ]
  },
  {
   "cell_type": "code",
   "execution_count": null,
   "metadata": {},
   "outputs": [
    {
     "name": "stdout",
     "output_type": "stream",
     "text": [
      "Precisión en el conjunto de prueba: 0.9409638554216867\n",
      "0.9409638554216867\n"
     ]
    }
   ],
   "source": [
    "X_train, X_test, y_train, y_test = train_test_split(drop_amarillos, catSac_amarillos, test_size=0.3, random_state=42)\n",
    "\n",
    "# Configuración del clasificador XGBoost\n",
    "xgb_model = xgb.XGBClassifier(objective='multi:softmax', num_class=3, gamma = 0.1, max_depth = 10, n_estimators = 500)\n",
    "xgb_model.fit(X_train, y_train)\n",
    "\n",
    "y_pred = xgb_model.predict(X_test)\n",
    "\n",
    "# Calcular precisión\n",
    "accuracy = accuracy_score(y_test, y_pred)\n",
    "\n",
    "recall = recall_score(y_test, y_pred, average=\"weighted\")\n",
    "print(\"Precisión en el conjunto de prueba:\", accuracy)\n",
    "print(recall)"
   ]
  },
  {
   "cell_type": "code",
   "execution_count": null,
   "metadata": {},
   "outputs": [
    {
     "name": "stdout",
     "output_type": "stream",
     "text": [
      "Varianza explicada por cada componente principal:\n",
      "Componente 1: 0.1523\n",
      "Componente 2: 0.0963\n",
      "Componente 3: 0.0695\n",
      "Componente 4: 0.0588\n",
      "Componente 5: 0.0509\n",
      "Componente 6: 0.0407\n",
      "Componente 7: 0.0383\n",
      "Componente 8: 0.0373\n",
      "Componente 9: 0.0359\n",
      "Componente 10: 0.0308\n",
      "Componente 11: 0.0291\n",
      "Componente 12: 0.0237\n",
      "Componente 13: 0.0210\n",
      "Componente 14: 0.0205\n",
      "Componente 15: 0.0179\n",
      "Componente 16: 0.0169\n",
      "Componente 17: 0.0167\n",
      "Componente 18: 0.0162\n",
      "Componente 19: 0.0158\n",
      "Componente 20: 0.0147\n",
      "Componente 21: 0.0131\n",
      "Componente 22: 0.0127\n",
      "Componente 23: 0.0125\n",
      "Componente 24: 0.0115\n",
      "Componente 25: 0.0114\n",
      "Componente 26: 0.0108\n",
      "Componente 27: 0.0107\n",
      "Componente 28: 0.0096\n",
      "Componente 29: 0.0092\n",
      "Componente 30: 0.0085\n",
      "Componente 31: 0.0080\n",
      "Componente 32: 0.0076\n",
      "Componente 33: 0.0065\n",
      "Componente 34: 0.0060\n",
      "Componente 35: 0.0058\n",
      "Componente 36: 0.0057\n",
      "Componente 37: 0.0051\n",
      "Componente 38: 0.0048\n",
      "Componente 39: 0.0045\n",
      "Componente 40: 0.0040\n",
      "Componente 41: 0.0034\n",
      "Componente 42: 0.0032\n",
      "Componente 43: 0.0029\n",
      "Componente 44: 0.0028\n",
      "Componente 45: 0.0025\n",
      "Componente 46: 0.0022\n",
      "Componente 47: 0.0021\n",
      "Componente 48: 0.0019\n",
      "Componente 49: 0.0017\n",
      "Componente 50: 0.0015\n",
      "Componente 51: 0.0013\n",
      "Componente 52: 0.0011\n",
      "Componente 53: 0.0010\n"
     ]
    },
    {
     "data": {
      "image/png": "[encoded data removed]",
      "text/plain": [
       "<Figure size 800x500 with 1 Axes>"
      ]
     },
     "metadata": {},
     "output_type": "display_data"
    }
   ],
   "source": [
    "#Calcular la varianza explicada acumulada\n",
    "\n",
    "data_2=drop_amarillos\n",
    "X = StandardScaler().fit_transform(data_2)\n",
    "pca = PCA() # Reduce to 2 dimensions for visualization  # Reduce to 2 dimensions for visualization\n",
    "pca.fit(X)\n",
    "\n",
    "explained_variance_ratio = pca.explained_variance_ratio_\n",
    "cumulative_variance = np.cumsum(explained_variance_ratio)\n",
    "\n",
    "#Imprimir la varianza explicada por cada componente principal\n",
    "print(\"Varianza explicada por cada componente principal:\")\n",
    "for i, var_exp in enumerate(explained_variance_ratio):\n",
    "  if var_exp > 0.001:\n",
    "    print(f\"Componente {i + 1}: {var_exp:.4f}\")\n",
    "\n",
    "#Graficar la varianza acumulada\n",
    "plt.figure(figsize=(8, 5))\n",
    "plt.plot(range(1, len(cumulative_variance) + 1), cumulative_variance, marker='o', linestyle='--')\n",
    "plt.title('Varianza explicada acumulada por número de componentes principales')\n",
    "plt.xlabel('Número de componentes principales')\n",
    "plt.ylabel('Varianza explicada acumulada')\n",
    "plt.grid(True)\n",
    "plt.show()"
   ]
  },
  {
   "cell_type": "code",
   "execution_count": null,
   "metadata": {},
   "outputs": [
    {
     "name": "stdout",
     "output_type": "stream",
     "text": [
      "Precisión en el conjunto de prueba: 0.9458360094198245\n"
     ]
    }
   ],
   "source": [
    "X_train, X_test, y_train, y_test = train_test_split(drop_azules, catSac_azules, test_size=0.3, random_state=42)\n",
    "\n",
    "# Configuración del clasificador XGBoost\n",
    "xgb_model = xgb.XGBClassifier(objective='multi:softmax', num_class=3, gamma = 0.1, max_depth = 5)\n",
    "xgb_model.fit(X_train, y_train)\n",
    "\n",
    "y_pred = xgb_model.predict(X_test)\n",
    "\n",
    "# Calcular precisión\n",
    "accuracy = accuracy_score(y_test, y_pred)\n",
    "print(\"Precisión en el conjunto de prueba:\", accuracy)"
   ]
  },
  {
   "cell_type": "code",
   "execution_count": null,
   "metadata": {},
   "outputs": [
    {
     "name": "stdout",
     "output_type": "stream",
     "text": [
      "Varianza explicada por cada componente principal:\n",
      "Componente 1: 0.1500\n",
      "Componente 2: 0.0867\n",
      "Componente 3: 0.0670\n",
      "Componente 4: 0.0535\n",
      "Componente 5: 0.0478\n",
      "Componente 6: 0.0456\n",
      "Componente 7: 0.0383\n",
      "Componente 8: 0.0361\n",
      "Componente 9: 0.0338\n",
      "Componente 10: 0.0308\n",
      "Componente 11: 0.0259\n",
      "Componente 12: 0.0253\n",
      "Componente 13: 0.0230\n",
      "Componente 14: 0.0227\n",
      "Componente 15: 0.0221\n",
      "Componente 16: 0.0218\n",
      "Componente 17: 0.0211\n",
      "Componente 18: 0.0189\n",
      "Componente 19: 0.0186\n",
      "Componente 20: 0.0174\n",
      "Componente 21: 0.0167\n",
      "Componente 22: 0.0163\n",
      "Componente 23: 0.0155\n",
      "Componente 24: 0.0148\n",
      "Componente 25: 0.0145\n",
      "Componente 26: 0.0133\n",
      "Componente 27: 0.0118\n",
      "Componente 28: 0.0113\n",
      "Componente 29: 0.0108\n",
      "Componente 30: 0.0091\n",
      "Componente 31: 0.0088\n",
      "Componente 32: 0.0084\n",
      "Componente 33: 0.0075\n",
      "Componente 34: 0.0070\n",
      "Componente 35: 0.0061\n",
      "Componente 36: 0.0059\n",
      "Componente 37: 0.0051\n",
      "Componente 38: 0.0045\n",
      "Componente 39: 0.0030\n",
      "Componente 40: 0.0017\n",
      "Componente 41: 0.0014\n"
     ]
    },
    {
     "data": {
      "image/png": "[encoded data removed]",
      "text/plain": [
       "<Figure size 800x500 with 1 Axes>"
      ]
     },
     "metadata": {},
     "output_type": "display_data"
    }
   ],
   "source": [
    "#Calcular la varianza explicada acumulada\n",
    "\n",
    "data_2=drop_azules\n",
    "X = StandardScaler().fit_transform(data_2)\n",
    "pca = PCA() # Reduce to 2 dimensions for visualization  # Reduce to 2 dimensions for visualization\n",
    "pca.fit(X)\n",
    "\n",
    "explained_variance_ratio = pca.explained_variance_ratio_\n",
    "cumulative_variance = np.cumsum(explained_variance_ratio)\n",
    "\n",
    "#Imprimir la varianza explicada por cada componente principal\n",
    "print(\"Varianza explicada por cada componente principal:\")\n",
    "for i, var_exp in enumerate(explained_variance_ratio):\n",
    "  if var_exp > 0.001:\n",
    "    print(f\"Componente {i + 1}: {var_exp:.4f}\")\n",
    "\n",
    "#Graficar la varianza acumulada\n",
    "plt.figure(figsize=(8, 5))\n",
    "plt.plot(range(1, len(cumulative_variance) + 1), cumulative_variance, marker='o', linestyle='--')\n",
    "plt.title('Varianza explicada acumulada por número de componentes principales')\n",
    "plt.xlabel('Número de componentes principales')\n",
    "plt.ylabel('Varianza explicada acumulada')\n",
    "plt.grid(True)\n",
    "plt.show()"
   ]
  },
  {
   "cell_type": "markdown",
   "metadata": {},
   "source": [
    "## SVM"
   ]
  },
  {
   "cell_type": "markdown",
   "metadata": {},
   "source": [
    "### Amarillos"
   ]
  },
  {
   "cell_type": "code",
   "execution_count": null,
   "metadata": {},
   "outputs": [
    {
     "name": "stdout",
     "output_type": "stream",
     "text": [
      "Sacarosa:  0.9801829268292683\n"
     ]
    }
   ],
   "source": [
    "# Sacarosa\n",
    "# Normalize the features\n",
    "scaler = StandardScaler()\n",
    "X_scaled = scaler.fit_transform(drop_amarillos)\n",
    "\n",
    "# Split data into training and testing sets\n",
    "X_train, X_test, y_train, y_test = train_test_split(X_scaled, catSac_amarillos, test_size=0.3, random_state=42)\n",
    "\n",
    "\n",
    "# Train the SVM model on the classified `%Sac.Caña`\n",
    "svm_model_sacarosa = SVC(kernel='rbf', gamma='scale', C=1)\n",
    "svm_model_sacarosa.fit(X_train, y_train)\n",
    "\n",
    "# Predictions and evaluation\n",
    "y_pred_sacarosa = svm_model_sacarosa.predict(X_test)\n",
    "\n",
    "accuracy_sacarosa = accuracy_score(y_test, y_pred_sacarosa)\n",
    "\n",
    "#report = classification_report(y_test, y_pred)\n",
    "\n",
    "print(\"Sacarosa: \",accuracy_sacarosa)"
   ]
  },
  {
   "cell_type": "markdown",
   "metadata": {},
   "source": [
    "### Azules"
   ]
  },
  {
   "cell_type": "code",
   "execution_count": null,
   "metadata": {},
   "outputs": [
    {
     "name": "stdout",
     "output_type": "stream",
     "text": [
      "Sacarosa:  0.9949789439585358\n"
     ]
    }
   ],
   "source": [
    "\n",
    "# Normalize the features\n",
    "scaler = StandardScaler()\n",
    "X_scaled = scaler.fit_transform(drop_azules)\n",
    "\n",
    "# Split data into training and testing sets\n",
    "X_train, X_test, y_train, y_test = train_test_split(X_scaled, catSac_azules, test_size=0.3, random_state=42)\n",
    "\n",
    "\n",
    "# Train the SVM model on the classified `%Sac.Caña`\n",
    "svm_model_sacarosa = SVC(kernel='rbf', gamma='scale', C=1)\n",
    "svm_model_sacarosa.fit(X_train, y_train)\n",
    "\n",
    "# Predictions and evaluation\n",
    "y_pred_sacarosa = svm_model_sacarosa.predict(X_test)\n",
    "\n",
    "accuracy_sacarosa = accuracy_score(y_test, y_pred_sacarosa)\n",
    "\n",
    "#report = classification_report(y_test, y_pred)\n",
    "\n",
    "print(\"Sacarosa: \",accuracy_sacarosa)"
   ]
  },
  {
   "cell_type": "markdown",
   "metadata": {},
   "source": [
    "### IPSA"
   ]
  },
  {
   "cell_type": "code",
   "execution_count": null,
   "metadata": {},
   "outputs": [
    {
     "name": "stdout",
     "output_type": "stream",
     "text": [
      "Sacarosa:  0.9963031423290203\n"
     ]
    }
   ],
   "source": [
    "# Normalize the features\n",
    "scaler = StandardScaler()\n",
    "X_scaled = scaler.fit_transform(drop_ipsa)\n",
    "\n",
    "# Split data into training and testing sets\n",
    "X_train, X_test, y_train, y_test = train_test_split(X_scaled, catSac_ipsa, test_size=0.3, random_state=42)\n",
    "\n",
    "\n",
    "# Train the SVM model on the classified `%Sac.Caña`\n",
    "svm_model_sacarosa = SVC(kernel='rbf', gamma='scale', C=1)\n",
    "svm_model_sacarosa.fit(X_train, y_train)\n",
    "\n",
    "# Predictions and evaluation\n",
    "y_pred_sacarosa = svm_model_sacarosa.predict(X_test)\n",
    "\n",
    "accuracy_sacarosa = accuracy_score(y_test, y_pred_sacarosa)\n",
    "\n",
    "#report = classification_report(y_test, y_pred)\n",
    "\n",
    "print(\"Sacarosa: \",accuracy_sacarosa)"
   ]
  }
 ],
 "metadata": {
  "kernelspec": {
   "display_name": ".venv",
   "language": "python",
   "name": "python3"
  },
  "language_info": {
   "codemirror_mode": {
    "name": "ipython",
    "version": 3
   },
   "file_extension": ".py",
   "mimetype": "text/x-python",
   "name": "python",
   "nbconvert_exporter": "python",
   "pygments_lexer": "ipython3",
   "version": "3.10.12"
  }
 },
 "nbformat": 4,
 "nbformat_minor": 2
}
