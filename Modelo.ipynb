{
 "cells": [
  {
   "cell_type": "markdown",
   "metadata": {},
   "source": [
    "Modelos de Regresion"
   ]
  },
  {
   "cell_type": "markdown",
   "metadata": {},
   "source": [
    "1. Regresion Lineal"
   ]
  },
  {
   "cell_type": "code",
   "execution_count": 38,
   "metadata": {},
   "outputs": [],
   "source": [
    "import pandas as pd\n",
    "from sklearn.model_selection import train_test_split\n",
    "from sklearn.linear_model import LinearRegression\n",
    "from sklearn.metrics import r2_score, mean_squared_error, accuracy_score, f1_score, recall_score, confusion_matrix, classification_report\n",
    "from sklearn.preprocessing import StandardScaler\n",
    "from sklearn.decomposition import PCA\n",
    "import matplotlib.pyplot as plt\n",
    "from sklearn.cluster import KMeans\n",
    "import numpy as np\n",
    "from sklearn.decomposition import KernelPCA\n",
    "from sklearn.linear_model import LogisticRegression\n",
    "import matplotlib.pyplot as plt\n",
    "import seaborn as sns\n",
    "import datetime as dt\n",
    "import xgboost as xgb\n",
    "from sklearn.svm import SVC, SVR\n",
    "from sklearn.model_selection import GridSearchCV\n",
    "\n",
    "db_ipsa = pd.read_csv('Clean_BD_IPSA_1940.csv')\n",
    "drop_ipsa = db_ipsa.drop(columns=[\"TCH\",\"Unnamed: 0\", \"Id\", \"NOME\",\"TAL\", \"sacarosa\", \"catSac\"])\n",
    "drop_ipsa_clean = db_ipsa.drop(columns=[\"Unnamed: 0\", \"Id\", \"NOME\",\"TAL\"])\n",
    "tch_ipsa = db_ipsa[\"TCH\"]\n",
    "sac_ipsa = db_ipsa[\"sacarosa\"]\n",
    "catSac_ipsa =  db_ipsa[\"catSac\"]\n",
    "\n",
    "db_amarillos = pd.read_csv('Clean_HISTORICO_SUERTES_AMARILLOS.csv')\n",
    "drop_amarillos = db_amarillos.drop(columns=[\"Unnamed: 0\", \"Período\", \"TCHM\", \"TAHM\", \"TAH\", \"Ano Ult.Corte\", \"Ano Siembra\", \"TCH\", \"KATRHM\", \"%ATR\", \"%Sac.Caña\", \"Rdto\", \"%Sac.Muestreadora\", \"catSac\"])\n",
    "drop_amarillos_clean = db_amarillos.drop(columns=[\"Unnamed: 0\", \"Período\", \"TCHM\", \"TAHM\", \"TAH\", \"Ano Ult.Corte\", \"Ano Siembra\", \"KATRHM\", \"%ATR\", \"Rdto\", \"%Sac.Muestreadora\"])\n",
    "tch_amarillos = db_amarillos[\"TCH\"]\n",
    "sac_amarillos = db_amarillos[\"%Sac.Caña\"]\n",
    "catSac_amarillos = db_amarillos[\"catSac\"]\n",
    "\n",
    "db_azules = pd.read_csv('Clean_HISTORICO_SUERTES_AZULES.csv')\n",
    "drop_azules = db_azules.drop(columns=[\"Unnamed: 0\", \"Período\", \"TCHM\", \"TAHM\", \"TAH\", \"Ano Ult.Corte\", \"Ano Siembra\", \"TCH\", \"KATRHM\", \"%ATR\", \"%Sac.Caña\", \"Rdto\", \"%Sac.Muestreadora\", \"catSac\"])\n",
    "drop_azules_clean = db_azules.drop(columns=[\"Unnamed: 0\", \"Período\", \"TCHM\", \"TAHM\", \"TAH\", \"Ano Ult.Corte\", \"Ano Siembra\", \"KATRHM\", \"%ATR\", \"Rdto\", \"%Sac.Muestreadora\"])\n",
    "tch_azules = db_azules[\"TCH\"]\n",
    "sac_azules = db_azules[\"%Sac.Caña\"]\n",
    "catSac_azules = db_azules[\"catSac\"]"
   ]
  },
  {
   "cell_type": "markdown",
   "metadata": {},
   "source": [
    "# Regresion"
   ]
  },
  {
   "cell_type": "code",
   "execution_count": 2,
   "metadata": {},
   "outputs": [
    {
     "data": {
      "text/html": [
       "<div>\n",
       "<style scoped>\n",
       "    .dataframe tbody tr th:only-of-type {\n",
       "        vertical-align: middle;\n",
       "    }\n",
       "\n",
       "    .dataframe tbody tr th {\n",
       "        vertical-align: top;\n",
       "    }\n",
       "\n",
       "    .dataframe thead th {\n",
       "        text-align: right;\n",
       "    }\n",
       "</style>\n",
       "<table border=\"1\" class=\"dataframe\">\n",
       "  <thead>\n",
       "    <tr style=\"text-align: right;\">\n",
       "      <th></th>\n",
       "      <th>Unnamed: 0</th>\n",
       "      <th>Id</th>\n",
       "      <th>NOME</th>\n",
       "      <th>FAZ</th>\n",
       "      <th>TAL</th>\n",
       "      <th>dosismad</th>\n",
       "      <th>semsmad</th>\n",
       "      <th>edad</th>\n",
       "      <th>cortes</th>\n",
       "      <th>me</th>\n",
       "      <th>vejez</th>\n",
       "      <th>sacarosa</th>\n",
       "      <th>mes</th>\n",
       "      <th>periodo</th>\n",
       "      <th>TCH</th>\n",
       "      <th>lluvias</th>\n",
       "      <th>grupo_tenencia</th>\n",
       "      <th>pct_diatrea</th>\n",
       "      <th>catSac</th>\n",
       "    </tr>\n",
       "  </thead>\n",
       "  <tbody>\n",
       "    <tr>\n",
       "      <th>0</th>\n",
       "      <td>0</td>\n",
       "      <td>11</td>\n",
       "      <td>AMAIME SILCA</td>\n",
       "      <td>81291</td>\n",
       "      <td>40</td>\n",
       "      <td>0.8</td>\n",
       "      <td>8.3</td>\n",
       "      <td>12.3</td>\n",
       "      <td>4</td>\n",
       "      <td>12.7</td>\n",
       "      <td>2.4</td>\n",
       "      <td>14.0</td>\n",
       "      <td>12</td>\n",
       "      <td>202012</td>\n",
       "      <td>112</td>\n",
       "      <td>137</td>\n",
       "      <td>3</td>\n",
       "      <td>6.2</td>\n",
       "      <td>2</td>\n",
       "    </tr>\n",
       "    <tr>\n",
       "      <th>1</th>\n",
       "      <td>1</td>\n",
       "      <td>12</td>\n",
       "      <td>AMAIME SILCA</td>\n",
       "      <td>81291</td>\n",
       "      <td>41</td>\n",
       "      <td>0.8</td>\n",
       "      <td>6.3</td>\n",
       "      <td>11.2</td>\n",
       "      <td>2</td>\n",
       "      <td>7.8</td>\n",
       "      <td>2.3</td>\n",
       "      <td>13.0</td>\n",
       "      <td>3</td>\n",
       "      <td>201903</td>\n",
       "      <td>157</td>\n",
       "      <td>0</td>\n",
       "      <td>3</td>\n",
       "      <td>3.5</td>\n",
       "      <td>1</td>\n",
       "    </tr>\n",
       "    <tr>\n",
       "      <th>2</th>\n",
       "      <td>2</td>\n",
       "      <td>13</td>\n",
       "      <td>AMAIME SILCA</td>\n",
       "      <td>81291</td>\n",
       "      <td>41</td>\n",
       "      <td>0.6</td>\n",
       "      <td>7.9</td>\n",
       "      <td>12.2</td>\n",
       "      <td>3</td>\n",
       "      <td>8.8</td>\n",
       "      <td>1.8</td>\n",
       "      <td>13.3</td>\n",
       "      <td>3</td>\n",
       "      <td>202003</td>\n",
       "      <td>167</td>\n",
       "      <td>68</td>\n",
       "      <td>3</td>\n",
       "      <td>4.3</td>\n",
       "      <td>2</td>\n",
       "    </tr>\n",
       "    <tr>\n",
       "      <th>3</th>\n",
       "      <td>3</td>\n",
       "      <td>15</td>\n",
       "      <td>AMAIME SILCA</td>\n",
       "      <td>81291</td>\n",
       "      <td>43</td>\n",
       "      <td>0.8</td>\n",
       "      <td>6.6</td>\n",
       "      <td>13.1</td>\n",
       "      <td>1</td>\n",
       "      <td>6.1</td>\n",
       "      <td>2.5</td>\n",
       "      <td>13.4</td>\n",
       "      <td>3</td>\n",
       "      <td>201903</td>\n",
       "      <td>156</td>\n",
       "      <td>0</td>\n",
       "      <td>3</td>\n",
       "      <td>3.5</td>\n",
       "      <td>2</td>\n",
       "    </tr>\n",
       "    <tr>\n",
       "      <th>4</th>\n",
       "      <td>4</td>\n",
       "      <td>16</td>\n",
       "      <td>AMAIME SILCA</td>\n",
       "      <td>81291</td>\n",
       "      <td>43</td>\n",
       "      <td>0.6</td>\n",
       "      <td>8.1</td>\n",
       "      <td>12.2</td>\n",
       "      <td>2</td>\n",
       "      <td>7.9</td>\n",
       "      <td>2.1</td>\n",
       "      <td>14.0</td>\n",
       "      <td>3</td>\n",
       "      <td>202003</td>\n",
       "      <td>151</td>\n",
       "      <td>68</td>\n",
       "      <td>3</td>\n",
       "      <td>4.3</td>\n",
       "      <td>2</td>\n",
       "    </tr>\n",
       "  </tbody>\n",
       "</table>\n",
       "</div>"
      ],
      "text/plain": [
       "   Unnamed: 0  Id          NOME    FAZ TAL  dosismad  semsmad  edad  cortes  \\\n",
       "0           0  11  AMAIME SILCA  81291  40       0.8      8.3  12.3       4   \n",
       "1           1  12  AMAIME SILCA  81291  41       0.8      6.3  11.2       2   \n",
       "2           2  13  AMAIME SILCA  81291  41       0.6      7.9  12.2       3   \n",
       "3           3  15  AMAIME SILCA  81291  43       0.8      6.6  13.1       1   \n",
       "4           4  16  AMAIME SILCA  81291  43       0.6      8.1  12.2       2   \n",
       "\n",
       "     me  vejez  sacarosa  mes  periodo  TCH  lluvias  grupo_tenencia  \\\n",
       "0  12.7    2.4      14.0   12   202012  112      137               3   \n",
       "1   7.8    2.3      13.0    3   201903  157        0               3   \n",
       "2   8.8    1.8      13.3    3   202003  167       68               3   \n",
       "3   6.1    2.5      13.4    3   201903  156        0               3   \n",
       "4   7.9    2.1      14.0    3   202003  151       68               3   \n",
       "\n",
       "   pct_diatrea  catSac  \n",
       "0          6.2       2  \n",
       "1          3.5       1  \n",
       "2          4.3       2  \n",
       "3          3.5       2  \n",
       "4          4.3       2  "
      ]
     },
     "execution_count": 2,
     "metadata": {},
     "output_type": "execute_result"
    }
   ],
   "source": [
    "db_ipsa.head()"
   ]
  },
  {
   "cell_type": "code",
   "execution_count": 3,
   "metadata": {},
   "outputs": [
    {
     "data": {
      "text/html": [
       "<div>\n",
       "<style scoped>\n",
       "    .dataframe tbody tr th:only-of-type {\n",
       "        vertical-align: middle;\n",
       "    }\n",
       "\n",
       "    .dataframe tbody tr th {\n",
       "        vertical-align: top;\n",
       "    }\n",
       "\n",
       "    .dataframe thead th {\n",
       "        text-align: right;\n",
       "    }\n",
       "</style>\n",
       "<table border=\"1\" class=\"dataframe\">\n",
       "  <thead>\n",
       "    <tr style=\"text-align: right;\">\n",
       "      <th></th>\n",
       "      <th>Unnamed: 0</th>\n",
       "      <th>Período</th>\n",
       "      <th>Hacienda</th>\n",
       "      <th>Zona</th>\n",
       "      <th>Tenencia</th>\n",
       "      <th>Suerte</th>\n",
       "      <th>Suelo</th>\n",
       "      <th>Area Neta</th>\n",
       "      <th>Dist Km</th>\n",
       "      <th>Variedad</th>\n",
       "      <th>...</th>\n",
       "      <th>Precipitacion 0_3</th>\n",
       "      <th>Precipitacion Ciclo</th>\n",
       "      <th>Evaporacion 0-3</th>\n",
       "      <th>Evaporacion Ciclo</th>\n",
       "      <th>DS_indicator</th>\n",
       "      <th>catSac</th>\n",
       "      <th>Mes Siembra</th>\n",
       "      <th>Ano Siembra</th>\n",
       "      <th>Mes Ult.Corte</th>\n",
       "      <th>Ano Ult.Corte</th>\n",
       "    </tr>\n",
       "  </thead>\n",
       "  <tbody>\n",
       "    <tr>\n",
       "      <th>0</th>\n",
       "      <td>13972</td>\n",
       "      <td>202202</td>\n",
       "      <td>80101</td>\n",
       "      <td>0</td>\n",
       "      <td>11.0</td>\n",
       "      <td>0</td>\n",
       "      <td>0</td>\n",
       "      <td>0.240154</td>\n",
       "      <td>0.025522</td>\n",
       "      <td>0</td>\n",
       "      <td>...</td>\n",
       "      <td>510.8</td>\n",
       "      <td>1523.1</td>\n",
       "      <td>420.8</td>\n",
       "      <td>1744.2</td>\n",
       "      <td>True</td>\n",
       "      <td>0</td>\n",
       "      <td>11</td>\n",
       "      <td>2017</td>\n",
       "      <td>11</td>\n",
       "      <td>2022</td>\n",
       "    </tr>\n",
       "    <tr>\n",
       "      <th>1</th>\n",
       "      <td>13973</td>\n",
       "      <td>202202</td>\n",
       "      <td>80101</td>\n",
       "      <td>0</td>\n",
       "      <td>11.0</td>\n",
       "      <td>1</td>\n",
       "      <td>0</td>\n",
       "      <td>0.099385</td>\n",
       "      <td>0.025522</td>\n",
       "      <td>1</td>\n",
       "      <td>...</td>\n",
       "      <td>510.8</td>\n",
       "      <td>1523.1</td>\n",
       "      <td>420.8</td>\n",
       "      <td>1744.2</td>\n",
       "      <td>True</td>\n",
       "      <td>0</td>\n",
       "      <td>2</td>\n",
       "      <td>2021</td>\n",
       "      <td>2</td>\n",
       "      <td>2022</td>\n",
       "    </tr>\n",
       "    <tr>\n",
       "      <th>2</th>\n",
       "      <td>13974</td>\n",
       "      <td>202202</td>\n",
       "      <td>80102</td>\n",
       "      <td>0</td>\n",
       "      <td>11.0</td>\n",
       "      <td>2</td>\n",
       "      <td>1</td>\n",
       "      <td>0.202308</td>\n",
       "      <td>0.020882</td>\n",
       "      <td>0</td>\n",
       "      <td>...</td>\n",
       "      <td>468.1</td>\n",
       "      <td>1422.3</td>\n",
       "      <td>421.7</td>\n",
       "      <td>1716.2</td>\n",
       "      <td>True</td>\n",
       "      <td>0</td>\n",
       "      <td>4</td>\n",
       "      <td>2019</td>\n",
       "      <td>4</td>\n",
       "      <td>2022</td>\n",
       "    </tr>\n",
       "    <tr>\n",
       "      <th>3</th>\n",
       "      <td>13975</td>\n",
       "      <td>202202</td>\n",
       "      <td>80102</td>\n",
       "      <td>0</td>\n",
       "      <td>11.0</td>\n",
       "      <td>3</td>\n",
       "      <td>2</td>\n",
       "      <td>0.017692</td>\n",
       "      <td>0.020882</td>\n",
       "      <td>2</td>\n",
       "      <td>...</td>\n",
       "      <td>505.4</td>\n",
       "      <td>1530.9</td>\n",
       "      <td>423.4</td>\n",
       "      <td>1765.5</td>\n",
       "      <td>True</td>\n",
       "      <td>0</td>\n",
       "      <td>7</td>\n",
       "      <td>2016</td>\n",
       "      <td>7</td>\n",
       "      <td>2022</td>\n",
       "    </tr>\n",
       "    <tr>\n",
       "      <th>4</th>\n",
       "      <td>13976</td>\n",
       "      <td>202202</td>\n",
       "      <td>80102</td>\n",
       "      <td>0</td>\n",
       "      <td>11.0</td>\n",
       "      <td>4</td>\n",
       "      <td>3</td>\n",
       "      <td>0.316923</td>\n",
       "      <td>0.020882</td>\n",
       "      <td>2</td>\n",
       "      <td>...</td>\n",
       "      <td>459.5</td>\n",
       "      <td>1430.4</td>\n",
       "      <td>420.0</td>\n",
       "      <td>1719.1</td>\n",
       "      <td>True</td>\n",
       "      <td>0</td>\n",
       "      <td>10</td>\n",
       "      <td>2018</td>\n",
       "      <td>10</td>\n",
       "      <td>2022</td>\n",
       "    </tr>\n",
       "  </tbody>\n",
       "</table>\n",
       "<p>5 rows × 75 columns</p>\n",
       "</div>"
      ],
      "text/plain": [
       "   Unnamed: 0  Período  Hacienda  Zona  Tenencia  Suerte  Suelo  Area Neta  \\\n",
       "0       13972   202202     80101     0      11.0       0      0   0.240154   \n",
       "1       13973   202202     80101     0      11.0       1      0   0.099385   \n",
       "2       13974   202202     80102     0      11.0       2      1   0.202308   \n",
       "3       13975   202202     80102     0      11.0       3      2   0.017692   \n",
       "4       13976   202202     80102     0      11.0       4      3   0.316923   \n",
       "\n",
       "    Dist Km  Variedad  ...  Precipitacion 0_3  Precipitacion Ciclo  \\\n",
       "0  0.025522         0  ...              510.8               1523.1   \n",
       "1  0.025522         1  ...              510.8               1523.1   \n",
       "2  0.020882         0  ...              468.1               1422.3   \n",
       "3  0.020882         2  ...              505.4               1530.9   \n",
       "4  0.020882         2  ...              459.5               1430.4   \n",
       "\n",
       "   Evaporacion 0-3  Evaporacion Ciclo  DS_indicator  catSac  Mes Siembra  \\\n",
       "0            420.8             1744.2          True       0           11   \n",
       "1            420.8             1744.2          True       0            2   \n",
       "2            421.7             1716.2          True       0            4   \n",
       "3            423.4             1765.5          True       0            7   \n",
       "4            420.0             1719.1          True       0           10   \n",
       "\n",
       "   Ano Siembra  Mes Ult.Corte  Ano Ult.Corte  \n",
       "0         2017             11           2022  \n",
       "1         2021              2           2022  \n",
       "2         2019              4           2022  \n",
       "3         2016              7           2022  \n",
       "4         2018             10           2022  \n",
       "\n",
       "[5 rows x 75 columns]"
      ]
     },
     "execution_count": 3,
     "metadata": {},
     "output_type": "execute_result"
    }
   ],
   "source": [
    "db_amarillos.head()"
   ]
  },
  {
   "cell_type": "code",
   "execution_count": 4,
   "metadata": {},
   "outputs": [
    {
     "data": {
      "text/html": [
       "<div>\n",
       "<style scoped>\n",
       "    .dataframe tbody tr th:only-of-type {\n",
       "        vertical-align: middle;\n",
       "    }\n",
       "\n",
       "    .dataframe tbody tr th {\n",
       "        vertical-align: top;\n",
       "    }\n",
       "\n",
       "    .dataframe thead th {\n",
       "        text-align: right;\n",
       "    }\n",
       "</style>\n",
       "<table border=\"1\" class=\"dataframe\">\n",
       "  <thead>\n",
       "    <tr style=\"text-align: right;\">\n",
       "      <th></th>\n",
       "      <th>Unnamed: 0</th>\n",
       "      <th>Período</th>\n",
       "      <th>Hacienda</th>\n",
       "      <th>Zona</th>\n",
       "      <th>Tenencia</th>\n",
       "      <th>Suerte</th>\n",
       "      <th>Suelo</th>\n",
       "      <th>Area Neta</th>\n",
       "      <th>Dist Km</th>\n",
       "      <th>Variedad</th>\n",
       "      <th>...</th>\n",
       "      <th>Lluvias seis a nueve</th>\n",
       "      <th>Luvias 9 -FC</th>\n",
       "      <th>%Infest.Diatrea</th>\n",
       "      <th>Fosfato Jugo</th>\n",
       "      <th>DS_indicator</th>\n",
       "      <th>catSac</th>\n",
       "      <th>Mes Siembra</th>\n",
       "      <th>Ano Siembra</th>\n",
       "      <th>Mes Ult.Corte</th>\n",
       "      <th>Ano Ult.Corte</th>\n",
       "    </tr>\n",
       "  </thead>\n",
       "  <tbody>\n",
       "    <tr>\n",
       "      <th>0</th>\n",
       "      <td>0</td>\n",
       "      <td>201701</td>\n",
       "      <td>80493</td>\n",
       "      <td>0</td>\n",
       "      <td>51.0</td>\n",
       "      <td>0</td>\n",
       "      <td>0</td>\n",
       "      <td>0.092308</td>\n",
       "      <td>0.027742</td>\n",
       "      <td>0</td>\n",
       "      <td>...</td>\n",
       "      <td>102.0</td>\n",
       "      <td>482.0</td>\n",
       "      <td>0.0</td>\n",
       "      <td>0.001238</td>\n",
       "      <td>False</td>\n",
       "      <td>2</td>\n",
       "      <td>8</td>\n",
       "      <td>2010</td>\n",
       "      <td>1</td>\n",
       "      <td>2017</td>\n",
       "    </tr>\n",
       "    <tr>\n",
       "      <th>1</th>\n",
       "      <td>1</td>\n",
       "      <td>201701</td>\n",
       "      <td>81284</td>\n",
       "      <td>1</td>\n",
       "      <td>81.0</td>\n",
       "      <td>1</td>\n",
       "      <td>1</td>\n",
       "      <td>0.022308</td>\n",
       "      <td>0.164582</td>\n",
       "      <td>0</td>\n",
       "      <td>...</td>\n",
       "      <td>0.0</td>\n",
       "      <td>0.0</td>\n",
       "      <td>0.0</td>\n",
       "      <td>0.002658</td>\n",
       "      <td>False</td>\n",
       "      <td>1</td>\n",
       "      <td>1</td>\n",
       "      <td>2011</td>\n",
       "      <td>1</td>\n",
       "      <td>2017</td>\n",
       "    </tr>\n",
       "    <tr>\n",
       "      <th>2</th>\n",
       "      <td>2</td>\n",
       "      <td>201701</td>\n",
       "      <td>80203</td>\n",
       "      <td>1</td>\n",
       "      <td>31.0</td>\n",
       "      <td>2</td>\n",
       "      <td>2</td>\n",
       "      <td>0.126769</td>\n",
       "      <td>0.148387</td>\n",
       "      <td>1</td>\n",
       "      <td>...</td>\n",
       "      <td>113.0</td>\n",
       "      <td>457.0</td>\n",
       "      <td>0.0</td>\n",
       "      <td>0.001572</td>\n",
       "      <td>True</td>\n",
       "      <td>0</td>\n",
       "      <td>10</td>\n",
       "      <td>2011</td>\n",
       "      <td>1</td>\n",
       "      <td>2017</td>\n",
       "    </tr>\n",
       "    <tr>\n",
       "      <th>3</th>\n",
       "      <td>3</td>\n",
       "      <td>201701</td>\n",
       "      <td>81380</td>\n",
       "      <td>1</td>\n",
       "      <td>82.0</td>\n",
       "      <td>3</td>\n",
       "      <td>3</td>\n",
       "      <td>0.016154</td>\n",
       "      <td>0.429032</td>\n",
       "      <td>2</td>\n",
       "      <td>...</td>\n",
       "      <td>0.0</td>\n",
       "      <td>0.0</td>\n",
       "      <td>0.0</td>\n",
       "      <td>0.001934</td>\n",
       "      <td>False</td>\n",
       "      <td>0</td>\n",
       "      <td>3</td>\n",
       "      <td>2014</td>\n",
       "      <td>1</td>\n",
       "      <td>2017</td>\n",
       "    </tr>\n",
       "    <tr>\n",
       "      <th>4</th>\n",
       "      <td>4</td>\n",
       "      <td>201701</td>\n",
       "      <td>80298</td>\n",
       "      <td>2</td>\n",
       "      <td>31.0</td>\n",
       "      <td>4</td>\n",
       "      <td>4</td>\n",
       "      <td>0.069692</td>\n",
       "      <td>0.109677</td>\n",
       "      <td>3</td>\n",
       "      <td>...</td>\n",
       "      <td>188.0</td>\n",
       "      <td>284.0</td>\n",
       "      <td>0.0</td>\n",
       "      <td>0.001698</td>\n",
       "      <td>True</td>\n",
       "      <td>0</td>\n",
       "      <td>1</td>\n",
       "      <td>2013</td>\n",
       "      <td>1</td>\n",
       "      <td>2017</td>\n",
       "    </tr>\n",
       "  </tbody>\n",
       "</table>\n",
       "<p>5 rows × 59 columns</p>\n",
       "</div>"
      ],
      "text/plain": [
       "   Unnamed: 0  Período  Hacienda  Zona  Tenencia  Suerte  Suelo  Area Neta  \\\n",
       "0           0   201701     80493     0      51.0       0      0   0.092308   \n",
       "1           1   201701     81284     1      81.0       1      1   0.022308   \n",
       "2           2   201701     80203     1      31.0       2      2   0.126769   \n",
       "3           3   201701     81380     1      82.0       3      3   0.016154   \n",
       "4           4   201701     80298     2      31.0       4      4   0.069692   \n",
       "\n",
       "    Dist Km  Variedad  ...  Lluvias seis a nueve  Luvias 9 -FC  \\\n",
       "0  0.027742         0  ...                 102.0         482.0   \n",
       "1  0.164582         0  ...                   0.0           0.0   \n",
       "2  0.148387         1  ...                 113.0         457.0   \n",
       "3  0.429032         2  ...                   0.0           0.0   \n",
       "4  0.109677         3  ...                 188.0         284.0   \n",
       "\n",
       "   %Infest.Diatrea  Fosfato Jugo  DS_indicator  catSac  Mes Siembra  \\\n",
       "0              0.0      0.001238         False       2            8   \n",
       "1              0.0      0.002658         False       1            1   \n",
       "2              0.0      0.001572          True       0           10   \n",
       "3              0.0      0.001934         False       0            3   \n",
       "4              0.0      0.001698          True       0            1   \n",
       "\n",
       "   Ano Siembra  Mes Ult.Corte  Ano Ult.Corte  \n",
       "0         2010              1           2017  \n",
       "1         2011              1           2017  \n",
       "2         2011              1           2017  \n",
       "3         2014              1           2017  \n",
       "4         2013              1           2017  \n",
       "\n",
       "[5 rows x 59 columns]"
      ]
     },
     "execution_count": 4,
     "metadata": {},
     "output_type": "execute_result"
    }
   ],
   "source": [
    "db_azules.head()"
   ]
  },
  {
   "cell_type": "markdown",
   "metadata": {},
   "source": [
    "## Regresion Lineal"
   ]
  },
  {
   "cell_type": "markdown",
   "metadata": {},
   "source": [
    "### IPSA"
   ]
  },
  {
   "cell_type": "code",
   "execution_count": 79,
   "metadata": {},
   "outputs": [],
   "source": [
    "X_train, X_test, y_sacarosa_train, y_sacarosa_test = train_test_split(drop_ipsa, sac_ipsa, test_size=0.3, random_state=42)\n",
    "_, _, y_TCH_train, y_TCH_test = train_test_split(drop_ipsa, tch_ipsa, test_size=0.3, random_state=42)\n",
    "\n",
    "model_sacarosa = LinearRegression()\n",
    "model_sacarosa.fit(X_train, y_sacarosa_train)\n",
    "\n",
    "model_TCH = LinearRegression()\n",
    "model_TCH.fit(X_train, y_TCH_train)\n",
    "\n",
    "y_sacarosa_pred = model_sacarosa.predict(X_test)\n",
    "y_TCH_pred = model_TCH.predict(X_test)"
   ]
  },
  {
   "cell_type": "code",
   "execution_count": 80,
   "metadata": {},
   "outputs": [
    {
     "name": "stdout",
     "output_type": "stream",
     "text": [
      "Modelo para estimar el porcentaje de sacarosa:\n",
      "RMSE: 0.6961809657167379\n",
      "R^2: 0.1983973468814605\n",
      "\n",
      "Modelo para estimar el TCH:\n",
      "RMSE: 22.849349262782045\n",
      "R^2: 0.07522901191601272\n"
     ]
    }
   ],
   "source": [
    "# Evaluar el rendimiento de los modelos\n",
    "sacarosa_rmse = mean_squared_error(y_sacarosa_test, y_sacarosa_pred, squared=False)\n",
    "sacarosa_r2 = r2_score(y_sacarosa_test, y_sacarosa_pred)\n",
    "\n",
    "TCH_rmse = mean_squared_error(y_TCH_test, y_TCH_pred, squared=False)\n",
    "TCH_r2 = r2_score(y_TCH_test, y_TCH_pred)\n",
    "\n",
    "# Resultados\n",
    "print(\"Modelo para estimar el porcentaje de sacarosa:\")\n",
    "print(f\"RMSE: {sacarosa_rmse}\")\n",
    "print(f\"R^2: {sacarosa_r2}\")\n",
    "\n",
    "print(\"\\nModelo para estimar el TCH:\")\n",
    "print(f\"RMSE: {TCH_rmse}\")\n",
    "print(f\"R^2: {TCH_r2}\")"
   ]
  },
  {
   "cell_type": "markdown",
   "metadata": {},
   "source": [
    "### Amarillos"
   ]
  },
  {
   "cell_type": "code",
   "execution_count": 81,
   "metadata": {},
   "outputs": [],
   "source": [
    "X_train, X_test, y_sacarosa_train, y_sacarosa_test = train_test_split(drop_amarillos, sac_amarillos, test_size=0.3, random_state=42)\n",
    "_, _, y_TCH_train, y_TCH_test = train_test_split(drop_amarillos, tch_amarillos, test_size=0.3, random_state=42)\n",
    "\n",
    "model_sacarosa = LinearRegression()\n",
    "model_sacarosa.fit(X_train, y_sacarosa_train)\n",
    "\n",
    "model_TCH = LinearRegression()\n",
    "model_TCH.fit(X_train, y_TCH_train)\n",
    "\n",
    "y_sacarosa_pred = model_sacarosa.predict(X_test)\n",
    "y_TCH_pred = model_TCH.predict(X_test)"
   ]
  },
  {
   "cell_type": "code",
   "execution_count": 82,
   "metadata": {},
   "outputs": [
    {
     "name": "stdout",
     "output_type": "stream",
     "text": [
      "Modelo para estimar el porcentaje de sacarosa:\n",
      "RMSE: 0.02501886301759522\n",
      "R^2: 0.8677953886420884\n",
      "\n",
      "Modelo para estimar el TCH:\n",
      "RMSE: 0.06580781783338181\n",
      "R^2: 0.6065466824811421\n"
     ]
    }
   ],
   "source": [
    "# Evaluar el rendimiento de los modelos\n",
    "sacarosa_rmse = mean_squared_error(y_sacarosa_test, y_sacarosa_pred, squared=False)\n",
    "sacarosa_r2 = r2_score(y_sacarosa_test, y_sacarosa_pred)\n",
    "\n",
    "TCH_rmse = mean_squared_error(y_TCH_test, y_TCH_pred, squared=False)\n",
    "TCH_r2 = r2_score(y_TCH_test, y_TCH_pred)\n",
    "\n",
    "# Resultados\n",
    "print(\"Modelo para estimar el porcentaje de sacarosa:\")\n",
    "print(f\"RMSE: {sacarosa_rmse}\")\n",
    "print(f\"R^2: {sacarosa_r2}\")\n",
    "\n",
    "print(\"\\nModelo para estimar el TCH:\")\n",
    "print(f\"RMSE: {TCH_rmse}\")\n",
    "print(f\"R^2: {TCH_r2}\")"
   ]
  },
  {
   "cell_type": "markdown",
   "metadata": {},
   "source": [
    "### Azul"
   ]
  },
  {
   "cell_type": "code",
   "execution_count": 83,
   "metadata": {},
   "outputs": [],
   "source": [
    "X_train, X_test, y_sacarosa_train, y_sacarosa_test = train_test_split(drop_azules, sac_azules, test_size=0.3, random_state=42)\n",
    "_, _, y_TCH_train, y_TCH_test = train_test_split(drop_azules, tch_azules, test_size=0.3, random_state=42)\n",
    "\n",
    "model_sacarosa = LinearRegression()\n",
    "model_sacarosa.fit(X_train, y_sacarosa_train)\n",
    "\n",
    "model_TCH = LinearRegression()\n",
    "model_TCH.fit(X_train, y_TCH_train)\n",
    "\n",
    "y_sacarosa_pred = model_sacarosa.predict(X_test)\n",
    "y_TCH_pred = model_TCH.predict(X_test)"
   ]
  },
  {
   "cell_type": "code",
   "execution_count": 85,
   "metadata": {},
   "outputs": [
    {
     "name": "stdout",
     "output_type": "stream",
     "text": [
      "Modelo para estimar el porcentaje de sacarosa:\n",
      "RMSE: 0.030881542910262127\n",
      "R^2: 0.7547146054526048\n",
      "\n",
      "Modelo para estimar el TCH:\n",
      "RMSE: 0.06855292715116766\n",
      "R^2: 0.5983140604249246\n"
     ]
    }
   ],
   "source": [
    "# Evaluar el rendimiento de los modelos\n",
    "sacarosa_rmse = mean_squared_error(y_sacarosa_test, y_sacarosa_pred, squared=False)\n",
    "sacarosa_r2 = r2_score(y_sacarosa_test, y_sacarosa_pred)\n",
    "\n",
    "TCH_rmse = mean_squared_error(y_TCH_test, y_TCH_pred, squared=False)\n",
    "TCH_r2 = r2_score(y_TCH_test, y_TCH_pred)\n",
    "\n",
    "# Resultados\n",
    "print(\"Modelo para estimar el porcentaje de sacarosa:\")\n",
    "print(f\"RMSE: {sacarosa_rmse}\")\n",
    "print(f\"R^2: {sacarosa_r2}\")\n",
    "\n",
    "print(\"\\nModelo para estimar el TCH:\")\n",
    "print(f\"RMSE: {TCH_rmse}\")\n",
    "print(f\"R^2: {TCH_r2}\")"
   ]
  },
  {
   "cell_type": "markdown",
   "metadata": {},
   "source": [
    "## XGBOOST"
   ]
  },
  {
   "cell_type": "markdown",
   "metadata": {},
   "source": [
    "### IPSA"
   ]
  },
  {
   "cell_type": "code",
   "execution_count": 97,
   "metadata": {},
   "outputs": [
    {
     "name": "stdout",
     "output_type": "stream",
     "text": [
      "Fitting 3 folds for each of 4 candidates, totalling 12 fits\n",
      "Mejores hiperparámetros sacarosa: {'learning_rate': 0.1, 'n_estimators': 100}\n",
      "Fitting 3 folds for each of 4 candidates, totalling 12 fits\n",
      "Mejores hiperparámetros tch: {'learning_rate': 0.01, 'n_estimators': 500}\n"
     ]
    }
   ],
   "source": [
    "X_train, X_test, y_sacarosa_train, y_sacarosa_test = train_test_split(drop_ipsa, sac_ipsa, test_size=0.3, random_state=42)\n",
    "_, _, y_TCH_train, y_TCH_test = train_test_split(drop_ipsa, tch_ipsa, test_size=0.3, random_state=42)\n",
    "\n",
    "xgbModelSac = xgb.XGBRegressor(objective=\"reg:squarederror\", gamma = 0.1, max_depth = 10, n_estimators = 100, learning_rate = 0.1)\n",
    "xgbModelSac.fit(X = X_train, y = y_sacarosa_train)\n",
    "\n",
    "xgbModelTCH = xgb.XGBRegressor(objective=\"reg:squarederror\",  gamma = 0.1, max_depth = 10, n_estimators = 500, learning_rate = 0.1)\n",
    "xgbModelTCH.fit(X_train, y_TCH_train)\n",
    "\n",
    "param_grid = {\n",
    "    \"learning_rate\": [0.1, 0.01],\n",
    "    \"n_estimators\": [100, 500],\n",
    "}\n",
    "\n",
    "# Realizar la búsqueda de hiperparámetros\n",
    "grid_search = GridSearchCV(estimator=xgbModelSac, param_grid=param_grid, scoring='r2', cv=3, verbose=1)\n",
    "grid_search.fit(X_train, y_sacarosa_train)\n",
    "\n",
    "# Mostrar los mejores hiperparámetros encontrados\n",
    "print(\"Mejores hiperparámetros sacarosa:\", grid_search.best_params_)\n",
    "\n",
    "# Realizar la búsqueda de hiperparámetros\n",
    "grid_search = GridSearchCV(estimator=xgbModelTCH, param_grid=param_grid, scoring='r2', cv=3, verbose=1)\n",
    "grid_search.fit(X_train, y_TCH_train)\n",
    "\n",
    "# Mostrar los mejores hiperparámetros encontrados\n",
    "print(\"Mejores hiperparámetros tch:\", grid_search.best_params_)\n"
   ]
  },
  {
   "cell_type": "code",
   "execution_count": 5,
   "metadata": {},
   "outputs": [],
   "source": [
    "X_train, X_test, y_sacarosa_train, y_sacarosa_test = train_test_split(drop_ipsa, sac_ipsa, test_size=0.3, random_state=42)\n",
    "_, _, y_TCH_train, y_TCH_test = train_test_split(drop_ipsa, tch_ipsa, test_size=0.3, random_state=42)\n",
    "\n",
    "xgbModelSac = xgb.XGBRegressor(objective=\"reg:squarederror\", gamma = 0.3, max_depth = 3, n_estimators = 100, learning_rate = 0.1)\n",
    "xgbModelSac.fit(X = X_train, y = y_sacarosa_train)\n",
    "\n",
    "xgbModelTCH = xgb.XGBRegressor(objective=\"reg:squarederror\",  gamma = 0.1, max_depth = 5, n_estimators = 500, learning_rate = 0.01)\n",
    "xgbModelTCH.fit(X_train, y_TCH_train)\n",
    "\n",
    "y_sacarosa_pred = xgbModelSac.predict(X_test)\n",
    "y_TCH_pred = xgbModelTCH.predict(X_test)"
   ]
  },
  {
   "cell_type": "code",
   "execution_count": 6,
   "metadata": {},
   "outputs": [
    {
     "name": "stdout",
     "output_type": "stream",
     "text": [
      "Modelo para estimar el porcentaje de sacarosa:\n",
      "RMSE: 0.6018875869644723\n",
      "R^2: 0.40083611335064473\n",
      "\n",
      "Modelo para estimar el TCH:\n",
      "RMSE: 19.93808735476248\n",
      "R^2: 0.2958689332008362\n"
     ]
    },
    {
     "name": "stderr",
     "output_type": "stream",
     "text": [
      "c:\\Users\\camic\\OneDrive\\Documentos\\Inteligencia artificial\\Laboratorio2IA\\venv\\Lib\\site-packages\\sklearn\\metrics\\_regression.py:492: FutureWarning: 'squared' is deprecated in version 1.4 and will be removed in 1.6. To calculate the root mean squared error, use the function'root_mean_squared_error'.\n",
      "  warnings.warn(\n",
      "c:\\Users\\camic\\OneDrive\\Documentos\\Inteligencia artificial\\Laboratorio2IA\\venv\\Lib\\site-packages\\sklearn\\metrics\\_regression.py:492: FutureWarning: 'squared' is deprecated in version 1.4 and will be removed in 1.6. To calculate the root mean squared error, use the function'root_mean_squared_error'.\n",
      "  warnings.warn(\n"
     ]
    }
   ],
   "source": [
    "sacarosa_rmse = mean_squared_error(y_sacarosa_test, y_sacarosa_pred, squared=False)\n",
    "sacarosa_r2 = r2_score(y_sacarosa_test, y_sacarosa_pred)\n",
    "\n",
    "TCH_rmse = mean_squared_error(y_TCH_test, y_TCH_pred, squared=False)\n",
    "TCH_r2 = r2_score(y_TCH_test, y_TCH_pred)\n",
    "\n",
    "# Resultados\n",
    "print(\"Modelo para estimar el porcentaje de sacarosa:\")\n",
    "print(f\"RMSE: {sacarosa_rmse}\")\n",
    "print(f\"R^2: {sacarosa_r2}\")\n",
    "\n",
    "print(\"\\nModelo para estimar el TCH:\")\n",
    "print(f\"RMSE: {TCH_rmse}\")\n",
    "print(f\"R^2: {TCH_r2}\")"
   ]
  },
  {
   "cell_type": "markdown",
   "metadata": {},
   "source": [
    "### Amarillos"
   ]
  },
  {
   "cell_type": "code",
   "execution_count": null,
   "metadata": {},
   "outputs": [
    {
     "name": "stdout",
     "output_type": "stream",
     "text": [
      "Fitting 3 folds for each of 4 candidates, totalling 12 fits\n",
      "Mejores hiperparámetros sacarosa: {'gamma': 0.1, 'max_depth': 5}\n",
      "Fitting 3 folds for each of 4 candidates, totalling 12 fits\n",
      "Mejores hiperparámetros tch: {'gamma': 0.1, 'max_depth': 15}\n"
     ]
    }
   ],
   "source": [
    "X_train, X_test, y_sacarosa_train, y_sacarosa_test = train_test_split(drop_amarillos, sac_amarillos, test_size=0.3, random_state=42)\n",
    "_, _, y_TCH_train, y_TCH_test = train_test_split(drop_amarillos, tch_amarillos, test_size=0.3, random_state=42)\n",
    "\n",
    "xgbModelSac = xgb.XGBRegressor(objective=\"reg:squarederror\", gamma = 0.3, max_depth = 10, n_estimators = 100, learning_rate = 0.1)\n",
    "xgbModelSac.fit(X = X_train, y = y_sacarosa_train)\n",
    "\n",
    "xgbModelTCH = xgb.XGBRegressor(objective=\"reg:squarederror\",  gamma = 0.3, max_depth = 10, n_estimators = 500, learning_rate = 0.1)\n",
    "xgbModelTCH.fit(X_train, y_TCH_train)\n",
    "\n",
    "param_grid = {\n",
    "    \"gamma\": [0.1, 0.3],\n",
    "    'max_depth': [5, 15],\n",
    "}\n",
    "\n",
    "# Realizar la búsqueda de hiperparámetros\n",
    "grid_search = GridSearchCV(estimator=xgbModelSac, param_grid=param_grid, scoring='r2', cv=3, verbose=1)\n",
    "grid_search.fit(X_train, y_sacarosa_train)\n",
    "\n",
    "# Mostrar los mejores hiperparámetros encontrados\n",
    "print(\"Mejores hiperparámetros sacarosa:\", grid_search.best_params_)\n",
    "\n",
    "# Realizar la búsqueda de hiperparámetros\n",
    "grid_search = GridSearchCV(estimator=xgbModelTCH, param_grid=param_grid, scoring='r2', cv=3, verbose=1)\n",
    "grid_search.fit(X_train, y_TCH_train)\n",
    "\n",
    "# Mostrar los mejores hiperparámetros encontrados\n",
    "print(\"Mejores hiperparámetros tch:\", grid_search.best_params_)"
   ]
  },
  {
   "cell_type": "code",
   "execution_count": 7,
   "metadata": {},
   "outputs": [],
   "source": [
    "X_train, X_test, y_sacarosa_train, y_sacarosa_test = train_test_split(drop_amarillos, sac_amarillos, test_size=0.3, random_state=42)\n",
    "_, _, y_TCH_train, y_TCH_test = train_test_split(drop_amarillos, tch_amarillos, test_size=0.3, random_state=42)\n",
    "\n",
    "xgbModelSac = xgb.XGBRegressor(objective=\"reg:squarederror\", gamma = 0, max_depth = 3, n_estimators = 100, learning_rate = 0.3)\n",
    "xgbModelSac.fit(X = X_train, y = y_sacarosa_train)\n",
    "\n",
    "xgbModelTCH = xgb.XGBRegressor(objective=\"reg:squarederror\",  gamma = 0, max_depth = 3, n_estimators = 500, learning_rate = 0.3)\n",
    "xgbModelTCH.fit(X_train, y_TCH_train)\n",
    "\n",
    "y_sacarosa_pred = xgbModelSac.predict(X_test)\n",
    "y_TCH_pred = xgbModelTCH.predict(X_test)"
   ]
  },
  {
   "cell_type": "code",
   "execution_count": 8,
   "metadata": {},
   "outputs": [
    {
     "name": "stdout",
     "output_type": "stream",
     "text": [
      "Modelo para estimar el porcentaje de sacarosa:\n",
      "RMSE: 0.015512408069263711\n",
      "R^2: 0.949175875432807\n",
      "\n",
      "Modelo para estimar el TCH:\n",
      "RMSE: 0.029145961327052803\n",
      "R^2: 0.9228217369530678\n"
     ]
    },
    {
     "name": "stderr",
     "output_type": "stream",
     "text": [
      "c:\\Users\\camic\\OneDrive\\Documentos\\Inteligencia artificial\\Laboratorio2IA\\venv\\Lib\\site-packages\\sklearn\\metrics\\_regression.py:492: FutureWarning: 'squared' is deprecated in version 1.4 and will be removed in 1.6. To calculate the root mean squared error, use the function'root_mean_squared_error'.\n",
      "  warnings.warn(\n",
      "c:\\Users\\camic\\OneDrive\\Documentos\\Inteligencia artificial\\Laboratorio2IA\\venv\\Lib\\site-packages\\sklearn\\metrics\\_regression.py:492: FutureWarning: 'squared' is deprecated in version 1.4 and will be removed in 1.6. To calculate the root mean squared error, use the function'root_mean_squared_error'.\n",
      "  warnings.warn(\n"
     ]
    }
   ],
   "source": [
    "sacarosa_rmse = mean_squared_error(y_sacarosa_test, y_sacarosa_pred, squared=False)\n",
    "sacarosa_r2 = r2_score(y_sacarosa_test, y_sacarosa_pred)\n",
    "\n",
    "TCH_rmse = mean_squared_error(y_TCH_test, y_TCH_pred, squared=False)\n",
    "TCH_r2 = r2_score(y_TCH_test, y_TCH_pred)\n",
    "\n",
    "# Resultados\n",
    "print(\"Modelo para estimar el porcentaje de sacarosa:\")\n",
    "print(f\"RMSE: {sacarosa_rmse}\")\n",
    "print(f\"R^2: {sacarosa_r2}\")\n",
    "\n",
    "print(\"\\nModelo para estimar el TCH:\")\n",
    "print(f\"RMSE: {TCH_rmse}\")\n",
    "print(f\"R^2: {TCH_r2}\")"
   ]
  },
  {
   "cell_type": "markdown",
   "metadata": {},
   "source": [
    "### Azules"
   ]
  },
  {
   "cell_type": "code",
   "execution_count": 56,
   "metadata": {},
   "outputs": [
    {
     "name": "stdout",
     "output_type": "stream",
     "text": [
      "Fitting 3 folds for each of 4 candidates, totalling 12 fits\n",
      "Mejores hiperparámetros sacarosa: {'gamma': 0.1, 'max_depth': 15}\n",
      "Fitting 3 folds for each of 4 candidates, totalling 12 fits\n",
      "Mejores hiperparámetros tch: {'gamma': 0.1, 'max_depth': 15}\n"
     ]
    }
   ],
   "source": [
    "X_train, X_test, y_sacarosa_train, y_sacarosa_test = train_test_split(drop_azules, sac_azules, test_size=0.3, random_state=42)\n",
    "_, _, y_TCH_train, y_TCH_test = train_test_split(drop_azules, tch_azules, test_size=0.3, random_state=42)\n",
    "\n",
    "xgbModelSac = xgb.XGBRegressor(objective=\"reg:squarederror\", gamma = 0.3, max_depth = 10, n_estimators = 100, learning_rate = 0.3)\n",
    "xgbModelSac.fit(X = X_train, y = y_sacarosa_train)\n",
    "\n",
    "xgbModelTCH = xgb.XGBRegressor(objective=\"reg:squarederror\",  gamma = 0.3, max_depth = 10, n_estimators = 100, learning_rate = 0.1)\n",
    "xgbModelTCH.fit(X_train, y_TCH_train)\n",
    "\n",
    "param_grid = {\n",
    "    \"gamma\": [0.1, 0.3],\n",
    "    'max_depth': [5, 15],\n",
    "}\n",
    "\n",
    "# Realizar la búsqueda de hiperparámetros\n",
    "grid_search = GridSearchCV(estimator=xgbModelSac, param_grid=param_grid, scoring='r2', cv=3, verbose=1)\n",
    "grid_search.fit(X_train, y_sacarosa_train)\n",
    "\n",
    "# Mostrar los mejores hiperparámetros encontrados\n",
    "print(\"Mejores hiperparámetros sacarosa:\", grid_search.best_params_)\n",
    "\n",
    "# Realizar la búsqueda de hiperparámetros\n",
    "grid_search = GridSearchCV(estimator=xgbModelTCH, param_grid=param_grid, scoring='r2', cv=3, verbose=1)\n",
    "grid_search.fit(X_train, y_TCH_train)\n",
    "\n",
    "# Mostrar los mejores hiperparámetros encontrados\n",
    "print(\"Mejores hiperparámetros tch:\", grid_search.best_params_)"
   ]
  },
  {
   "cell_type": "code",
   "execution_count": 9,
   "metadata": {},
   "outputs": [],
   "source": [
    "X_train, X_test, y_sacarosa_train, y_sacarosa_test = train_test_split(drop_azules, sac_azules, test_size=0.3, random_state=42)\n",
    "_, _, y_TCH_train, y_TCH_test = train_test_split(drop_azules, tch_azules, test_size=0.3, random_state=42)\n",
    "\n",
    "xgbModelSac = xgb.XGBRegressor(objective=\"reg:squarederror\", gamma = 0, max_depth = 5, n_estimators = 100, learning_rate = 0.3)\n",
    "xgbModelSac.fit(X = X_train, y = y_sacarosa_train)\n",
    "\n",
    "xgbModelTCH = xgb.XGBRegressor(objective=\"reg:squarederror\",  gamma = 0, max_depth = 10, n_estimators = 100, learning_rate = 0.1)\n",
    "xgbModelTCH.fit(X_train, y_TCH_train)\n",
    "\n",
    "y_sacarosa_pred = xgbModelSac.predict(X_test)\n",
    "y_TCH_pred = xgbModelTCH.predict(X_test)"
   ]
  },
  {
   "cell_type": "code",
   "execution_count": 10,
   "metadata": {},
   "outputs": [
    {
     "name": "stdout",
     "output_type": "stream",
     "text": [
      "Modelo para estimar el porcentaje de sacarosa:\n",
      "RMSE: 0.01669597475238443\n",
      "R^2: 0.9283036136878622\n",
      "\n",
      "Modelo para estimar el TCH:\n",
      "RMSE: 0.021375597085131\n",
      "R^2: 0.9609454954585854\n"
     ]
    },
    {
     "name": "stderr",
     "output_type": "stream",
     "text": [
      "c:\\Users\\camic\\OneDrive\\Documentos\\Inteligencia artificial\\Laboratorio2IA\\venv\\Lib\\site-packages\\sklearn\\metrics\\_regression.py:492: FutureWarning: 'squared' is deprecated in version 1.4 and will be removed in 1.6. To calculate the root mean squared error, use the function'root_mean_squared_error'.\n",
      "  warnings.warn(\n",
      "c:\\Users\\camic\\OneDrive\\Documentos\\Inteligencia artificial\\Laboratorio2IA\\venv\\Lib\\site-packages\\sklearn\\metrics\\_regression.py:492: FutureWarning: 'squared' is deprecated in version 1.4 and will be removed in 1.6. To calculate the root mean squared error, use the function'root_mean_squared_error'.\n",
      "  warnings.warn(\n"
     ]
    }
   ],
   "source": [
    "sacarosa_rmse = mean_squared_error(y_sacarosa_test, y_sacarosa_pred, squared=False)\n",
    "sacarosa_r2 = r2_score(y_sacarosa_test, y_sacarosa_pred)\n",
    "\n",
    "TCH_rmse = mean_squared_error(y_TCH_test, y_TCH_pred, squared=False)\n",
    "TCH_r2 = r2_score(y_TCH_test, y_TCH_pred)\n",
    "\n",
    "# Resultados\n",
    "print(\"Modelo para estimar el porcentaje de sacarosa:\")\n",
    "print(f\"RMSE: {sacarosa_rmse}\")\n",
    "print(f\"R^2: {sacarosa_r2}\")\n",
    "\n",
    "print(\"\\nModelo para estimar el TCH:\")\n",
    "print(f\"RMSE: {TCH_rmse}\")\n",
    "print(f\"R^2: {TCH_r2}\")"
   ]
  },
  {
   "cell_type": "markdown",
   "metadata": {},
   "source": [
    "## SVM"
   ]
  },
  {
   "cell_type": "markdown",
   "metadata": {},
   "source": [
    "### IPSA"
   ]
  },
  {
   "cell_type": "code",
   "execution_count": 94,
   "metadata": {},
   "outputs": [
    {
     "name": "stdout",
     "output_type": "stream",
     "text": [
      "Fitting 3 folds for each of 3 candidates, totalling 9 fits\n",
      "Mejores hiperparámetros sacarosa: {'epsilon': 0.5}\n",
      "Fitting 3 folds for each of 3 candidates, totalling 9 fits\n",
      "Mejores hiperparámetros tch: {'epsilon': 0.5}\n"
     ]
    }
   ],
   "source": [
    "scaler = StandardScaler()\n",
    "X_train, X_test, y_sacarosa_train, y_sacarosa_test = train_test_split(scaler.fit_transform(drop_ipsa), sac_ipsa, test_size=0.3, random_state=42)\n",
    "_, _, y_TCH_train, y_TCH_test = train_test_split(scaler.fit_transform(drop_ipsa), tch_ipsa, test_size=0.3, random_state=42)\n",
    "\n",
    "svm_model_TCH = SVR(kernel='rbf', gamma='scale', C=10)\n",
    "svm_model_TCH.fit(X_train, y_TCH_train)\n",
    "\n",
    "svm_model_sacarosa = SVR(kernel='sigmoid', gamma='scale', C=0.1)\n",
    "svm_model_sacarosa.fit(X_train, y_sacarosa_train)\n",
    "\n",
    "param_grid = {\n",
    "    'epsilon': [0.1, 0.3, 0.5]\n",
    "}\n",
    "\n",
    "# Realizar la búsqueda de hiperparámetros\n",
    "grid_search = GridSearchCV(estimator=svm_model_sacarosa, param_grid=param_grid, scoring='r2', cv=3, verbose=1)\n",
    "grid_search.fit(X_train, y_sacarosa_train)\n",
    "\n",
    "# Mostrar los mejores hiperparámetros encontrados\n",
    "print(\"Mejores hiperparámetros sacarosa:\", grid_search.best_params_)\n",
    "\n",
    "# Realizar la búsqueda de hiperparámetros\n",
    "grid_search = GridSearchCV(estimator=svm_model_TCH, param_grid=param_grid, scoring='r2', cv=3, verbose=1)\n",
    "grid_search.fit(X_train, y_TCH_train)\n",
    "\n",
    "# Mostrar los mejores hiperparámetros encontrados\n",
    "print(\"Mejores hiperparámetros tch:\", grid_search.best_params_)"
   ]
  },
  {
   "cell_type": "code",
   "execution_count": null,
   "metadata": {},
   "outputs": [
    {
     "name": "stdout",
     "output_type": "stream",
     "text": [
      "TCH:  0.2794324979653027\n"
     ]
    }
   ],
   "source": [
    "# Normalize the features\n",
    "scaler = StandardScaler()\n",
    "X_scaled = scaler.fit_transform(drop_ipsa)\n",
    "\n",
    "# Split data into training and testing sets\n",
    "X_train, X_test, y_train, y_test = train_test_split(X_scaled, sac_ipsa, test_size=0.3, random_state=42)\n",
    "\n",
    "\n",
    "# Train the SVM model on the classified `%Sac.Caña`\n",
    "svm_model_sacarosa = SVR(kernel='rbf', gamma='scale', C=1, epsilon=0.3)\n",
    "svm_model_sacarosa.fit(X_train, y_train)\n",
    "\n",
    "# Predictions and evaluation\n",
    "y_pred_sacarosa = svm_model_sacarosa.predict(X_test)\n",
    "\n",
    "accuracy_sacarosa = r2_score(y_test, y_pred_sacarosa)\n",
    "\n",
    "#report = classification_report(y_test, y_pred)\n",
    "\n",
    "print(\"Sacarosa: \",accuracy_sacarosa)"
   ]
  },
  {
   "cell_type": "code",
   "execution_count": 14,
   "metadata": {},
   "outputs": [
    {
     "name": "stdout",
     "output_type": "stream",
     "text": [
      "TCH:  0.16948909380691646\n"
     ]
    }
   ],
   "source": [
    "# Normalize the features\n",
    "scaler = StandardScaler()\n",
    "X_scaled = scaler.fit_transform(drop_ipsa)\n",
    "\n",
    "# Split data into training and testing sets\n",
    "X_train, X_test, y_train, y_test = train_test_split(X_scaled, tch_ipsa, test_size=0.3, random_state=42)\n",
    "\n",
    "\n",
    "# Train the SVM model on the classified `%Sac.Caña`\n",
    "svm_model_sacarosa = SVR(kernel='rbf', gamma='auto', C=10, epsilon=0.3)\n",
    "svm_model_sacarosa.fit(X_train, y_train)\n",
    "\n",
    "# Predictions and evaluation\n",
    "y_pred_sacarosa = svm_model_sacarosa.predict(X_test)\n",
    "\n",
    "accuracy_sacarosa = r2_score(y_test, y_pred_sacarosa)\n",
    "\n",
    "#report = classification_report(y_test, y_pred)\n",
    "\n",
    "print(\"TCH: \",accuracy_sacarosa)"
   ]
  },
  {
   "cell_type": "markdown",
   "metadata": {},
   "source": [
    "### Amarillos"
   ]
  },
  {
   "cell_type": "code",
   "execution_count": 11,
   "metadata": {},
   "outputs": [
    {
     "name": "stdout",
     "output_type": "stream",
     "text": [
      "Fitting 3 folds for each of 3 candidates, totalling 9 fits\n",
      "Mejores hiperparámetros sacarosa: {'epsilon': 0.1}\n",
      "Fitting 3 folds for each of 3 candidates, totalling 9 fits\n",
      "Mejores hiperparámetros tch: {'epsilon': 0.1}\n"
     ]
    }
   ],
   "source": [
    "scaler = StandardScaler()\n",
    "X_train, X_test, y_sacarosa_train, y_sacarosa_test = train_test_split(scaler.fit_transform(drop_amarillos), sac_amarillos, test_size=0.3, random_state=42)\n",
    "_, _, y_TCH_train, y_TCH_test = train_test_split(scaler.fit_transform(drop_amarillos), tch_amarillos, test_size=0.3, random_state=42)\n",
    "\n",
    "svm_model_TCH = SVR(kernel='rbf', gamma='scale', C=10)\n",
    "svm_model_TCH.fit(X_train, y_TCH_train)\n",
    "\n",
    "svm_model_sacarosa = SVR(kernel='rbf', gamma='scale', C=1)\n",
    "svm_model_sacarosa.fit(X_train, y_sacarosa_train)\n",
    "\n",
    "param_grid = {\n",
    "    'epsilon': [0.1, 0.3, 0.5]\n",
    "}\n",
    "\n",
    "# Realizar la búsqueda de hiperparámetros\n",
    "grid_search = GridSearchCV(estimator=svm_model_sacarosa, param_grid=param_grid, scoring='r2', cv=3, verbose=1)\n",
    "grid_search.fit(X_train, y_sacarosa_train)\n",
    "\n",
    "# Mostrar los mejores hiperparámetros encontrados\n",
    "print(\"Mejores hiperparámetros sacarosa:\", grid_search.best_params_)\n",
    "\n",
    "# Realizar la búsqueda de hiperparámetros\n",
    "grid_search = GridSearchCV(estimator=svm_model_TCH, param_grid=param_grid, scoring='r2', cv=3, verbose=1)\n",
    "grid_search.fit(X_train, y_TCH_train)\n",
    "\n",
    "# Mostrar los mejores hiperparámetros encontrados\n",
    "print(\"Mejores hiperparámetros tch:\", grid_search.best_params_)"
   ]
  },
  {
   "cell_type": "code",
   "execution_count": 17,
   "metadata": {},
   "outputs": [
    {
     "name": "stdout",
     "output_type": "stream",
     "text": [
      "Tch:  0.48981656827911113\n"
     ]
    }
   ],
   "source": [
    "# Normalize the features\n",
    "scaler = StandardScaler()\n",
    "X_scaled = scaler.fit_transform(drop_amarillos)\n",
    "\n",
    "# Split data into training and testing sets\n",
    "X_train, X_test, y_train, y_test = train_test_split(X_scaled, tch_amarillos, test_size=0.3, random_state=42)\n",
    "\n",
    "\n",
    "# Train the SVM model on the classified `%Sac.Caña`\n",
    "svm_model_sacarosa = SVR(kernel='rbf', gamma='auto', C=1, epsilon=0.1)\n",
    "svm_model_sacarosa.fit(X_train, y_train)\n",
    "\n",
    "# Predictions and evaluation\n",
    "y_pred_sacarosa = svm_model_sacarosa.predict(X_test)\n",
    "\n",
    "accuracy_sacarosa = r2_score(y_test, y_pred_sacarosa)\n",
    "\n",
    "#report = classification_report(y_test, y_pred)\n",
    "\n",
    "print(\"Tch: \",accuracy_sacarosa)"
   ]
  },
  {
   "cell_type": "code",
   "execution_count": 18,
   "metadata": {},
   "outputs": [
    {
     "name": "stdout",
     "output_type": "stream",
     "text": [
      "Sacarosa:  0.5101661571954637\n"
     ]
    }
   ],
   "source": [
    "# Normalize the features\n",
    "scaler = StandardScaler()\n",
    "X_scaled = scaler.fit_transform(drop_amarillos)\n",
    "\n",
    "# Split data into training and testing sets\n",
    "X_train, X_test, y_train, y_test = train_test_split(X_scaled, sac_amarillos, test_size=0.3, random_state=42)\n",
    "\n",
    "\n",
    "# Train the SVM model on the classified `%Sac.Caña`\n",
    "svm_model_sacarosa = SVR(kernel='rbf', gamma='auto', C=10, epsilon=0.1)\n",
    "svm_model_sacarosa.fit(X_train, y_train)\n",
    "\n",
    "# Predictions and evaluation\n",
    "y_pred_sacarosa = svm_model_sacarosa.predict(X_test)\n",
    "\n",
    "accuracy_sacarosa = r2_score(y_test, y_pred_sacarosa)\n",
    "\n",
    "#report = classification_report(y_test, y_pred)\n",
    "\n",
    "print(\"Sacarosa: \",accuracy_sacarosa)"
   ]
  },
  {
   "cell_type": "markdown",
   "metadata": {},
   "source": [
    "### Azules"
   ]
  },
  {
   "cell_type": "code",
   "execution_count": 19,
   "metadata": {},
   "outputs": [
    {
     "name": "stdout",
     "output_type": "stream",
     "text": [
      "Fitting 3 folds for each of 3 candidates, totalling 9 fits\n",
      "Mejores hiperparámetros sacarosa: {'epsilon': 0.1}\n",
      "Fitting 3 folds for each of 3 candidates, totalling 9 fits\n",
      "Mejores hiperparámetros tch: {'epsilon': 0.1}\n"
     ]
    }
   ],
   "source": [
    "scaler = StandardScaler()\n",
    "X_train, X_test, y_sacarosa_train, y_sacarosa_test = train_test_split(scaler.fit_transform(drop_amarillos), sac_amarillos, test_size=0.3, random_state=42)\n",
    "_, _, y_TCH_train, y_TCH_test = train_test_split(scaler.fit_transform(drop_amarillos), tch_amarillos, test_size=0.3, random_state=42)\n",
    "\n",
    "svm_model_TCH = SVR(kernel='rbf', gamma='scale', C=10)\n",
    "svm_model_TCH.fit(X_train, y_TCH_train)\n",
    "\n",
    "svm_model_sacarosa = SVR(kernel='rbf', gamma='scale', C=1)\n",
    "svm_model_sacarosa.fit(X_train, y_sacarosa_train)\n",
    "\n",
    "param_grid = {\n",
    "    \"epsilon\": [0.1, 0.3, 0.5]\n",
    "}\n",
    "\n",
    "# Realizar la búsqueda de hiperparámetros\n",
    "grid_search = GridSearchCV(estimator=svm_model_sacarosa, param_grid=param_grid, scoring='r2', cv=3, verbose=1)\n",
    "grid_search.fit(X_train, y_sacarosa_train)\n",
    "\n",
    "# Mostrar los mejores hiperparámetros encontrados\n",
    "print(\"Mejores hiperparámetros sacarosa:\", grid_search.best_params_)\n",
    "\n",
    "# Realizar la búsqueda de hiperparámetros\n",
    "grid_search = GridSearchCV(estimator=svm_model_TCH, param_grid=param_grid, scoring='r2', cv=3, verbose=1)\n",
    "grid_search.fit(X_train, y_TCH_train)\n",
    "\n",
    "# Mostrar los mejores hiperparámetros encontrados\n",
    "print(\"Mejores hiperparámetros tch:\", grid_search.best_params_)"
   ]
  },
  {
   "cell_type": "code",
   "execution_count": null,
   "metadata": {},
   "outputs": [
    {
     "name": "stdout",
     "output_type": "stream",
     "text": [
      "Sacarosa:  0.6071071907099581\n"
     ]
    }
   ],
   "source": [
    "# Normalize the features\n",
    "scaler = StandardScaler()\n",
    "X_scaled = scaler.fit_transform(drop_azules)\n",
    "\n",
    "# Split data into training and testing sets\n",
    "X_train, X_test, y_train, y_test = train_test_split(X_scaled, tch_azules, test_size=0.3, random_state=42)\n",
    "\n",
    "\n",
    "# Train the SVM model on the classified `%Sac.Caña`\n",
    "svm_model_sacarosa = SVR(kernel='rbf', gamma='auto', C=1, epsilon=0.1)\n",
    "svm_model_sacarosa.fit(X_train, y_train)\n",
    "\n",
    "# Predictions and evaluation\n",
    "y_pred_sacarosa = svm_model_sacarosa.predict(X_test)\n",
    "\n",
    "accuracy_sacarosa = r2_score(y_test, y_pred_sacarosa)\n",
    "\n",
    "#report = classification_report(y_test, y_pred)\n",
    "\n",
    "print(\"TCH: \",accuracy_sacarosa)"
   ]
  },
  {
   "cell_type": "code",
   "execution_count": 21,
   "metadata": {},
   "outputs": [
    {
     "name": "stdout",
     "output_type": "stream",
     "text": [
      "Sacarosa:  0.5128872554061239\n"
     ]
    }
   ],
   "source": [
    "# Normalize the features\n",
    "scaler = StandardScaler()\n",
    "X_scaled = scaler.fit_transform(drop_azules)\n",
    "\n",
    "# Split data into training and testing sets\n",
    "X_train, X_test, y_train, y_test = train_test_split(X_scaled, sac_azules, test_size=0.3, random_state=42)\n",
    "\n",
    "\n",
    "# Train the SVM model on the classified `%Sac.Caña`\n",
    "svm_model_sacarosa = SVR(kernel='rbf', gamma='auto', C=10, epsilon=0.1)\n",
    "svm_model_sacarosa.fit(X_train, y_train)\n",
    "\n",
    "# Predictions and evaluation\n",
    "y_pred_sacarosa = svm_model_sacarosa.predict(X_test)\n",
    "\n",
    "accuracy_sacarosa = r2_score(y_test, y_pred_sacarosa)\n",
    "\n",
    "#report = classification_report(y_test, y_pred)\n",
    "\n",
    "print(\"Sacarosa: \",accuracy_sacarosa)"
   ]
  },
  {
   "cell_type": "markdown",
   "metadata": {},
   "source": [
    "# Clasificación"
   ]
  },
  {
   "cell_type": "markdown",
   "metadata": {},
   "source": [
    "## Regresion Logistica"
   ]
  },
  {
   "cell_type": "markdown",
   "metadata": {},
   "source": [
    "### IPSA"
   ]
  },
  {
   "cell_type": "code",
   "execution_count": 37,
   "metadata": {},
   "outputs": [
    {
     "name": "stdout",
     "output_type": "stream",
     "text": [
      "Fitting 3 folds for each of 120 candidates, totalling 360 fits\n",
      "Mejores hiperparámetros sacarosa: {'C': 0.1, 'max_iter': 100, 'penalty': 'l1', 'solver': 'liblinear'}\n"
     ]
    }
   ],
   "source": [
    "import warnings\n",
    "\n",
    "warnings.filterwarnings('ignore')\n",
    "scaler = StandardScaler()\n",
    "X_train, X_test, y_train, y_test = train_test_split(scaler.fit_transform(drop_ipsa), catSac_ipsa, test_size=0.3, random_state=42)\n",
    "\n",
    "model_logistic = LogisticRegression()\n",
    "model_logistic.fit(X_train, y_train)\n",
    "\n",
    "\n",
    "param_grid = {\n",
    "    \"C\": [0.1, 1, 10],\n",
    "    \"penalty\": ['l1', 'l2'],\n",
    "    \"solver\": ['liblinear', 'saga', 'lbfgs', 'newton-cg', 'sag'],\n",
    "    \"max_iter\": [100, 1000, 10000, 1000000 ]\n",
    "}\n",
    "\n",
    "# Realizar la búsqueda de hiperparámetros\n",
    "grid_search = GridSearchCV(estimator=model_logistic, param_grid=param_grid, scoring='r2', cv=3, verbose=1)\n",
    "grid_search.fit(X_train, y_train)\n",
    "\n",
    "# Mostrar los mejores hiperparámetros encontrados\n",
    "print(\"Mejores hiperparámetros sacarosa:\", grid_search.best_params_)\n"
   ]
  },
  {
   "cell_type": "code",
   "execution_count": 22,
   "metadata": {},
   "outputs": [
    {
     "name": "stderr",
     "output_type": "stream",
     "text": [
      "c:\\Users\\camic\\OneDrive\\Documentos\\Inteligencia artificial\\Laboratorio2IA\\venv\\Lib\\site-packages\\sklearn\\svm\\_base.py:1235: ConvergenceWarning: Liblinear failed to converge, increase the number of iterations.\n",
      "  warnings.warn(\n"
     ]
    }
   ],
   "source": [
    "X_train, X_test, y_train, y_test = train_test_split(drop_ipsa, catSac_ipsa, test_size=0.3, random_state=42)\n",
    "\n",
    "model_logistic = LogisticRegression(C= 0.1, max_iter= 100, penalty= 'l1', solver= 'liblinear')\n",
    "model_logistic.fit(X_train, y_train)\n",
    "\n",
    "# Realizar predicciones\n",
    "y_pred = model_logistic.predict(X_test)"
   ]
  },
  {
   "cell_type": "code",
   "execution_count": 23,
   "metadata": {},
   "outputs": [
    {
     "name": "stdout",
     "output_type": "stream",
     "text": [
      "Exactitud del modelo: 0.4787430683918669\n",
      "\n",
      "Matriz de Confusión:\n",
      " [[102   2  63]\n",
      " [ 64   1  94]\n",
      " [ 57   2 156]]\n",
      "\n",
      "Reporte de Clasificación:\n",
      "               precision    recall  f1-score   support\n",
      "\n",
      "           0       0.46      0.61      0.52       167\n",
      "           1       0.20      0.01      0.01       159\n",
      "           2       0.50      0.73      0.59       215\n",
      "\n",
      "    accuracy                           0.48       541\n",
      "   macro avg       0.39      0.45      0.38       541\n",
      "weighted avg       0.40      0.48      0.40       541\n",
      "\n"
     ]
    }
   ],
   "source": [
    "# Evaluar el rendimiento del modelo\n",
    "accuracy = accuracy_score(y_test, y_pred)\n",
    "conf_matrix = confusion_matrix(y_test, y_pred)\n",
    "class_report = classification_report(y_test, y_pred)\n",
    "\n",
    "print(\"Exactitud del modelo:\", accuracy)\n",
    "print(\"\\nMatriz de Confusión:\\n\", conf_matrix)\n",
    "print(\"\\nReporte de Clasificación:\\n\", class_report)"
   ]
  },
  {
   "cell_type": "markdown",
   "metadata": {},
   "source": [
    "### Amarillo"
   ]
  },
  {
   "cell_type": "code",
   "execution_count": 34,
   "metadata": {},
   "outputs": [
    {
     "name": "stdout",
     "output_type": "stream",
     "text": [
      "Fitting 3 folds for each of 120 candidates, totalling 360 fits\n",
      "Mejores hiperparámetros sacarosa: {'C': 0.1, 'max_iter': 1000, 'penalty': 'l1', 'solver': 'saga'}\n"
     ]
    }
   ],
   "source": [
    "scaler = StandardScaler()\n",
    "X_train, X_test, y_train, y_test = train_test_split(scaler.fit_transform(drop_amarillos), catSac_amarillos, test_size=0.3, random_state=42)\n",
    "\n",
    "model_logistic = LogisticRegression()\n",
    "model_logistic.fit(X_train, y_train)\n",
    "\n",
    "\n",
    "param_grid = {\n",
    "    \"C\": [0.1, 1, 10],\n",
    "    \"penalty\": ['l1', 'l2'],\n",
    "    \"solver\": ['liblinear', 'saga', 'lbfgs', 'newton-cg', 'sag'],\n",
    "    \"max_iter\": [100, 1000, 10000, 1000000 ]\n",
    "}\n",
    "\n",
    "# Realizar la búsqueda de hiperparámetros\n",
    "grid_search = GridSearchCV(estimator=model_logistic, param_grid=param_grid, scoring='r2', cv=3, verbose=1)\n",
    "grid_search.fit(X_train, y_train)\n",
    "\n",
    "# Mostrar los mejores hiperparámetros encontrados\n",
    "print(\"Mejores hiperparámetros sacarosa:\", grid_search.best_params_)"
   ]
  },
  {
   "cell_type": "code",
   "execution_count": 24,
   "metadata": {},
   "outputs": [],
   "source": [
    "X_train, X_test, y_train, y_test = train_test_split(scaler.fit_transform(drop_amarillos), catSac_amarillos, test_size=0.3, random_state=42)\n",
    "\n",
    "model_logistic = LogisticRegression(C= 10, max_iter= 1000, penalty= 'l1', solver= 'liblinear')\n",
    "model_logistic.fit(X_train, y_train)\n",
    "\n",
    "# Realizar predicciones\n",
    "y_pred = model_logistic.predict(X_test)"
   ]
  },
  {
   "cell_type": "code",
   "execution_count": 25,
   "metadata": {},
   "outputs": [
    {
     "name": "stdout",
     "output_type": "stream",
     "text": [
      "Exactitud del modelo: 0.9032012195121951\n",
      "\n",
      "Matriz de Confusión:\n",
      " [[828   3   4]\n",
      " [ 62  80  51]\n",
      " [  4   3 277]]\n",
      "\n",
      "Reporte de Clasificación:\n",
      "               precision    recall  f1-score   support\n",
      "\n",
      "           0       0.93      0.99      0.96       835\n",
      "           1       0.93      0.41      0.57       193\n",
      "           2       0.83      0.98      0.90       284\n",
      "\n",
      "    accuracy                           0.90      1312\n",
      "   macro avg       0.90      0.79      0.81      1312\n",
      "weighted avg       0.91      0.90      0.89      1312\n",
      "\n"
     ]
    }
   ],
   "source": [
    "# Evaluar el rendimiento del modelo\n",
    "accuracy = accuracy_score(y_test, y_pred)\n",
    "conf_matrix = confusion_matrix(y_test, y_pred)\n",
    "class_report = classification_report(y_test, y_pred)\n",
    "\n",
    "print(\"Exactitud del modelo:\", accuracy)\n",
    "print(\"\\nMatriz de Confusión:\\n\", conf_matrix)\n",
    "print(\"\\nReporte de Clasificación:\\n\", class_report)"
   ]
  },
  {
   "cell_type": "markdown",
   "metadata": {},
   "source": [
    "### Azul"
   ]
  },
  {
   "cell_type": "code",
   "execution_count": 45,
   "metadata": {},
   "outputs": [
    {
     "name": "stdout",
     "output_type": "stream",
     "text": [
      "Fitting 3 folds for each of 120 candidates, totalling 360 fits\n",
      "Mejores hiperparámetros sacarosa: {'C': 0.1, 'max_iter': 100, 'penalty': 'l1', 'solver': 'liblinear'}\n"
     ]
    }
   ],
   "source": [
    "scaler = StandardScaler()\n",
    "X_train, X_test, y_train, y_test = train_test_split(scaler.fit_transform(drop_azules), catSac_azules, test_size=0.3, random_state=42)\n",
    "\n",
    "model_logistic = LogisticRegression()\n",
    "model_logistic.fit(X_train, y_train)\n",
    "\n",
    "\n",
    "param_grid = {\n",
    "    \"C\": [0.1, 1, 10],\n",
    "    \"penalty\": ['l1', 'l2'],\n",
    "    \"solver\": ['liblinear', 'saga', 'lbfgs', 'newton-cg', 'sag'],\n",
    "    \"max_iter\": [100, 1000, 10000, 1000000 ]\n",
    "}\n",
    "\n",
    "# Realizar la búsqueda de hiperparámetros\n",
    "grid_search = GridSearchCV(estimator=model_logistic, param_grid=param_grid, scoring='r2', cv=3, verbose=1)\n",
    "grid_search.fit(X_train, y_train)\n",
    "\n",
    "# Mostrar los mejores hiperparámetros encontrados\n",
    "print(\"Mejores hiperparámetros sacarosa:\", grid_search.best_params_)"
   ]
  },
  {
   "cell_type": "code",
   "execution_count": 26,
   "metadata": {},
   "outputs": [],
   "source": [
    "X_train, X_test, y_train, y_test = train_test_split(drop_azules, catSac_azules, test_size=0.3, random_state=42)\n",
    "\n",
    "model_logistic = LogisticRegression(C= 10, max_iter= 1000, penalty= 'l1', solver= 'liblinear')\n",
    "model_logistic.fit(X_train, y_train)\n",
    "\n",
    "# Realizar predicciones\n",
    "y_pred = model_logistic.predict(X_test)"
   ]
  },
  {
   "cell_type": "code",
   "execution_count": 27,
   "metadata": {},
   "outputs": [
    {
     "name": "stdout",
     "output_type": "stream",
     "text": [
      "Exactitud del modelo: 0.8291221250404924\n",
      "\n",
      "Matriz de Confusión:\n",
      " [[3351    3   39]\n",
      " [ 585  175  345]\n",
      " [  80    3 1593]]\n",
      "\n",
      "Reporte de Clasificación:\n",
      "               precision    recall  f1-score   support\n",
      "\n",
      "           0       0.83      0.99      0.90      3393\n",
      "           1       0.97      0.16      0.27      1105\n",
      "           2       0.81      0.95      0.87      1676\n",
      "\n",
      "    accuracy                           0.83      6174\n",
      "   macro avg       0.87      0.70      0.68      6174\n",
      "weighted avg       0.85      0.83      0.78      6174\n",
      "\n"
     ]
    }
   ],
   "source": [
    "# Evaluar el rendimiento del modelo\n",
    "accuracy = accuracy_score(y_test, y_pred)\n",
    "conf_matrix = confusion_matrix(y_test, y_pred)\n",
    "class_report = classification_report(y_test, y_pred)\n",
    "\n",
    "print(\"Exactitud del modelo:\", accuracy)\n",
    "print(\"\\nMatriz de Confusión:\\n\", conf_matrix)\n",
    "print(\"\\nReporte de Clasificación:\\n\", class_report)"
   ]
  },
  {
   "cell_type": "markdown",
   "metadata": {},
   "source": [
    "## Xgboost"
   ]
  },
  {
   "cell_type": "markdown",
   "metadata": {},
   "source": [
    "### IPSA"
   ]
  },
  {
   "cell_type": "code",
   "execution_count": 12,
   "metadata": {},
   "outputs": [
    {
     "name": "stdout",
     "output_type": "stream",
     "text": [
      "Fitting 3 folds for each of 144 candidates, totalling 432 fits\n",
      "Mejores hiperparámetros sacarosa: {'gamma': 0.3, 'learning_rate': 0.3, 'max_depth': 5, 'n_estimators': 100}\n"
     ]
    }
   ],
   "source": [
    "scaler = StandardScaler()\n",
    "X_train, X_test, y_train, y_test = train_test_split(scaler.fit_transform(drop_ipsa), catSac_ipsa, test_size=0.3, random_state=42)\n",
    "\n",
    "xgb_model = xgb.XGBClassifier(objective='multi:softmax', num_class=3, gamma = 0.1, max_depth = 5, n_estimators = 500)\n",
    "xgb_model.fit(X_train, y_train)\n",
    "\n",
    "param_grid = {\n",
    "    \"learning_rate\": [0.01, 0.1, 0.3, 0.5],\n",
    "    \"n_estimators\": [100, 500, 1000],\n",
    "    \"gamma\": [0, 0.1, 0.3, 0.5],\n",
    "    'max_depth': [5, 10, 15],\n",
    "}\n",
    "\n",
    "# Realizar la búsqueda de hiperparámetros\n",
    "grid_search = GridSearchCV(estimator=xgb_model, param_grid=param_grid, scoring='r2', cv=3, verbose=1)\n",
    "grid_search.fit(X_train, y_train)\n",
    "\n",
    "# Mostrar los mejores hiperparámetros encontrados\n",
    "print(\"Mejores hiperparámetros sacarosa:\", grid_search.best_params_)"
   ]
  },
  {
   "cell_type": "code",
   "execution_count": 13,
   "metadata": {},
   "outputs": [
    {
     "name": "stdout",
     "output_type": "stream",
     "text": [
      "Precisión en el conjunto de prueba: 0.5235457063711911\n"
     ]
    }
   ],
   "source": [
    "# Dividir en conjuntos de entrenamiento y prueba\n",
    "X_train, X_test, y_train, y_test = train_test_split(drop_ipsa, catSac_ipsa, test_size=0.2, random_state=42)\n",
    "\n",
    "# Configuración del clasificador XGBoost\n",
    "xgb_model = xgb.XGBClassifier(objective='multi:softmax', num_class=3, gamma = 0.3, max_depth = 5, n_estimators = 100,learning_rate = 0.3)\n",
    "xgb_model.fit(X_train, y_train)\n",
    "\n",
    "y_pred = xgb_model.predict(X_test)\n",
    "\n",
    "# Calcular precisión\n",
    "accuracy = accuracy_score(y_test, y_pred)\n",
    "print(\"Precisión en el conjunto de prueba:\", accuracy)"
   ]
  },
  {
   "cell_type": "code",
   "execution_count": 14,
   "metadata": {},
   "outputs": [
    {
     "name": "stdout",
     "output_type": "stream",
     "text": [
      "Exactitud del modelo: 0.5235457063711911\n",
      "\n",
      "Matriz de Confusión:\n",
      " [[ 63  28  15]\n",
      " [ 43  22  46]\n",
      " [ 12  28 104]]\n",
      "\n",
      "Reporte de Clasificación:\n",
      "               precision    recall  f1-score   support\n",
      "\n",
      "           0       0.53      0.59      0.56       106\n",
      "           1       0.28      0.20      0.23       111\n",
      "           2       0.63      0.72      0.67       144\n",
      "\n",
      "    accuracy                           0.52       361\n",
      "   macro avg       0.48      0.50      0.49       361\n",
      "weighted avg       0.49      0.52      0.51       361\n",
      "\n"
     ]
    }
   ],
   "source": [
    "accuracy = accuracy_score(y_test, y_pred)\n",
    "conf_matrix = confusion_matrix(y_test, y_pred)\n",
    "class_report = classification_report(y_test, y_pred)\n",
    "\n",
    "print(\"Exactitud del modelo:\", accuracy)\n",
    "print(\"\\nMatriz de Confusión:\\n\", conf_matrix)\n",
    "print(\"\\nReporte de Clasificación:\\n\", class_report)"
   ]
  },
  {
   "cell_type": "markdown",
   "metadata": {},
   "source": [
    "### Amarillos"
   ]
  },
  {
   "cell_type": "code",
   "execution_count": 8,
   "metadata": {},
   "outputs": [
    {
     "name": "stdout",
     "output_type": "stream",
     "text": [
      "Fitting 3 folds for each of 144 candidates, totalling 432 fits\n",
      "Mejores hiperparámetros sacarosa: {'gamma': 0.3, 'learning_rate': 0.1, 'max_depth': 10, 'n_estimators': 500}\n"
     ]
    }
   ],
   "source": [
    "scaler = StandardScaler()\n",
    "X_train, X_test, y_train, y_test = train_test_split(scaler.fit_transform(drop_amarillos), catSac_amarillos, test_size=0.3, random_state=42)\n",
    "\n",
    "xgb_model = xgb.XGBClassifier(objective='multi:softmax', num_class=3, gamma = 0.1, max_depth = 5, n_estimators = 500)\n",
    "xgb_model.fit(X_train, y_train)\n",
    "\n",
    "\n",
    "param_grid = {\n",
    "    \"learning_rate\": [0.01, 0.1, 0.3, 0.5],\n",
    "    \"n_estimators\": [100, 500, 1000],\n",
    "    \"gamma\": [0, 0.1, 0.3, 0.5],\n",
    "    'max_depth': [5, 10, 15],\n",
    "}\n",
    "\n",
    "# Realizar la búsqueda de hiperparámetros\n",
    "grid_search = GridSearchCV(estimator=xgb_model, param_grid=param_grid, scoring='accuracy', cv=3, verbose=1)\n",
    "grid_search.fit(X_train, y_train)\n",
    "\n",
    "# Mostrar los mejores hiperparámetros encontrados\n",
    "print(\"Mejores hiperparámetros sacarosa:\", grid_search.best_params_)"
   ]
  },
  {
   "cell_type": "code",
   "execution_count": 15,
   "metadata": {},
   "outputs": [
    {
     "name": "stdout",
     "output_type": "stream",
     "text": [
      "Precisión en el conjunto de prueba: 0.9596036585365854\n",
      "0.9596036585365854\n"
     ]
    }
   ],
   "source": [
    "X_train, X_test, y_train, y_test = train_test_split(drop_amarillos, catSac_amarillos, test_size=0.3, random_state=42)\n",
    "\n",
    "# Configuración del clasificador XGBoost\n",
    "xgb_model = xgb.XGBClassifier(objective='multi:softmax', num_class=3, gamma = 0.3, max_depth = 10, n_estimators = 500, learning_rate=0.1)\n",
    "xgb_model.fit(X_train, y_train)\n",
    "\n",
    "y_pred = xgb_model.predict(X_test)\n",
    "\n",
    "# Calcular precisión\n",
    "accuracy = accuracy_score(y_test, y_pred)\n",
    "\n",
    "recall = recall_score(y_test, y_pred, average=\"weighted\")\n",
    "print(\"Precisión en el conjunto de prueba:\", accuracy)\n",
    "print(recall)"
   ]
  },
  {
   "cell_type": "code",
   "execution_count": 16,
   "metadata": {},
   "outputs": [
    {
     "name": "stdout",
     "output_type": "stream",
     "text": [
      "Exactitud del modelo: 0.9596036585365854\n",
      "\n",
      "Matriz de Confusión:\n",
      " [[821  14   0]\n",
      " [ 11 175   7]\n",
      " [  9  12 263]]\n",
      "\n",
      "Reporte de Clasificación:\n",
      "               precision    recall  f1-score   support\n",
      "\n",
      "           0       0.98      0.98      0.98       835\n",
      "           1       0.87      0.91      0.89       193\n",
      "           2       0.97      0.93      0.95       284\n",
      "\n",
      "    accuracy                           0.96      1312\n",
      "   macro avg       0.94      0.94      0.94      1312\n",
      "weighted avg       0.96      0.96      0.96      1312\n",
      "\n"
     ]
    }
   ],
   "source": [
    "accuracy = accuracy_score(y_test, y_pred)\n",
    "conf_matrix = confusion_matrix(y_test, y_pred)\n",
    "class_report = classification_report(y_test, y_pred)\n",
    "\n",
    "print(\"Exactitud del modelo:\", accuracy)\n",
    "print(\"\\nMatriz de Confusión:\\n\", conf_matrix)\n",
    "print(\"\\nReporte de Clasificación:\\n\", class_report)"
   ]
  },
  {
   "cell_type": "markdown",
   "metadata": {},
   "source": [
    "### Azules"
   ]
  },
  {
   "cell_type": "code",
   "execution_count": 10,
   "metadata": {},
   "outputs": [
    {
     "name": "stdout",
     "output_type": "stream",
     "text": [
      "Fitting 3 folds for each of 144 candidates, totalling 432 fits\n"
     ]
    },
    {
     "name": "stderr",
     "output_type": "stream",
     "text": [
      "c:\\Users\\camic\\OneDrive\\Documentos\\Inteligencia artificial\\Laboratorio2IA\\venv\\Lib\\site-packages\\numpy\\ma\\core.py:2881: RuntimeWarning: invalid value encountered in cast\n",
      "  _data = np.array(data, dtype=dtype, copy=copy,\n"
     ]
    },
    {
     "name": "stdout",
     "output_type": "stream",
     "text": [
      "Mejores hiperparámetros sacarosa: {'gamma': 0.1, 'learning_rate': 0.1, 'max_depth': 5, 'n_estimators': 500}\n"
     ]
    }
   ],
   "source": [
    "scaler = StandardScaler()\n",
    "X_train, X_test, y_train, y_test = train_test_split(scaler.fit_transform(drop_azules), catSac_azules, test_size=0.3, random_state=42)\n",
    "\n",
    "xgb_model = xgb.XGBClassifier(objective='multi:softmax', num_class=3, gamma = 0.1, max_depth = 5, n_estimators = 500)\n",
    "xgb_model.fit(X_train, y_train)\n",
    "\n",
    "\n",
    "param_grid = {\n",
    "    \"learning_rate\": [0.01, 0.1, 0.3, 0.5],\n",
    "    \"n_estimators\": [100, 500, 1000],\n",
    "    \"gamma\": [0, 0.1, 0.3, 0.5],\n",
    "    'max_depth': [5, 10, 15],\n",
    "}\n",
    "\n",
    "# Realizar la búsqueda de hiperparámetros\n",
    "grid_search = GridSearchCV(estimator=xgb_model, param_grid=param_grid, scoring='accuracy', cv=3, verbose=1)\n",
    "grid_search.fit(X_train, y_train)\n",
    "\n",
    "# Mostrar los mejores hiperparámetros encontrados\n",
    "print(\"Mejores hiperparámetros sacarosa:\", grid_search.best_params_)"
   ]
  },
  {
   "cell_type": "code",
   "execution_count": 17,
   "metadata": {},
   "outputs": [
    {
     "name": "stdout",
     "output_type": "stream",
     "text": [
      "Precisión en el conjunto de prueba: 0.9450923226433431\n"
     ]
    }
   ],
   "source": [
    "X_train, X_test, y_train, y_test = train_test_split(drop_azules, catSac_azules, test_size=0.3, random_state=42)\n",
    "\n",
    "# Configuración del clasificador XGBoost\n",
    "xgb_model = xgb.XGBClassifier(objective='multi:softmax', num_class=3, gamma = 0.1, max_depth = 5, learning_rate = 0.1, n_estimators = 500)\n",
    "xgb_model.fit(X_train, y_train)\n",
    "\n",
    "y_pred = xgb_model.predict(X_test)\n",
    "\n",
    "# Calcular precisión\n",
    "accuracy = accuracy_score(y_test, y_pred)\n",
    "print(\"Precisión en el conjunto de prueba:\", accuracy)"
   ]
  },
  {
   "cell_type": "code",
   "execution_count": 18,
   "metadata": {},
   "outputs": [
    {
     "name": "stdout",
     "output_type": "stream",
     "text": [
      "Exactitud del modelo: 0.9450923226433431\n",
      "\n",
      "Matriz de Confusión:\n",
      " [[3320   59   14]\n",
      " [ 105  949   51]\n",
      " [  54   56 1566]]\n",
      "\n",
      "Reporte de Clasificación:\n",
      "               precision    recall  f1-score   support\n",
      "\n",
      "           0       0.95      0.98      0.97      3393\n",
      "           1       0.89      0.86      0.88      1105\n",
      "           2       0.96      0.93      0.95      1676\n",
      "\n",
      "    accuracy                           0.95      6174\n",
      "   macro avg       0.94      0.92      0.93      6174\n",
      "weighted avg       0.94      0.95      0.94      6174\n",
      "\n"
     ]
    }
   ],
   "source": [
    "accuracy = accuracy_score(y_test, y_pred)\n",
    "conf_matrix = confusion_matrix(y_test, y_pred)\n",
    "class_report = classification_report(y_test, y_pred)\n",
    "\n",
    "print(\"Exactitud del modelo:\", accuracy)\n",
    "print(\"\\nMatriz de Confusión:\\n\", conf_matrix)\n",
    "print(\"\\nReporte de Clasificación:\\n\", class_report)"
   ]
  },
  {
   "cell_type": "markdown",
   "metadata": {},
   "source": [
    "## SVM"
   ]
  },
  {
   "cell_type": "markdown",
   "metadata": {},
   "source": [
    "### Amarillos"
   ]
  },
  {
   "cell_type": "code",
   "execution_count": 5,
   "metadata": {},
   "outputs": [
    {
     "name": "stdout",
     "output_type": "stream",
     "text": [
      "Mejores hiperparámetros sacarosa: {'C': 100, 'gamma': 'scale', 'kernel': 'linear'}\n"
     ]
    }
   ],
   "source": [
    "import warnings\n",
    "\n",
    "warnings.filterwarnings('ignore')\n",
    "scaler = StandardScaler()\n",
    "X_train, X_test, y_train, y_test = train_test_split(scaler.fit_transform(drop_amarillos), catSac_amarillos, test_size=0.3, random_state=42)\n",
    "\n",
    "\n",
    "\n",
    "param_grid = {\n",
    "    'C': [0.1, 1, 10, 100],\n",
    "    'kernel': ['linear', 'rbf', 'poly'],\n",
    "    'gamma': ['scale', 'auto', 0.001, 0.01, 0.1, 1],\n",
    "    #'degree': [2, 3, 4]  # Solo se usará si kernel='poly'\n",
    "}\n",
    "\n",
    "# Realizar la búsqueda de hiperparámetros\n",
    "grid_search = GridSearchCV(estimator=SVC(), param_grid=param_grid, scoring='accuracy', cv=5, n_jobs=-1)\n",
    "grid_search.fit(X_train, y_train)\n",
    "\n",
    "# Mostrar los mejores hiperparámetros encontrados\n",
    "print(\"Mejores hiperparámetros sacarosa:\", grid_search.best_params_)\n"
   ]
  },
  {
   "cell_type": "code",
   "execution_count": 14,
   "metadata": {},
   "outputs": [
    {
     "name": "stdout",
     "output_type": "stream",
     "text": [
      "Sacarosa:  0.9375\n",
      "              precision    recall  f1-score   support\n",
      "\n",
      "           0       0.97      0.98      0.98       835\n",
      "           1       0.81      0.79      0.80       193\n",
      "           2       0.91      0.92      0.91       284\n",
      "\n",
      "    accuracy                           0.94      1312\n",
      "   macro avg       0.90      0.90      0.90      1312\n",
      "weighted avg       0.94      0.94      0.94      1312\n",
      "\n"
     ]
    }
   ],
   "source": [
    "# Sacarosa\n",
    "# Normalize the features\n",
    "scaler = StandardScaler()\n",
    "X_scaled = scaler.fit_transform(drop_amarillos)\n",
    "\n",
    "# Split data into training and testing sets\n",
    "X_train, X_test, y_train, y_test = train_test_split(X_scaled, catSac_amarillos, test_size=0.3, random_state=42)\n",
    "\n",
    "\n",
    "# Train the SVM model on the classified `%Sac.Caña`\n",
    "svm_model_sacarosa = SVC(kernel='linear', gamma='scale', C=100)\n",
    "svm_model_sacarosa.fit(X_train, y_train)\n",
    "\n",
    "# Predictions and evaluation\n",
    "y_pred_sacarosa = svm_model_sacarosa.predict(X_test)\n",
    "\n",
    "accuracy_sacarosa = accuracy_score(y_test, y_pred_sacarosa)\n",
    "\n",
    "#report = classification_report(y_test, y_pred)\n",
    "\n",
    "print(\"Sacarosa: \",accuracy_sacarosa)\n",
    "report = classification_report(y_test, y_pred_sacarosa)\n",
    "print(report)"
   ]
  },
  {
   "cell_type": "markdown",
   "metadata": {},
   "source": [
    "### Azules"
   ]
  },
  {
   "cell_type": "code",
   "execution_count": 8,
   "metadata": {},
   "outputs": [
    {
     "name": "stdout",
     "output_type": "stream",
     "text": [
      "Mejores hiperparámetros sacarosa: {'C': 100, 'gamma': 'scale', 'kernel': 'linear'}\n"
     ]
    }
   ],
   "source": [
    "import warnings\n",
    "\n",
    "warnings.filterwarnings('ignore')\n",
    "scaler = StandardScaler()\n",
    "X_train, X_test, y_train, y_test = train_test_split(scaler.fit_transform(drop_azules), catSac_azules, test_size=0.3, random_state=42)\n",
    "\n",
    "\n",
    "\n",
    "param_grid = {\n",
    "    'C': [1, 10, 100],\n",
    "    'kernel': ['linear', 'rbf', 'poly'],\n",
    "    'gamma': ['scale', 'auto',  0.1, 1],\n",
    "    #'degree': [2, 3, 4]  # Solo se usará si kernel='poly'\n",
    "}\n",
    "\n",
    "# Realizar la búsqueda de hiperparámetros\n",
    "grid_search = GridSearchCV(estimator=SVC(), param_grid=param_grid, scoring='accuracy', cv=5, n_jobs=-1)\n",
    "grid_search.fit(X_train, y_train)\n",
    "\n",
    "# Mostrar los mejores hiperparámetros encontrados\n",
    "print(\"Mejores hiperparámetros sacarosa:\", grid_search.best_params_)\n"
   ]
  },
  {
   "cell_type": "code",
   "execution_count": 15,
   "metadata": {},
   "outputs": [
    {
     "name": "stdout",
     "output_type": "stream",
     "text": [
      "Sacarosa:  0.9086491739552964\n",
      "              precision    recall  f1-score   support\n",
      "\n",
      "           0       0.93      0.97      0.95      3393\n",
      "           1       0.80      0.72      0.76      1105\n",
      "           2       0.92      0.91      0.91      1676\n",
      "\n",
      "    accuracy                           0.91      6174\n",
      "   macro avg       0.89      0.87      0.88      6174\n",
      "weighted avg       0.91      0.91      0.91      6174\n",
      "\n"
     ]
    }
   ],
   "source": [
    "\n",
    "# Normalize the features\n",
    "scaler = StandardScaler()\n",
    "X_scaled = scaler.fit_transform(drop_azules)\n",
    "\n",
    "# Split data into training and testing sets\n",
    "X_train, X_test, y_train, y_test = train_test_split(X_scaled, catSac_azules, test_size=0.3, random_state=42)\n",
    "\n",
    "\n",
    "# Train the SVM model on the classified `%Sac.Caña`\n",
    "svm_model_sacarosa = SVC(kernel='linear', gamma='scale', C=100)\n",
    "svm_model_sacarosa.fit(X_train, y_train)\n",
    "\n",
    "# Predictions and evaluation\n",
    "y_pred_sacarosa = svm_model_sacarosa.predict(X_test)\n",
    "\n",
    "accuracy_sacarosa = accuracy_score(y_test, y_pred_sacarosa)\n",
    "\n",
    "#report = classification_report(y_test, y_pred)\n",
    "\n",
    "print(\"Sacarosa: \",accuracy_sacarosa)\n",
    "report = classification_report(y_test, y_pred_sacarosa)\n",
    "print(report)"
   ]
  },
  {
   "cell_type": "markdown",
   "metadata": {},
   "source": [
    "### IPSA"
   ]
  },
  {
   "cell_type": "code",
   "execution_count": 9,
   "metadata": {},
   "outputs": [
    {
     "name": "stdout",
     "output_type": "stream",
     "text": [
      "Mejores hiperparámetros sacarosa: {'C': 1, 'gamma': 'auto', 'kernel': 'rbf'}\n"
     ]
    }
   ],
   "source": [
    "import warnings\n",
    "\n",
    "warnings.filterwarnings('ignore')\n",
    "scaler = StandardScaler()\n",
    "X_train, X_test, y_train, y_test = train_test_split(scaler.fit_transform(drop_ipsa), catSac_ipsa, test_size=0.3, random_state=42)\n",
    "\n",
    "\n",
    "\n",
    "param_grid = {\n",
    "    'C': [0.1, 1, 10, 100],\n",
    "    'kernel': ['linear', 'rbf', 'poly'],\n",
    "    'gamma': ['scale', 'auto', 0.001, 0.01, 0.1, 1],\n",
    "    #'degree': [2, 3, 4]  # Solo se usará si kernel='poly'|\n",
    "}\n",
    "\n",
    "# Realizar la búsqueda de hiperparámetros\n",
    "grid_search = GridSearchCV(estimator=SVC(), param_grid=param_grid, scoring='accuracy', cv=5, n_jobs=-1)\n",
    "grid_search.fit(X_train, y_train)\n",
    "\n",
    "# Mostrar los mejores hiperparámetros encontrados\n",
    "print(\"Mejores hiperparámetros sacarosa:\", grid_search.best_params_)\n"
   ]
  },
  {
   "cell_type": "code",
   "execution_count": 23,
   "metadata": {},
   "outputs": [
    {
     "name": "stdout",
     "output_type": "stream",
     "text": [
      "Sacarosa:  0.5194085027726433\n",
      "              precision    recall  f1-score   support\n",
      "\n",
      "           0       0.51      0.60      0.55       167\n",
      "           1       0.38      0.18      0.24       159\n",
      "           2       0.57      0.71      0.63       215\n",
      "\n",
      "    accuracy                           0.52       541\n",
      "   macro avg       0.48      0.50      0.47       541\n",
      "weighted avg       0.49      0.52      0.49       541\n",
      "\n"
     ]
    }
   ],
   "source": [
    "# Normalize the features\n",
    "scaler = StandardScaler()\n",
    "X_scaled = scaler.fit_transform(drop_ipsa)\n",
    "\n",
    "# Split data into training and testing sets\n",
    "X_train, X_test, y_train, y_test = train_test_split(X_scaled, catSac_ipsa, test_size=0.3, random_state=42)\n",
    "\n",
    "\n",
    "# Train the SVM model on the classified `%Sac.Caña`\n",
    "svm_model_sacarosa = SVC(kernel='rbf', gamma='auto', C=1)\n",
    "svm_model_sacarosa.fit(X_train, y_train)\n",
    "\n",
    "# Predictions and evaluation\n",
    "y_pred_sacarosa = svm_model_sacarosa.predict(X_test)\n",
    "\n",
    "accuracy_sacarosa = accuracy_score(y_test, y_pred_sacarosa)\n",
    "\n",
    "#report = classification_report(y_test, y_pred)\n",
    "\n",
    "print(\"Sacarosa: \",accuracy_sacarosa)\n",
    "report = classification_report(y_test, y_pred_sacarosa)\n",
    "print(report)"
   ]
  },
  {
   "cell_type": "markdown",
   "metadata": {},
   "source": [
    "# PCA"
   ]
  },
  {
   "cell_type": "markdown",
   "metadata": {},
   "source": [
    "### Amarillos"
   ]
  },
  {
   "cell_type": "code",
   "execution_count": 29,
   "metadata": {},
   "outputs": [
    {
     "name": "stdout",
     "output_type": "stream",
     "text": [
      "Número de componentes para conservar el 80% de la varianza: 21\n"
     ]
    },
    {
     "data": {
      "image/png": "[encoded data removed]",
      "text/plain": [
       "<Figure size 1000x600 with 1 Axes>"
      ]
     },
     "metadata": {},
     "output_type": "display_data"
    }
   ],
   "source": [
    "#Normalizar las características\n",
    "scaler = StandardScaler()\n",
    "data_normalized_amarillos = scaler.fit_transform(drop_amarillos)\n",
    "\n",
    "#Aplicar PCA\n",
    "pca_amarillos = PCA()\n",
    "pca_amarillos.fit_transform(data_normalized_amarillos)\n",
    "\n",
    "#Varianza acumulada por cada componente\n",
    "varianza_acumulada = np.cumsum(pca_amarillos.explained_variance_ratio_)\n",
    "\n",
    "#Elegir el número de componentes para el 80% de varianza\n",
    "n_componentes = np.argmax(varianza_acumulada >= 0.8) + 1\n",
    "\n",
    "#Imprimir el número de componentes necesarios\n",
    "print(f\"Número de componentes para conservar el 80% de la varianza: {n_componentes}\")\n",
    "\n",
    "#Graficar la varianza acumulada\n",
    "plt.figure(figsize=(10, 6))\n",
    "plt.plot(range(1, len(varianza_acumulada) + 1), varianza_acumulada, marker='o')\n",
    "plt.axhline(y=0.8, color='r', linestyle='--')\n",
    "plt.title('Varianza Acumulada por Número de Componentes')\n",
    "plt.xlabel('Número de Componentes')\n",
    "plt.ylabel('Varianza Acumulada')\n",
    "plt.show()"
   ]
  },
  {
   "cell_type": "markdown",
   "metadata": {},
   "source": [
    "### Azules"
   ]
  },
  {
   "cell_type": "code",
   "execution_count": 30,
   "metadata": {},
   "outputs": [
    {
     "name": "stdout",
     "output_type": "stream",
     "text": [
      "Número de componentes para conservar el 80% de la varianza: 21\n"
     ]
    },
    {
     "data": {
      "image/png": "[encoded data removed]",
      "text/plain": [
       "<Figure size 1000x600 with 1 Axes>"
      ]
     },
     "metadata": {},
     "output_type": "display_data"
    }
   ],
   "source": [
    "#Normalizar las características\n",
    "scaler = StandardScaler()\n",
    "data_normalized_azules = scaler.fit_transform(drop_azules)\n",
    "\n",
    "#Aplicar PCA\n",
    "pca_azules = PCA()\n",
    "pca_azules.fit(data_normalized_azules)\n",
    "\n",
    "#Varianza acumulada por cada componente\n",
    "varianza_acumulada = np.cumsum(pca_azules.explained_variance_ratio_)\n",
    "\n",
    "#Elegir el número de componentes para el 80% de varianza\n",
    "n_componentes = np.argmax(varianza_acumulada >= 0.8) + 1\n",
    "\n",
    "#Imprimir el número de componentes necesarios\n",
    "print(f\"Número de componentes para conservar el 80% de la varianza: {n_componentes}\")\n",
    "\n",
    "#Graficar la varianza acumulada\n",
    "plt.figure(figsize=(10, 6))\n",
    "plt.plot(range(1, len(varianza_acumulada) + 1), varianza_acumulada, marker='o')\n",
    "plt.axhline(y=0.8, color='r', linestyle='--')\n",
    "plt.title('Varianza Acumulada por Número de Componentes')\n",
    "plt.xlabel('Número de Componentes')\n",
    "plt.ylabel('Varianza Acumulada')\n",
    "plt.show()"
   ]
  },
  {
   "cell_type": "markdown",
   "metadata": {},
   "source": [
    "### IPSA"
   ]
  },
  {
   "cell_type": "code",
   "execution_count": 31,
   "metadata": {},
   "outputs": [
    {
     "name": "stdout",
     "output_type": "stream",
     "text": [
      "Número de componentes para conservar el 80% de la varianza: 8\n"
     ]
    },
    {
     "data": {
      "image/png": "[encoded data removed]",
      "text/plain": [
       "<Figure size 1000x600 with 1 Axes>"
      ]
     },
     "metadata": {},
     "output_type": "display_data"
    }
   ],
   "source": [
    "#Normalizar las características\n",
    "scaler = StandardScaler()\n",
    "data_normalized_ipsa = scaler.fit_transform(drop_ipsa)\n",
    "\n",
    "#Aplicar PCA\n",
    "pca_ipsa = PCA()\n",
    "pca_ipsa.fit(data_normalized_ipsa)\n",
    "\n",
    "#Varianza acumulada por cada componente\n",
    "varianza_acumulada = np.cumsum(pca_ipsa.explained_variance_ratio_)\n",
    "\n",
    "#Elegir el número de componentes para el 80% de varianza\n",
    "n_componentes = np.argmax(varianza_acumulada >= 0.8) + 1\n",
    "\n",
    "#Imprimir el número de componentes necesarios\n",
    "print(f\"Número de componentes para conservar el 80% de la varianza: {n_componentes}\")\n",
    "\n",
    "#Graficar la varianza acumulada\n",
    "plt.figure(figsize=(10, 6))\n",
    "plt.plot(range(1, len(varianza_acumulada) + 1), varianza_acumulada, marker='o')\n",
    "plt.axhline(y=0.8, color='r', linestyle='--')\n",
    "plt.title('Varianza Acumulada por Número de Componentes')\n",
    "plt.xlabel('Número de Componentes')\n",
    "plt.ylabel('Varianza Acumulada')\n",
    "plt.show()"
   ]
  },
  {
   "cell_type": "markdown",
   "metadata": {},
   "source": [
    "## K-Means"
   ]
  },
  {
   "cell_type": "markdown",
   "metadata": {},
   "source": [
    "### Ipsa"
   ]
  },
  {
   "cell_type": "code",
   "execution_count": 33,
   "metadata": {},
   "outputs": [
    {
     "name": "stdout",
     "output_type": "stream",
     "text": [
      "El mejor número de clústeres es: 2\n"
     ]
    },
    {
     "data": {
      "image/png": "[encoded data removed]",
      "text/plain": [
       "<Figure size 800x500 with 1 Axes>"
      ]
     },
     "metadata": {},
     "output_type": "display_data"
    },
    {
     "name": "stdout",
     "output_type": "stream",
     "text": [
      "Características de cada clúster:\n",
      "                  FAZ  dosismad   semsmad       edad    cortes        me  \\\n",
      "Cluster                                                                    \n",
      "0        80405.412913  1.182132  9.116667  12.645646  2.878378  9.119219   \n",
      "1        80717.285840  0.866843  8.293843  12.487423  2.861917  9.237027   \n",
      "\n",
      "            vejez   sacarosa       mes        periodo         TCH     lluvias  \\\n",
      "Cluster                                                                         \n",
      "0        5.607057  12.853303  7.066066  201840.849850  141.560060  174.361862   \n",
      "1        3.204046  12.820932  6.613896  201937.748461  142.270888   43.852243   \n",
      "\n",
      "         grupo_tenencia  pct_diatrea    catSac  \n",
      "Cluster                                         \n",
      "0              1.825826     3.867568  1.067568  \n",
      "1              2.818821     3.740281  1.066843  \n"
     ]
    }
   ],
   "source": [
    "from sklearn.cluster import KMeans\n",
    "from sklearn.metrics import silhouette_score\n",
    "\n",
    "# Aplicamos PCA con el número de componentes necesarios (n_componentes encontrado antes)\n",
    "data_pca_ipsa = pca_ipsa.transform(data_normalized_ipsa)[:, :8]\n",
    "\n",
    "# Probar entre 2 y 5 clústeres\n",
    "scores = []\n",
    "for n_clusters in range(2, 6):\n",
    "    kmeans = KMeans(n_clusters=n_clusters, random_state=42)\n",
    "    kmeans.fit(data_pca_ipsa)\n",
    "    score = silhouette_score(data_pca_ipsa, kmeans.labels_)\n",
    "    scores.append(score)\n",
    "    \n",
    "# Determinar el número óptimo de clústeres\n",
    "best_n_clusters = np.argmax(scores) + 2\n",
    "print(f\"El mejor número de clústeres es: {best_n_clusters}\")\n",
    "\n",
    "# Visualizar las puntuaciones de silueta\n",
    "plt.figure(figsize=(8, 5))\n",
    "plt.plot(range(2, 6), scores, marker='o')\n",
    "plt.title(\"Silhouette Score por Número de Clústeres\")\n",
    "plt.xlabel(\"Número de Clústeres\")\n",
    "plt.ylabel(\"Silhouette Score\")\n",
    "plt.show()\n",
    "\n",
    "# Aplicar K-means con el mejor número de clústeres encontrado\n",
    "kmeans_final = KMeans(n_clusters=best_n_clusters, random_state=42)\n",
    "drop_ipsa_clean['Cluster'] = kmeans_final.fit_predict(data_pca_ipsa)\n",
    "\n",
    "# Caracterizar cada clúster según las variables originales\n",
    "cluster_characteristics = drop_ipsa_clean.groupby('Cluster').mean()\n",
    "print(\"Características de cada clúster:\")\n",
    "print(cluster_characteristics)\n"
   ]
  },
  {
   "cell_type": "markdown",
   "metadata": {},
   "source": [
    "### Amarillo"
   ]
  },
  {
   "cell_type": "code",
   "execution_count": 37,
   "metadata": {},
   "outputs": [
    {
     "name": "stdout",
     "output_type": "stream",
     "text": [
      "El mejor número de clústeres es: 2\n"
     ]
    },
    {
     "data": {
      "image/png": "[encoded data removed]",
      "text/plain": [
       "<Figure size 800x500 with 1 Axes>"
      ]
     },
     "metadata": {},
     "output_type": "display_data"
    },
    {
     "name": "stdout",
     "output_type": "stream",
     "text": [
      "Características de cada clúster:\n",
      "             Hacienda      Zona   Tenencia      Suerte      Suelo  Area Neta  \\\n",
      "Cluster                                                                        \n",
      "0        80288.101215  1.925607  22.160425  151.830972  15.940283   0.152535   \n",
      "1        80661.677514  2.405090  57.871089   58.775136  21.278682   0.162869   \n",
      "\n",
      "          Dist Km  Variedad  Cod.Estado #  Cod.Estado  ...  \\\n",
      "Cluster                                                ...   \n",
      "0        0.192728  4.120445      3.559717    4.261134  ...   \n",
      "1        0.267852  4.392157      5.509804    5.921569  ...   \n",
      "\n",
      "         Radicion Solar 0-3  Radiacion Solar Ciclo  Precipitacion 0_3  \\\n",
      "Cluster                                                                 \n",
      "0                434.495850             436.620896         309.164980   \n",
      "1                435.083729             439.623232         292.601168   \n",
      "\n",
      "         Precipitacion Ciclo  Evaporacion 0-3  Evaporacion Ciclo  \\\n",
      "Cluster                                                            \n",
      "0                1246.013158       440.229251        1889.409615   \n",
      "1                1195.991698       443.590029        1954.271631   \n",
      "\n",
      "         DS_indicator    catSac  Mes Siembra  Mes Ult.Corte  \n",
      "Cluster                                                      \n",
      "0            0.952429  0.514170     6.553138       6.553138  \n",
      "1            0.020442  0.628285     6.342094       6.342094  \n",
      "\n",
      "[2 rows x 64 columns]\n"
     ]
    }
   ],
   "source": [
    "# Aplicamos PCA con el número de componentes necesarios (n_componentes encontrado antes)\n",
    "data_pca_amarillos = pca_amarillos.transform(data_normalized_amarillos)[:, :21]\n",
    "\n",
    "# Probar entre 2 y 5 clústeres\n",
    "scores = []\n",
    "for n_clusters in range(2, 6):\n",
    "    kmeans = KMeans(n_clusters=n_clusters, random_state=42)\n",
    "    kmeans.fit(data_pca_amarillos)\n",
    "    score = silhouette_score(data_pca_amarillos, kmeans.labels_)\n",
    "    scores.append(score)\n",
    "    \n",
    "# Determinar el número óptimo de clústeres\n",
    "best_n_clusters = np.argmax(scores) + 2\n",
    "print(f\"El mejor número de clústeres es: {best_n_clusters}\")\n",
    "\n",
    "# Visualizar las puntuaciones de silueta\n",
    "plt.figure(figsize=(8, 5))\n",
    "plt.plot(range(2, 6), scores, marker='o')\n",
    "plt.title(\"Silhouette Score por Número de Clústeres\")\n",
    "plt.xlabel(\"Número de Clústeres\")\n",
    "plt.ylabel(\"Silhouette Score\")\n",
    "plt.show()\n",
    "\n",
    "# Aplicar K-means con el mejor número de clústeres encontrado\n",
    "kmeans_final = KMeans(n_clusters=best_n_clusters, random_state=42)\n",
    "drop_amarillos_clean['Cluster'] = kmeans_final.fit_predict(data_pca_amarillos)\n",
    "\n",
    "# Caracterizar cada clúster según las variables originales\n",
    "cluster_characteristics = drop_amarillos_clean.groupby('Cluster').mean()\n",
    "print(\"Características de cada clúster:\")\n",
    "print(cluster_characteristics)\n"
   ]
  },
  {
   "cell_type": "markdown",
   "metadata": {},
   "source": [
    "### Azules"
   ]
  },
  {
   "cell_type": "code",
   "execution_count": 39,
   "metadata": {},
   "outputs": [
    {
     "name": "stdout",
     "output_type": "stream",
     "text": [
      "El mejor número de clústeres es: 2\n"
     ]
    },
    {
     "data": {
      "image/png": "[encoded data removed]",
      "text/plain": [
       "<Figure size 800x500 with 1 Axes>"
      ]
     },
     "metadata": {},
     "output_type": "display_data"
    },
    {
     "name": "stdout",
     "output_type": "stream",
     "text": [
      "Características de cada clúster:\n",
      "             Hacienda      Zona   Tenencia      Suerte      Suelo  Area Neta  \\\n",
      "Cluster                                                                        \n",
      "0        80857.194819  1.816162  59.249136  104.828821  26.884064   0.136511   \n",
      "1        80448.822407  2.113424  29.976529  186.786912  22.350098   0.130481   \n",
      "\n",
      "          Dist Km   Variedad  Cod.Estado #  Cod.Estado  ...  Lluvias 0 -3  \\\n",
      "Cluster                                                 ...                 \n",
      "0        0.185944   6.488306      4.968313    5.636432  ...     34.896162   \n",
      "1        0.135119  10.605157      3.395421    4.027171  ...    239.102665   \n",
      "\n",
      "         Lluvias tres a seis  Lluvias seis a nueve  Luvias 9 -FC  \\\n",
      "Cluster                                                            \n",
      "0                  31.617914             29.710063     39.041601   \n",
      "1                 238.710154            237.652855    342.512031   \n",
      "\n",
      "         %Infest.Diatrea  Fosfato Jugo  DS_indicator    catSac  Mes Siembra  \\\n",
      "Cluster                                                                       \n",
      "0               0.026246      0.002331      0.016179  0.749015     6.331713   \n",
      "1               0.045630      0.002342      0.767603  0.704475     6.481559   \n",
      "\n",
      "         Mes Ult.Corte  \n",
      "Cluster                 \n",
      "0             6.538100  \n",
      "1             6.272748  \n",
      "\n",
      "[2 rows x 48 columns]\n"
     ]
    }
   ],
   "source": [
    "# Aplicamos PCA con el número de componentes necesarios (n_componentes encontrado antes)\n",
    "data_pca_azules = pca_azules.transform(data_normalized_azules)[:, :20]\n",
    "\n",
    "# Probar entre 2 y 5 clústeres\n",
    "scores = []\n",
    "for n_clusters in range(2, 6):\n",
    "    kmeans = KMeans(n_clusters=n_clusters, random_state=42)\n",
    "    kmeans.fit(data_pca_azules)\n",
    "    score = silhouette_score(data_pca_azules, kmeans.labels_)\n",
    "    scores.append(score)\n",
    "    \n",
    "# Determinar el número óptimo de clústeres\n",
    "best_n_clusters = np.argmax(scores) + 2\n",
    "print(f\"El mejor número de clústeres es: {best_n_clusters}\")\n",
    "\n",
    "# Visualizar las puntuaciones de silueta\n",
    "plt.figure(figsize=(8, 5))\n",
    "plt.plot(range(2, 6), scores, marker='o')\n",
    "plt.title(\"Silhouette Score por Número de Clústeres\")\n",
    "plt.xlabel(\"Número de Clústeres\")\n",
    "plt.ylabel(\"Silhouette Score\")\n",
    "plt.show()\n",
    "\n",
    "# Aplicar K-means con el mejor número de clústeres encontrado\n",
    "kmeans_final = KMeans(n_clusters=best_n_clusters, random_state=42)\n",
    "drop_azules_clean['Cluster'] = kmeans_final.fit_predict(data_pca_azules)\n",
    "\n",
    "# Caracterizar cada clúster según las variables originales\n",
    "cluster_characteristics = drop_azules_clean.groupby('Cluster').mean()\n",
    "print(\"Características de cada clúster:\")\n",
    "print(cluster_characteristics)\n"
   ]
  }
 ],
 "metadata": {
  "kernelspec": {
   "display_name": "venv",
   "language": "python",
   "name": "python3"
  },
  "language_info": {
   "codemirror_mode": {
    "name": "ipython",
    "version": 3
   },
   "file_extension": ".py",
   "mimetype": "text/x-python",
   "name": "python",
   "nbconvert_exporter": "python",
   "pygments_lexer": "ipython3",
   "version": "3.11.5"
  }
 },
 "nbformat": 4,
 "nbformat_minor": 2
}
